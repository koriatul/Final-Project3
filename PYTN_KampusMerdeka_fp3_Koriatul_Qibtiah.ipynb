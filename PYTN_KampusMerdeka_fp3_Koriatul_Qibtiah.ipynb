{
  "cells": [
    {
      "cell_type": "markdown",
      "metadata": {
        "id": "view-in-github",
        "colab_type": "text"
      },
      "source": [
        "<a href=\"https://colab.research.google.com/github/koriatul/Final-Project3/blob/main/PYTN_KampusMerdeka_fp3_Koriatul_Qibtiah.ipynb\" target=\"_parent\"><img src=\"https://colab.research.google.com/assets/colab-badge.svg\" alt=\"Open In Colab\"/></a>"
      ]
    },
    {
      "cell_type": "markdown",
      "metadata": {
        "id": "fBcdaPzJjONY"
      },
      "source": [
        "<img src = \"https://global-uploads.webflow.com/5f0d53c042a9ed6288de7f8d/5f6337ae2cfaa10946ceeb06_Hacktiv8%20logo%20horizontal%2001%20black-p-500.png\" width = 500>\n",
        "<h1 align=center><font size = 6,5>Final Project 3</font></h1> \n",
        "\n",
        "<h2> Group 4 <h2>\n",
        "\n",
        "- Gilbert Aryaduta Pinem\n",
        "- Dian Pramesti\n",
        "- Irfan Musa\n",
        "- Koriatul Qibtiah\n",
        "\n",
        "PYTN-KS-011 <br> \n",
        "Studi Independen - Kampus Merdeka"
      ]
    },
    {
      "cell_type": "markdown",
      "metadata": {
        "id": "PRet5GfjjbTP"
      },
      "source": [
        "# 1. PERKENALAN"
      ]
    },
    {
      "cell_type": "markdown",
      "metadata": {
        "id": "QmRvY6V-jiaL"
      },
      "source": [
        "## 1.1 Latar Belakang\n",
        "\n",
        "Penyakit kardiovaskular (CVD) adalah penyebab kematian nomor 1 secara global. Berdasarkan data global, diperkirakan tiap tahunnya 17.9 juta jiwa direnggut oleh CVD. Oleh karena itu, CVD menyumbang sebanyak 31% dari semua kematian di seluruh dunia. Gagal jantung merupakan peristiwa umum yang disebabkan oleh CVD. Dataset yang akan digunakan berisi 12 atribut untuk memprediksi kematian akibat gagal jantung.\n",
        "\n",
        "Disisi lain, sebagian besar CVD dapat dicegah dengan mengatasi faktor risiko perilaku. Adapun faktor-faktor yang dimaksud seperti penggunaan tembakau, obesitas, dan penggunaan alkohol berlebihan. Pasien CVD atau seseorang yang rentan terhadap CVD memerlukan deteksi dini agar dapat segera terobati. Oleh karena itu, diperlukan suatu model yang dapat membantu hal tersebut."
      ]
    },
    {
      "cell_type": "markdown",
      "metadata": {
        "id": "X0oJTbDajqQb"
      },
      "source": [
        "## 1.2 Dataset\n",
        "Dataset yang digunakan adalah dataset yang berjudul heart failure clinical records, diambil dari website kaggle <a href=\"https://www.kaggle.com/datasets/andrewmvd/heart-failure-clinical-data?resource=download\" title=\"Heart Failure Prediction\">Heart Failure Prediction</a>\n",
        "\n",
        "Dataset berisikan faktor-faktor kematian oleh gagal jantung yang memiliki 13 atribut kolom dengan 299 atribut baris. Atribut yang menjadi target ialah atribut Death Event/Kematian dan atribut lainnya akan menjadi prediktor."
      ]
    },
    {
      "cell_type": "markdown",
      "metadata": {
        "id": "2lJhfmmjkO2y"
      },
      "source": [
        "## 1.3 Objektif yang ingin dicapai\n",
        "\n",
        "Objektif yang ingin dicapai melalui analisis yang dilakukan ialah :\n",
        "\n",
        "- Mengetahui faktor-faktor yang memengaruhi prediksi kematian oleh penyakit gagal jantung secara signifikan.\n",
        "- Memprediksi kematian menggunakan metode ensemble berdasar pada faktor-faktor yang memengaruhinya."
      ]
    },
    {
      "cell_type": "markdown",
      "metadata": {
        "id": "s8HX8XXnkYAu"
      },
      "source": [
        "# 2. IMPORT PUSTAKA YANG DIBUTUHKAN"
      ]
    },
    {
      "cell_type": "markdown",
      "metadata": {
        "id": "8nIBcdCqkaD3"
      },
      "source": [
        "## 2.1 Import Pustaka"
      ]
    },
    {
      "cell_type": "code",
      "execution_count": null,
      "metadata": {
        "id": "78hIOqYOiuqL"
      },
      "outputs": [],
      "source": [
        "%matplotlib inline\n",
        "import pandas as pd\n",
        "import numpy as np\n",
        "import matplotlib.pyplot as plt\n",
        "import seaborn as sns\n",
        "import imblearn\n",
        "from sklearn.model_selection import train_test_split\n",
        "from sklearn.linear_model import LogisticRegression\n",
        "from sklearn.ensemble import RandomForestClassifier\n",
        "from sklearn.neighbors import KNeighborsClassifier\n",
        "from sklearn.tree import DecisionTreeClassifier\n",
        "from sklearn.ensemble import ExtraTreesClassifier\n",
        "from sklearn.ensemble import GradientBoostingClassifier\n",
        "from sklearn.metrics import classification_report\n",
        "from sklearn.metrics import confusion_matrix\n",
        "from sklearn.metrics import accuracy_score,f1_score, precision_score, recall_score\n",
        "import pickle\n",
        "\n",
        "import warnings\n",
        "warnings.filterwarnings('ignore')"
      ]
    },
    {
      "cell_type": "markdown",
      "metadata": {
        "id": "a8HAhCvkkr7e"
      },
      "source": [
        "# 3. DATA LOADING\n",
        "\n",
        "Dataset yang digunakan adalah heart_failure_clinical_records_dataset.csv"
      ]
    },
    {
      "cell_type": "markdown",
      "metadata": {
        "id": "LilyV36ik7NY"
      },
      "source": [
        "## 3.1 Proses Data Loading"
      ]
    },
    {
      "cell_type": "code",
      "execution_count": null,
      "metadata": {
        "colab": {
          "base_uri": "https://localhost:8080/"
        },
        "id": "gubD395gk8uP",
        "outputId": "e74336bf-456d-409c-ca28-a07f0d641423"
      },
      "outputs": [
        {
          "name": "stderr",
          "output_type": "stream",
          "text": [
            "'gdown' is not recognized as an internal or external command,\n",
            "operable program or batch file.\n"
          ]
        }
      ],
      "source": [
        "# Mentransformasikan file yang ada di google drive\n",
        "! gdown --id 1DkdCGmdihT77RfVvVnarM-_1g1uxdtQT"
      ]
    },
    {
      "cell_type": "code",
      "execution_count": null,
      "metadata": {
        "colab": {
          "base_uri": "https://localhost:8080/",
          "height": 488
        },
        "id": "oF_cYqwBlmsW",
        "outputId": "91833f75-3b5f-4a47-dba2-80541ebfd852"
      },
      "outputs": [
        {
          "data": {
            "text/html": [
              "<div>\n",
              "<style scoped>\n",
              "    .dataframe tbody tr th:only-of-type {\n",
              "        vertical-align: middle;\n",
              "    }\n",
              "\n",
              "    .dataframe tbody tr th {\n",
              "        vertical-align: top;\n",
              "    }\n",
              "\n",
              "    .dataframe thead th {\n",
              "        text-align: right;\n",
              "    }\n",
              "</style>\n",
              "<table border=\"1\" class=\"dataframe\">\n",
              "  <thead>\n",
              "    <tr style=\"text-align: right;\">\n",
              "      <th></th>\n",
              "      <th>age</th>\n",
              "      <th>anaemia</th>\n",
              "      <th>creatinine_phosphokinase</th>\n",
              "      <th>diabetes</th>\n",
              "      <th>ejection_fraction</th>\n",
              "      <th>high_blood_pressure</th>\n",
              "      <th>platelets</th>\n",
              "      <th>serum_creatinine</th>\n",
              "      <th>serum_sodium</th>\n",
              "      <th>sex</th>\n",
              "      <th>smoking</th>\n",
              "      <th>time</th>\n",
              "      <th>DEATH_EVENT</th>\n",
              "    </tr>\n",
              "  </thead>\n",
              "  <tbody>\n",
              "    <tr>\n",
              "      <th>0</th>\n",
              "      <td>75.0</td>\n",
              "      <td>0</td>\n",
              "      <td>582</td>\n",
              "      <td>0</td>\n",
              "      <td>20</td>\n",
              "      <td>1</td>\n",
              "      <td>265000.00</td>\n",
              "      <td>1.9</td>\n",
              "      <td>130</td>\n",
              "      <td>1</td>\n",
              "      <td>0</td>\n",
              "      <td>4</td>\n",
              "      <td>1</td>\n",
              "    </tr>\n",
              "    <tr>\n",
              "      <th>1</th>\n",
              "      <td>55.0</td>\n",
              "      <td>0</td>\n",
              "      <td>7861</td>\n",
              "      <td>0</td>\n",
              "      <td>38</td>\n",
              "      <td>0</td>\n",
              "      <td>263358.03</td>\n",
              "      <td>1.1</td>\n",
              "      <td>136</td>\n",
              "      <td>1</td>\n",
              "      <td>0</td>\n",
              "      <td>6</td>\n",
              "      <td>1</td>\n",
              "    </tr>\n",
              "    <tr>\n",
              "      <th>2</th>\n",
              "      <td>65.0</td>\n",
              "      <td>0</td>\n",
              "      <td>146</td>\n",
              "      <td>0</td>\n",
              "      <td>20</td>\n",
              "      <td>0</td>\n",
              "      <td>162000.00</td>\n",
              "      <td>1.3</td>\n",
              "      <td>129</td>\n",
              "      <td>1</td>\n",
              "      <td>1</td>\n",
              "      <td>7</td>\n",
              "      <td>1</td>\n",
              "    </tr>\n",
              "    <tr>\n",
              "      <th>3</th>\n",
              "      <td>50.0</td>\n",
              "      <td>1</td>\n",
              "      <td>111</td>\n",
              "      <td>0</td>\n",
              "      <td>20</td>\n",
              "      <td>0</td>\n",
              "      <td>210000.00</td>\n",
              "      <td>1.9</td>\n",
              "      <td>137</td>\n",
              "      <td>1</td>\n",
              "      <td>0</td>\n",
              "      <td>7</td>\n",
              "      <td>1</td>\n",
              "    </tr>\n",
              "    <tr>\n",
              "      <th>4</th>\n",
              "      <td>65.0</td>\n",
              "      <td>1</td>\n",
              "      <td>160</td>\n",
              "      <td>1</td>\n",
              "      <td>20</td>\n",
              "      <td>0</td>\n",
              "      <td>327000.00</td>\n",
              "      <td>2.7</td>\n",
              "      <td>116</td>\n",
              "      <td>0</td>\n",
              "      <td>0</td>\n",
              "      <td>8</td>\n",
              "      <td>1</td>\n",
              "    </tr>\n",
              "    <tr>\n",
              "      <th>...</th>\n",
              "      <td>...</td>\n",
              "      <td>...</td>\n",
              "      <td>...</td>\n",
              "      <td>...</td>\n",
              "      <td>...</td>\n",
              "      <td>...</td>\n",
              "      <td>...</td>\n",
              "      <td>...</td>\n",
              "      <td>...</td>\n",
              "      <td>...</td>\n",
              "      <td>...</td>\n",
              "      <td>...</td>\n",
              "      <td>...</td>\n",
              "    </tr>\n",
              "    <tr>\n",
              "      <th>294</th>\n",
              "      <td>62.0</td>\n",
              "      <td>0</td>\n",
              "      <td>61</td>\n",
              "      <td>1</td>\n",
              "      <td>38</td>\n",
              "      <td>1</td>\n",
              "      <td>155000.00</td>\n",
              "      <td>1.1</td>\n",
              "      <td>143</td>\n",
              "      <td>1</td>\n",
              "      <td>1</td>\n",
              "      <td>270</td>\n",
              "      <td>0</td>\n",
              "    </tr>\n",
              "    <tr>\n",
              "      <th>295</th>\n",
              "      <td>55.0</td>\n",
              "      <td>0</td>\n",
              "      <td>1820</td>\n",
              "      <td>0</td>\n",
              "      <td>38</td>\n",
              "      <td>0</td>\n",
              "      <td>270000.00</td>\n",
              "      <td>1.2</td>\n",
              "      <td>139</td>\n",
              "      <td>0</td>\n",
              "      <td>0</td>\n",
              "      <td>271</td>\n",
              "      <td>0</td>\n",
              "    </tr>\n",
              "    <tr>\n",
              "      <th>296</th>\n",
              "      <td>45.0</td>\n",
              "      <td>0</td>\n",
              "      <td>2060</td>\n",
              "      <td>1</td>\n",
              "      <td>60</td>\n",
              "      <td>0</td>\n",
              "      <td>742000.00</td>\n",
              "      <td>0.8</td>\n",
              "      <td>138</td>\n",
              "      <td>0</td>\n",
              "      <td>0</td>\n",
              "      <td>278</td>\n",
              "      <td>0</td>\n",
              "    </tr>\n",
              "    <tr>\n",
              "      <th>297</th>\n",
              "      <td>45.0</td>\n",
              "      <td>0</td>\n",
              "      <td>2413</td>\n",
              "      <td>0</td>\n",
              "      <td>38</td>\n",
              "      <td>0</td>\n",
              "      <td>140000.00</td>\n",
              "      <td>1.4</td>\n",
              "      <td>140</td>\n",
              "      <td>1</td>\n",
              "      <td>1</td>\n",
              "      <td>280</td>\n",
              "      <td>0</td>\n",
              "    </tr>\n",
              "    <tr>\n",
              "      <th>298</th>\n",
              "      <td>50.0</td>\n",
              "      <td>0</td>\n",
              "      <td>196</td>\n",
              "      <td>0</td>\n",
              "      <td>45</td>\n",
              "      <td>0</td>\n",
              "      <td>395000.00</td>\n",
              "      <td>1.6</td>\n",
              "      <td>136</td>\n",
              "      <td>1</td>\n",
              "      <td>1</td>\n",
              "      <td>285</td>\n",
              "      <td>0</td>\n",
              "    </tr>\n",
              "  </tbody>\n",
              "</table>\n",
              "<p>299 rows × 13 columns</p>\n",
              "</div>"
            ],
            "text/plain": [
              "      age  anaemia  creatinine_phosphokinase  diabetes  ejection_fraction  \\\n",
              "0    75.0        0                       582         0                 20   \n",
              "1    55.0        0                      7861         0                 38   \n",
              "2    65.0        0                       146         0                 20   \n",
              "3    50.0        1                       111         0                 20   \n",
              "4    65.0        1                       160         1                 20   \n",
              "..    ...      ...                       ...       ...                ...   \n",
              "294  62.0        0                        61         1                 38   \n",
              "295  55.0        0                      1820         0                 38   \n",
              "296  45.0        0                      2060         1                 60   \n",
              "297  45.0        0                      2413         0                 38   \n",
              "298  50.0        0                       196         0                 45   \n",
              "\n",
              "     high_blood_pressure  platelets  serum_creatinine  serum_sodium  sex  \\\n",
              "0                      1  265000.00               1.9           130    1   \n",
              "1                      0  263358.03               1.1           136    1   \n",
              "2                      0  162000.00               1.3           129    1   \n",
              "3                      0  210000.00               1.9           137    1   \n",
              "4                      0  327000.00               2.7           116    0   \n",
              "..                   ...        ...               ...           ...  ...   \n",
              "294                    1  155000.00               1.1           143    1   \n",
              "295                    0  270000.00               1.2           139    0   \n",
              "296                    0  742000.00               0.8           138    0   \n",
              "297                    0  140000.00               1.4           140    1   \n",
              "298                    0  395000.00               1.6           136    1   \n",
              "\n",
              "     smoking  time  DEATH_EVENT  \n",
              "0          0     4            1  \n",
              "1          0     6            1  \n",
              "2          1     7            1  \n",
              "3          0     7            1  \n",
              "4          0     8            1  \n",
              "..       ...   ...          ...  \n",
              "294        1   270            0  \n",
              "295        0   271            0  \n",
              "296        0   278            0  \n",
              "297        1   280            0  \n",
              "298        1   285            0  \n",
              "\n",
              "[299 rows x 13 columns]"
            ]
          },
          "execution_count": 3,
          "metadata": {},
          "output_type": "execute_result"
        }
      ],
      "source": [
        "# Read Dataset\n",
        "df = pd.read_csv('heart_failure_clinical_records_dataset.csv')\n",
        "# Menampilkan Dataset\n",
        "df"
      ]
    },
    {
      "cell_type": "markdown",
      "metadata": {
        "id": "JI5pkmaov487"
      },
      "source": [
        "## 3.2 Eksplorasi Data Sederhana"
      ]
    },
    {
      "cell_type": "code",
      "execution_count": null,
      "metadata": {
        "colab": {
          "base_uri": "https://localhost:8080/"
        },
        "id": "SupeIcoFvgfO",
        "outputId": "cd6fd66f-732b-498c-d56c-7b6d43712241"
      },
      "outputs": [
        {
          "name": "stdout",
          "output_type": "stream",
          "text": [
            "<class 'pandas.core.frame.DataFrame'>\n",
            "RangeIndex: 299 entries, 0 to 298\n",
            "Data columns (total 13 columns):\n",
            " #   Column                    Non-Null Count  Dtype  \n",
            "---  ------                    --------------  -----  \n",
            " 0   age                       299 non-null    float64\n",
            " 1   anaemia                   299 non-null    int64  \n",
            " 2   creatinine_phosphokinase  299 non-null    int64  \n",
            " 3   diabetes                  299 non-null    int64  \n",
            " 4   ejection_fraction         299 non-null    int64  \n",
            " 5   high_blood_pressure       299 non-null    int64  \n",
            " 6   platelets                 299 non-null    float64\n",
            " 7   serum_creatinine          299 non-null    float64\n",
            " 8   serum_sodium              299 non-null    int64  \n",
            " 9   sex                       299 non-null    int64  \n",
            " 10  smoking                   299 non-null    int64  \n",
            " 11  time                      299 non-null    int64  \n",
            " 12  DEATH_EVENT               299 non-null    int64  \n",
            "dtypes: float64(3), int64(10)\n",
            "memory usage: 30.5 KB\n"
          ]
        }
      ],
      "source": [
        "# Menampilkan informasi tiap kolom pada dataset\n",
        "df.info()"
      ]
    },
    {
      "cell_type": "markdown",
      "metadata": {
        "id": "7VWlp5dWwgVz"
      },
      "source": [
        "Berdasarkan hasil diatas diperoleh bahwa dataset ini memiliki tipe data float dan integer, serta tidak ditemukannya missing value pada masing-masing kolom mengingat jumlah nilai non-null di tiap kolom seragam."
      ]
    },
    {
      "cell_type": "code",
      "execution_count": null,
      "metadata": {
        "colab": {
          "base_uri": "https://localhost:8080/"
        },
        "id": "mVuf5-bPwIQH",
        "outputId": "bc9b68db-637c-40eb-f6aa-363ccf24576c"
      },
      "outputs": [
        {
          "data": {
            "text/plain": [
              "(299, 13)"
            ]
          },
          "execution_count": 5,
          "metadata": {},
          "output_type": "execute_result"
        }
      ],
      "source": [
        "# Melihat bentuk dari dataset\n",
        "df.shape"
      ]
    },
    {
      "cell_type": "markdown",
      "metadata": {
        "id": "26ISJgv3wgSS"
      },
      "source": [
        "Dataset ini memiliki 299 baris dan 13 kolom."
      ]
    },
    {
      "cell_type": "code",
      "execution_count": null,
      "metadata": {
        "colab": {
          "base_uri": "https://localhost:8080/",
          "height": 270
        },
        "id": "SePzn1e9xJ6i",
        "outputId": "2e51bf4f-a425-4840-bd46-e4e4b7759503"
      },
      "outputs": [
        {
          "data": {
            "text/html": [
              "<div>\n",
              "<style scoped>\n",
              "    .dataframe tbody tr th:only-of-type {\n",
              "        vertical-align: middle;\n",
              "    }\n",
              "\n",
              "    .dataframe tbody tr th {\n",
              "        vertical-align: top;\n",
              "    }\n",
              "\n",
              "    .dataframe thead th {\n",
              "        text-align: right;\n",
              "    }\n",
              "</style>\n",
              "<table border=\"1\" class=\"dataframe\">\n",
              "  <thead>\n",
              "    <tr style=\"text-align: right;\">\n",
              "      <th></th>\n",
              "      <th>age</th>\n",
              "      <th>anaemia</th>\n",
              "      <th>creatinine_phosphokinase</th>\n",
              "      <th>diabetes</th>\n",
              "      <th>ejection_fraction</th>\n",
              "      <th>high_blood_pressure</th>\n",
              "      <th>platelets</th>\n",
              "      <th>serum_creatinine</th>\n",
              "      <th>serum_sodium</th>\n",
              "      <th>sex</th>\n",
              "      <th>smoking</th>\n",
              "      <th>time</th>\n",
              "      <th>DEATH_EVENT</th>\n",
              "    </tr>\n",
              "  </thead>\n",
              "  <tbody>\n",
              "    <tr>\n",
              "      <th>0</th>\n",
              "      <td>75.0</td>\n",
              "      <td>0</td>\n",
              "      <td>582</td>\n",
              "      <td>0</td>\n",
              "      <td>20</td>\n",
              "      <td>1</td>\n",
              "      <td>265000.00</td>\n",
              "      <td>1.9</td>\n",
              "      <td>130</td>\n",
              "      <td>1</td>\n",
              "      <td>0</td>\n",
              "      <td>4</td>\n",
              "      <td>1</td>\n",
              "    </tr>\n",
              "    <tr>\n",
              "      <th>1</th>\n",
              "      <td>55.0</td>\n",
              "      <td>0</td>\n",
              "      <td>7861</td>\n",
              "      <td>0</td>\n",
              "      <td>38</td>\n",
              "      <td>0</td>\n",
              "      <td>263358.03</td>\n",
              "      <td>1.1</td>\n",
              "      <td>136</td>\n",
              "      <td>1</td>\n",
              "      <td>0</td>\n",
              "      <td>6</td>\n",
              "      <td>1</td>\n",
              "    </tr>\n",
              "    <tr>\n",
              "      <th>2</th>\n",
              "      <td>65.0</td>\n",
              "      <td>0</td>\n",
              "      <td>146</td>\n",
              "      <td>0</td>\n",
              "      <td>20</td>\n",
              "      <td>0</td>\n",
              "      <td>162000.00</td>\n",
              "      <td>1.3</td>\n",
              "      <td>129</td>\n",
              "      <td>1</td>\n",
              "      <td>1</td>\n",
              "      <td>7</td>\n",
              "      <td>1</td>\n",
              "    </tr>\n",
              "    <tr>\n",
              "      <th>3</th>\n",
              "      <td>50.0</td>\n",
              "      <td>1</td>\n",
              "      <td>111</td>\n",
              "      <td>0</td>\n",
              "      <td>20</td>\n",
              "      <td>0</td>\n",
              "      <td>210000.00</td>\n",
              "      <td>1.9</td>\n",
              "      <td>137</td>\n",
              "      <td>1</td>\n",
              "      <td>0</td>\n",
              "      <td>7</td>\n",
              "      <td>1</td>\n",
              "    </tr>\n",
              "    <tr>\n",
              "      <th>4</th>\n",
              "      <td>65.0</td>\n",
              "      <td>1</td>\n",
              "      <td>160</td>\n",
              "      <td>1</td>\n",
              "      <td>20</td>\n",
              "      <td>0</td>\n",
              "      <td>327000.00</td>\n",
              "      <td>2.7</td>\n",
              "      <td>116</td>\n",
              "      <td>0</td>\n",
              "      <td>0</td>\n",
              "      <td>8</td>\n",
              "      <td>1</td>\n",
              "    </tr>\n",
              "  </tbody>\n",
              "</table>\n",
              "</div>"
            ],
            "text/plain": [
              "    age  anaemia  creatinine_phosphokinase  diabetes  ejection_fraction  \\\n",
              "0  75.0        0                       582         0                 20   \n",
              "1  55.0        0                      7861         0                 38   \n",
              "2  65.0        0                       146         0                 20   \n",
              "3  50.0        1                       111         0                 20   \n",
              "4  65.0        1                       160         1                 20   \n",
              "\n",
              "   high_blood_pressure  platelets  serum_creatinine  serum_sodium  sex  \\\n",
              "0                    1  265000.00               1.9           130    1   \n",
              "1                    0  263358.03               1.1           136    1   \n",
              "2                    0  162000.00               1.3           129    1   \n",
              "3                    0  210000.00               1.9           137    1   \n",
              "4                    0  327000.00               2.7           116    0   \n",
              "\n",
              "   smoking  time  DEATH_EVENT  \n",
              "0        0     4            1  \n",
              "1        0     6            1  \n",
              "2        1     7            1  \n",
              "3        0     7            1  \n",
              "4        0     8            1  "
            ]
          },
          "execution_count": 6,
          "metadata": {},
          "output_type": "execute_result"
        }
      ],
      "source": [
        "# Melihat 5 Data teratas\n",
        "df.head()"
      ]
    },
    {
      "cell_type": "code",
      "execution_count": null,
      "metadata": {
        "colab": {
          "base_uri": "https://localhost:8080/",
          "height": 270
        },
        "id": "iXJAU5m3xOXL",
        "outputId": "742cae8d-90a4-4948-b557-eb80a813ea05"
      },
      "outputs": [
        {
          "data": {
            "text/html": [
              "<div>\n",
              "<style scoped>\n",
              "    .dataframe tbody tr th:only-of-type {\n",
              "        vertical-align: middle;\n",
              "    }\n",
              "\n",
              "    .dataframe tbody tr th {\n",
              "        vertical-align: top;\n",
              "    }\n",
              "\n",
              "    .dataframe thead th {\n",
              "        text-align: right;\n",
              "    }\n",
              "</style>\n",
              "<table border=\"1\" class=\"dataframe\">\n",
              "  <thead>\n",
              "    <tr style=\"text-align: right;\">\n",
              "      <th></th>\n",
              "      <th>age</th>\n",
              "      <th>anaemia</th>\n",
              "      <th>creatinine_phosphokinase</th>\n",
              "      <th>diabetes</th>\n",
              "      <th>ejection_fraction</th>\n",
              "      <th>high_blood_pressure</th>\n",
              "      <th>platelets</th>\n",
              "      <th>serum_creatinine</th>\n",
              "      <th>serum_sodium</th>\n",
              "      <th>sex</th>\n",
              "      <th>smoking</th>\n",
              "      <th>time</th>\n",
              "      <th>DEATH_EVENT</th>\n",
              "    </tr>\n",
              "  </thead>\n",
              "  <tbody>\n",
              "    <tr>\n",
              "      <th>294</th>\n",
              "      <td>62.0</td>\n",
              "      <td>0</td>\n",
              "      <td>61</td>\n",
              "      <td>1</td>\n",
              "      <td>38</td>\n",
              "      <td>1</td>\n",
              "      <td>155000.0</td>\n",
              "      <td>1.1</td>\n",
              "      <td>143</td>\n",
              "      <td>1</td>\n",
              "      <td>1</td>\n",
              "      <td>270</td>\n",
              "      <td>0</td>\n",
              "    </tr>\n",
              "    <tr>\n",
              "      <th>295</th>\n",
              "      <td>55.0</td>\n",
              "      <td>0</td>\n",
              "      <td>1820</td>\n",
              "      <td>0</td>\n",
              "      <td>38</td>\n",
              "      <td>0</td>\n",
              "      <td>270000.0</td>\n",
              "      <td>1.2</td>\n",
              "      <td>139</td>\n",
              "      <td>0</td>\n",
              "      <td>0</td>\n",
              "      <td>271</td>\n",
              "      <td>0</td>\n",
              "    </tr>\n",
              "    <tr>\n",
              "      <th>296</th>\n",
              "      <td>45.0</td>\n",
              "      <td>0</td>\n",
              "      <td>2060</td>\n",
              "      <td>1</td>\n",
              "      <td>60</td>\n",
              "      <td>0</td>\n",
              "      <td>742000.0</td>\n",
              "      <td>0.8</td>\n",
              "      <td>138</td>\n",
              "      <td>0</td>\n",
              "      <td>0</td>\n",
              "      <td>278</td>\n",
              "      <td>0</td>\n",
              "    </tr>\n",
              "    <tr>\n",
              "      <th>297</th>\n",
              "      <td>45.0</td>\n",
              "      <td>0</td>\n",
              "      <td>2413</td>\n",
              "      <td>0</td>\n",
              "      <td>38</td>\n",
              "      <td>0</td>\n",
              "      <td>140000.0</td>\n",
              "      <td>1.4</td>\n",
              "      <td>140</td>\n",
              "      <td>1</td>\n",
              "      <td>1</td>\n",
              "      <td>280</td>\n",
              "      <td>0</td>\n",
              "    </tr>\n",
              "    <tr>\n",
              "      <th>298</th>\n",
              "      <td>50.0</td>\n",
              "      <td>0</td>\n",
              "      <td>196</td>\n",
              "      <td>0</td>\n",
              "      <td>45</td>\n",
              "      <td>0</td>\n",
              "      <td>395000.0</td>\n",
              "      <td>1.6</td>\n",
              "      <td>136</td>\n",
              "      <td>1</td>\n",
              "      <td>1</td>\n",
              "      <td>285</td>\n",
              "      <td>0</td>\n",
              "    </tr>\n",
              "  </tbody>\n",
              "</table>\n",
              "</div>"
            ],
            "text/plain": [
              "      age  anaemia  creatinine_phosphokinase  diabetes  ejection_fraction  \\\n",
              "294  62.0        0                        61         1                 38   \n",
              "295  55.0        0                      1820         0                 38   \n",
              "296  45.0        0                      2060         1                 60   \n",
              "297  45.0        0                      2413         0                 38   \n",
              "298  50.0        0                       196         0                 45   \n",
              "\n",
              "     high_blood_pressure  platelets  serum_creatinine  serum_sodium  sex  \\\n",
              "294                    1   155000.0               1.1           143    1   \n",
              "295                    0   270000.0               1.2           139    0   \n",
              "296                    0   742000.0               0.8           138    0   \n",
              "297                    0   140000.0               1.4           140    1   \n",
              "298                    0   395000.0               1.6           136    1   \n",
              "\n",
              "     smoking  time  DEATH_EVENT  \n",
              "294        1   270            0  \n",
              "295        0   271            0  \n",
              "296        0   278            0  \n",
              "297        1   280            0  \n",
              "298        1   285            0  "
            ]
          },
          "execution_count": 7,
          "metadata": {},
          "output_type": "execute_result"
        }
      ],
      "source": [
        "# Melihat 5 data terbawah\n",
        "df.tail()"
      ]
    },
    {
      "cell_type": "code",
      "execution_count": null,
      "metadata": {
        "colab": {
          "base_uri": "https://localhost:8080/",
          "height": 364
        },
        "id": "ML5VBvQO1mRS",
        "outputId": "db6a944b-381f-4717-c857-74aeae69ccfb"
      },
      "outputs": [
        {
          "data": {
            "text/html": [
              "<div>\n",
              "<style scoped>\n",
              "    .dataframe tbody tr th:only-of-type {\n",
              "        vertical-align: middle;\n",
              "    }\n",
              "\n",
              "    .dataframe tbody tr th {\n",
              "        vertical-align: top;\n",
              "    }\n",
              "\n",
              "    .dataframe thead th {\n",
              "        text-align: right;\n",
              "    }\n",
              "</style>\n",
              "<table border=\"1\" class=\"dataframe\">\n",
              "  <thead>\n",
              "    <tr style=\"text-align: right;\">\n",
              "      <th></th>\n",
              "      <th>age</th>\n",
              "      <th>anaemia</th>\n",
              "      <th>creatinine_phosphokinase</th>\n",
              "      <th>diabetes</th>\n",
              "      <th>ejection_fraction</th>\n",
              "      <th>high_blood_pressure</th>\n",
              "      <th>platelets</th>\n",
              "      <th>serum_creatinine</th>\n",
              "      <th>serum_sodium</th>\n",
              "      <th>sex</th>\n",
              "      <th>smoking</th>\n",
              "      <th>time</th>\n",
              "      <th>DEATH_EVENT</th>\n",
              "    </tr>\n",
              "  </thead>\n",
              "  <tbody>\n",
              "    <tr>\n",
              "      <th>count</th>\n",
              "      <td>299.000000</td>\n",
              "      <td>299.000000</td>\n",
              "      <td>299.000000</td>\n",
              "      <td>299.000000</td>\n",
              "      <td>299.000000</td>\n",
              "      <td>299.000000</td>\n",
              "      <td>299.000000</td>\n",
              "      <td>299.00000</td>\n",
              "      <td>299.000000</td>\n",
              "      <td>299.000000</td>\n",
              "      <td>299.00000</td>\n",
              "      <td>299.000000</td>\n",
              "      <td>299.00000</td>\n",
              "    </tr>\n",
              "    <tr>\n",
              "      <th>mean</th>\n",
              "      <td>60.833893</td>\n",
              "      <td>0.431438</td>\n",
              "      <td>581.839465</td>\n",
              "      <td>0.418060</td>\n",
              "      <td>38.083612</td>\n",
              "      <td>0.351171</td>\n",
              "      <td>263358.029264</td>\n",
              "      <td>1.39388</td>\n",
              "      <td>136.625418</td>\n",
              "      <td>0.648829</td>\n",
              "      <td>0.32107</td>\n",
              "      <td>130.260870</td>\n",
              "      <td>0.32107</td>\n",
              "    </tr>\n",
              "    <tr>\n",
              "      <th>std</th>\n",
              "      <td>11.894809</td>\n",
              "      <td>0.496107</td>\n",
              "      <td>970.287881</td>\n",
              "      <td>0.494067</td>\n",
              "      <td>11.834841</td>\n",
              "      <td>0.478136</td>\n",
              "      <td>97804.236869</td>\n",
              "      <td>1.03451</td>\n",
              "      <td>4.412477</td>\n",
              "      <td>0.478136</td>\n",
              "      <td>0.46767</td>\n",
              "      <td>77.614208</td>\n",
              "      <td>0.46767</td>\n",
              "    </tr>\n",
              "    <tr>\n",
              "      <th>min</th>\n",
              "      <td>40.000000</td>\n",
              "      <td>0.000000</td>\n",
              "      <td>23.000000</td>\n",
              "      <td>0.000000</td>\n",
              "      <td>14.000000</td>\n",
              "      <td>0.000000</td>\n",
              "      <td>25100.000000</td>\n",
              "      <td>0.50000</td>\n",
              "      <td>113.000000</td>\n",
              "      <td>0.000000</td>\n",
              "      <td>0.00000</td>\n",
              "      <td>4.000000</td>\n",
              "      <td>0.00000</td>\n",
              "    </tr>\n",
              "    <tr>\n",
              "      <th>25%</th>\n",
              "      <td>51.000000</td>\n",
              "      <td>0.000000</td>\n",
              "      <td>116.500000</td>\n",
              "      <td>0.000000</td>\n",
              "      <td>30.000000</td>\n",
              "      <td>0.000000</td>\n",
              "      <td>212500.000000</td>\n",
              "      <td>0.90000</td>\n",
              "      <td>134.000000</td>\n",
              "      <td>0.000000</td>\n",
              "      <td>0.00000</td>\n",
              "      <td>73.000000</td>\n",
              "      <td>0.00000</td>\n",
              "    </tr>\n",
              "    <tr>\n",
              "      <th>50%</th>\n",
              "      <td>60.000000</td>\n",
              "      <td>0.000000</td>\n",
              "      <td>250.000000</td>\n",
              "      <td>0.000000</td>\n",
              "      <td>38.000000</td>\n",
              "      <td>0.000000</td>\n",
              "      <td>262000.000000</td>\n",
              "      <td>1.10000</td>\n",
              "      <td>137.000000</td>\n",
              "      <td>1.000000</td>\n",
              "      <td>0.00000</td>\n",
              "      <td>115.000000</td>\n",
              "      <td>0.00000</td>\n",
              "    </tr>\n",
              "    <tr>\n",
              "      <th>75%</th>\n",
              "      <td>70.000000</td>\n",
              "      <td>1.000000</td>\n",
              "      <td>582.000000</td>\n",
              "      <td>1.000000</td>\n",
              "      <td>45.000000</td>\n",
              "      <td>1.000000</td>\n",
              "      <td>303500.000000</td>\n",
              "      <td>1.40000</td>\n",
              "      <td>140.000000</td>\n",
              "      <td>1.000000</td>\n",
              "      <td>1.00000</td>\n",
              "      <td>203.000000</td>\n",
              "      <td>1.00000</td>\n",
              "    </tr>\n",
              "    <tr>\n",
              "      <th>max</th>\n",
              "      <td>95.000000</td>\n",
              "      <td>1.000000</td>\n",
              "      <td>7861.000000</td>\n",
              "      <td>1.000000</td>\n",
              "      <td>80.000000</td>\n",
              "      <td>1.000000</td>\n",
              "      <td>850000.000000</td>\n",
              "      <td>9.40000</td>\n",
              "      <td>148.000000</td>\n",
              "      <td>1.000000</td>\n",
              "      <td>1.00000</td>\n",
              "      <td>285.000000</td>\n",
              "      <td>1.00000</td>\n",
              "    </tr>\n",
              "  </tbody>\n",
              "</table>\n",
              "</div>"
            ],
            "text/plain": [
              "              age     anaemia  creatinine_phosphokinase    diabetes  \\\n",
              "count  299.000000  299.000000                299.000000  299.000000   \n",
              "mean    60.833893    0.431438                581.839465    0.418060   \n",
              "std     11.894809    0.496107                970.287881    0.494067   \n",
              "min     40.000000    0.000000                 23.000000    0.000000   \n",
              "25%     51.000000    0.000000                116.500000    0.000000   \n",
              "50%     60.000000    0.000000                250.000000    0.000000   \n",
              "75%     70.000000    1.000000                582.000000    1.000000   \n",
              "max     95.000000    1.000000               7861.000000    1.000000   \n",
              "\n",
              "       ejection_fraction  high_blood_pressure      platelets  \\\n",
              "count         299.000000           299.000000     299.000000   \n",
              "mean           38.083612             0.351171  263358.029264   \n",
              "std            11.834841             0.478136   97804.236869   \n",
              "min            14.000000             0.000000   25100.000000   \n",
              "25%            30.000000             0.000000  212500.000000   \n",
              "50%            38.000000             0.000000  262000.000000   \n",
              "75%            45.000000             1.000000  303500.000000   \n",
              "max            80.000000             1.000000  850000.000000   \n",
              "\n",
              "       serum_creatinine  serum_sodium         sex    smoking        time  \\\n",
              "count         299.00000    299.000000  299.000000  299.00000  299.000000   \n",
              "mean            1.39388    136.625418    0.648829    0.32107  130.260870   \n",
              "std             1.03451      4.412477    0.478136    0.46767   77.614208   \n",
              "min             0.50000    113.000000    0.000000    0.00000    4.000000   \n",
              "25%             0.90000    134.000000    0.000000    0.00000   73.000000   \n",
              "50%             1.10000    137.000000    1.000000    0.00000  115.000000   \n",
              "75%             1.40000    140.000000    1.000000    1.00000  203.000000   \n",
              "max             9.40000    148.000000    1.000000    1.00000  285.000000   \n",
              "\n",
              "       DEATH_EVENT  \n",
              "count    299.00000  \n",
              "mean       0.32107  \n",
              "std        0.46767  \n",
              "min        0.00000  \n",
              "25%        0.00000  \n",
              "50%        0.00000  \n",
              "75%        1.00000  \n",
              "max        1.00000  "
            ]
          },
          "execution_count": 8,
          "metadata": {},
          "output_type": "execute_result"
        }
      ],
      "source": [
        "# Melihat deskripsi statistik dasar dari tiap atribut\n",
        "df.describe()"
      ]
    },
    {
      "cell_type": "markdown",
      "metadata": {
        "id": "piR4KrNq2Bbf"
      },
      "source": [
        "Diperoleh bahwa : <br>  \n",
        "- Usia rata-rata pasien yakni berkisar 60 tahun dan tidak sampai 100, melainkan hanya 90. \n",
        "- Rata-rata nilai kreatinin fosfokinase pada pasien yaitu 581,84\n",
        "- Fraksi ejeksi maksimal yang ada pada pasien yaitu 80\n",
        "- Kreatinin serum minimal yang ada pada pasien yaitu 0,5\n",
        "- Sodium serum rata-rata pada pasien yaitu 136,63"
      ]
    },
    {
      "cell_type": "code",
      "execution_count": null,
      "metadata": {
        "colab": {
          "base_uri": "https://localhost:8080/"
        },
        "id": "U8r9otms2Aet",
        "outputId": "20798d09-ac7b-4356-9f8d-6536c7c96793"
      },
      "outputs": [
        {
          "name": "stdout",
          "output_type": "stream",
          "text": [
            "age :  47\n",
            "anaemia :  2\n",
            "creatinine_phosphokinase :  208\n",
            "diabetes :  2\n",
            "ejection_fraction :  17\n",
            "high_blood_pressure :  2\n",
            "platelets :  176\n",
            "serum_creatinine :  40\n",
            "serum_sodium :  27\n",
            "sex :  2\n",
            "smoking :  2\n",
            "time :  148\n",
            "DEATH_EVENT :  2\n"
          ]
        }
      ],
      "source": [
        "# Melihat banyaknya unique values untuk tiap atribut.\n",
        "for col in df.columns:\n",
        "    print(col,': ', df[col].nunique())"
      ]
    },
    {
      "cell_type": "markdown",
      "metadata": {
        "id": "R__ng0zU2tWA"
      },
      "source": [
        "Diperoleh bahwa unique values yang diperoleh beragam pada tiap kolom."
      ]
    },
    {
      "cell_type": "markdown",
      "metadata": {
        "id": "3WokDapW3wlf"
      },
      "source": [
        "# 4. DATA CLEANING <br>\n",
        "\n",
        "Bagian ini berisi proses penyiapan data berupa data cleaning sebelum dilakukan explorasi data lebih lanjut."
      ]
    },
    {
      "cell_type": "code",
      "execution_count": null,
      "metadata": {
        "id": "vMxYzS8Y2rqY"
      },
      "outputs": [],
      "source": [
        "# Memberikan nama baru untuk setiap atribut.\n",
        "df2 = df.rename(columns={'age':'Usia', 'anaemia':'Anaemia','creatinine_phosphokinase':'Kreatinin_fosfokinase', 'diabetes':'Diabetes',\n",
        "                         'ejection_fraction':'Fraksi_ejeksi', 'high_blood_pressure':'Tekanan_darah_tinggi','platelets':'Platelets', \n",
        "                        'serum_creatinine':'Kreatinin_serum', 'serum_sodium':'Sodium_serum','sex':'Jenis_kelamin','smoking':'Perokok', \n",
        "                         'time':'Waktu', 'DEATH_EVENT':'Kematian'})"
      ]
    },
    {
      "cell_type": "code",
      "execution_count": null,
      "metadata": {
        "colab": {
          "base_uri": "https://localhost:8080/",
          "height": 270
        },
        "id": "l-GL4_T35B9W",
        "outputId": "46bd0d6f-f1ea-4cc7-e0fd-2161b82a8a4b"
      },
      "outputs": [
        {
          "data": {
            "text/html": [
              "<div>\n",
              "<style scoped>\n",
              "    .dataframe tbody tr th:only-of-type {\n",
              "        vertical-align: middle;\n",
              "    }\n",
              "\n",
              "    .dataframe tbody tr th {\n",
              "        vertical-align: top;\n",
              "    }\n",
              "\n",
              "    .dataframe thead th {\n",
              "        text-align: right;\n",
              "    }\n",
              "</style>\n",
              "<table border=\"1\" class=\"dataframe\">\n",
              "  <thead>\n",
              "    <tr style=\"text-align: right;\">\n",
              "      <th></th>\n",
              "      <th>Usia</th>\n",
              "      <th>Anaemia</th>\n",
              "      <th>Kreatinin_fosfokinase</th>\n",
              "      <th>Diabetes</th>\n",
              "      <th>Fraksi_ejeksi</th>\n",
              "      <th>Tekanan_darah_tinggi</th>\n",
              "      <th>Platelets</th>\n",
              "      <th>Kreatinin_serum</th>\n",
              "      <th>Sodium_serum</th>\n",
              "      <th>Jenis_kelamin</th>\n",
              "      <th>Perokok</th>\n",
              "      <th>Kematian</th>\n",
              "    </tr>\n",
              "  </thead>\n",
              "  <tbody>\n",
              "    <tr>\n",
              "      <th>0</th>\n",
              "      <td>75.0</td>\n",
              "      <td>0</td>\n",
              "      <td>582</td>\n",
              "      <td>0</td>\n",
              "      <td>20</td>\n",
              "      <td>1</td>\n",
              "      <td>265000.00</td>\n",
              "      <td>1.9</td>\n",
              "      <td>130</td>\n",
              "      <td>1</td>\n",
              "      <td>0</td>\n",
              "      <td>1</td>\n",
              "    </tr>\n",
              "    <tr>\n",
              "      <th>1</th>\n",
              "      <td>55.0</td>\n",
              "      <td>0</td>\n",
              "      <td>7861</td>\n",
              "      <td>0</td>\n",
              "      <td>38</td>\n",
              "      <td>0</td>\n",
              "      <td>263358.03</td>\n",
              "      <td>1.1</td>\n",
              "      <td>136</td>\n",
              "      <td>1</td>\n",
              "      <td>0</td>\n",
              "      <td>1</td>\n",
              "    </tr>\n",
              "    <tr>\n",
              "      <th>2</th>\n",
              "      <td>65.0</td>\n",
              "      <td>0</td>\n",
              "      <td>146</td>\n",
              "      <td>0</td>\n",
              "      <td>20</td>\n",
              "      <td>0</td>\n",
              "      <td>162000.00</td>\n",
              "      <td>1.3</td>\n",
              "      <td>129</td>\n",
              "      <td>1</td>\n",
              "      <td>1</td>\n",
              "      <td>1</td>\n",
              "    </tr>\n",
              "    <tr>\n",
              "      <th>3</th>\n",
              "      <td>50.0</td>\n",
              "      <td>1</td>\n",
              "      <td>111</td>\n",
              "      <td>0</td>\n",
              "      <td>20</td>\n",
              "      <td>0</td>\n",
              "      <td>210000.00</td>\n",
              "      <td>1.9</td>\n",
              "      <td>137</td>\n",
              "      <td>1</td>\n",
              "      <td>0</td>\n",
              "      <td>1</td>\n",
              "    </tr>\n",
              "    <tr>\n",
              "      <th>4</th>\n",
              "      <td>65.0</td>\n",
              "      <td>1</td>\n",
              "      <td>160</td>\n",
              "      <td>1</td>\n",
              "      <td>20</td>\n",
              "      <td>0</td>\n",
              "      <td>327000.00</td>\n",
              "      <td>2.7</td>\n",
              "      <td>116</td>\n",
              "      <td>0</td>\n",
              "      <td>0</td>\n",
              "      <td>1</td>\n",
              "    </tr>\n",
              "  </tbody>\n",
              "</table>\n",
              "</div>"
            ],
            "text/plain": [
              "   Usia  Anaemia  Kreatinin_fosfokinase  Diabetes  Fraksi_ejeksi  \\\n",
              "0  75.0        0                    582         0             20   \n",
              "1  55.0        0                   7861         0             38   \n",
              "2  65.0        0                    146         0             20   \n",
              "3  50.0        1                    111         0             20   \n",
              "4  65.0        1                    160         1             20   \n",
              "\n",
              "   Tekanan_darah_tinggi  Platelets  Kreatinin_serum  Sodium_serum  \\\n",
              "0                     1  265000.00              1.9           130   \n",
              "1                     0  263358.03              1.1           136   \n",
              "2                     0  162000.00              1.3           129   \n",
              "3                     0  210000.00              1.9           137   \n",
              "4                     0  327000.00              2.7           116   \n",
              "\n",
              "   Jenis_kelamin  Perokok  Kematian  \n",
              "0              1        0         1  \n",
              "1              1        0         1  \n",
              "2              1        1         1  \n",
              "3              1        0         1  \n",
              "4              0        0         1  "
            ]
          },
          "execution_count": 11,
          "metadata": {},
          "output_type": "execute_result"
        }
      ],
      "source": [
        "# Menghilangkan atribut Waktu\n",
        "df2.drop(columns=['Waktu'], inplace=True)\n",
        "df2.head()"
      ]
    },
    {
      "cell_type": "markdown",
      "metadata": {
        "id": "E9ICfy-S3zfB"
      },
      "source": [
        "Penggantian nama kolom dilakukan untuk memudahkan proses analisis. Selanjutnya, penghapusan atribut waktu dikarenakan atribut waktu dirasa tidak relevan dengan variabel target. Sebab, atribut waktu menunjukkan kuantitas hidup pasien untuk bertahan dengan pengaruh atribut lainnya. Akibatnya, atribut tersebut tidak cocok sebagai variabel independen."
      ]
    },
    {
      "cell_type": "code",
      "execution_count": null,
      "metadata": {
        "colab": {
          "base_uri": "https://localhost:8080/"
        },
        "id": "XNO34g3u6rUc",
        "outputId": "02e33a7b-f1c6-49cd-cf01-5d8b2a692f60"
      },
      "outputs": [
        {
          "name": "stdout",
          "output_type": "stream",
          "text": [
            "Usia : \n",
            "60.000    33\n",
            "50.000    27\n",
            "65.000    26\n",
            "70.000    25\n",
            "45.000    19\n",
            "55.000    17\n",
            "75.000    11\n",
            "53.000    10\n",
            "58.000    10\n",
            "63.000     8\n",
            "80.000     7\n",
            "72.000     7\n",
            "40.000     7\n",
            "42.000     7\n",
            "85.000     6\n",
            "68.000     5\n",
            "52.000     5\n",
            "62.000     5\n",
            "51.000     4\n",
            "59.000     4\n",
            "61.000     4\n",
            "73.000     4\n",
            "49.000     4\n",
            "69.000     3\n",
            "46.000     3\n",
            "64.000     3\n",
            "82.000     3\n",
            "90.000     3\n",
            "78.000     2\n",
            "60.667     2\n",
            "54.000     2\n",
            "77.000     2\n",
            "57.000     2\n",
            "66.000     2\n",
            "44.000     2\n",
            "67.000     2\n",
            "95.000     2\n",
            "48.000     2\n",
            "43.000     1\n",
            "86.000     1\n",
            "81.000     1\n",
            "79.000     1\n",
            "41.000     1\n",
            "94.000     1\n",
            "87.000     1\n",
            "47.000     1\n",
            "56.000     1\n",
            "Name: Usia, dtype: int64\n",
            "  \n",
            "  \n",
            "Anaemia : \n",
            "0    170\n",
            "1    129\n",
            "Name: Anaemia, dtype: int64\n",
            "  \n",
            "  \n",
            "Kreatinin_fosfokinase : \n",
            "582     47\n",
            "66       4\n",
            "129      4\n",
            "231      3\n",
            "69       3\n",
            "        ..\n",
            "748      1\n",
            "1876     1\n",
            "936      1\n",
            "292      1\n",
            "2413     1\n",
            "Name: Kreatinin_fosfokinase, Length: 208, dtype: int64\n",
            "  \n",
            "  \n",
            "Diabetes : \n",
            "0    174\n",
            "1    125\n",
            "Name: Diabetes, dtype: int64\n",
            "  \n",
            "  \n",
            "Fraksi_ejeksi : \n",
            "35    49\n",
            "38    40\n",
            "40    37\n",
            "25    36\n",
            "30    34\n",
            "60    31\n",
            "50    21\n",
            "45    20\n",
            "20    18\n",
            "55     3\n",
            "15     2\n",
            "62     2\n",
            "17     2\n",
            "65     1\n",
            "14     1\n",
            "80     1\n",
            "70     1\n",
            "Name: Fraksi_ejeksi, dtype: int64\n",
            "  \n",
            "  \n",
            "Tekanan_darah_tinggi : \n",
            "0    194\n",
            "1    105\n",
            "Name: Tekanan_darah_tinggi, dtype: int64\n",
            "  \n",
            "  \n",
            "Platelets : \n",
            "263358.03    25\n",
            "221000.00     4\n",
            "279000.00     4\n",
            "271000.00     4\n",
            "305000.00     4\n",
            "             ..\n",
            "227000.00     1\n",
            "289000.00     1\n",
            "300000.00     1\n",
            "217000.00     1\n",
            "742000.00     1\n",
            "Name: Platelets, Length: 176, dtype: int64\n",
            "  \n",
            "  \n",
            "Kreatinin_serum : \n",
            "1.00    50\n",
            "1.10    32\n",
            "0.90    32\n",
            "1.20    24\n",
            "0.80    24\n",
            "1.30    20\n",
            "0.70    19\n",
            "1.18    11\n",
            "1.40     9\n",
            "1.70     9\n",
            "1.83     8\n",
            "1.60     6\n",
            "1.90     5\n",
            "2.10     5\n",
            "1.50     5\n",
            "0.60     4\n",
            "1.80     4\n",
            "2.30     3\n",
            "2.70     3\n",
            "2.50     3\n",
            "3.50     2\n",
            "2.40     2\n",
            "3.00     2\n",
            "0.50     1\n",
            "5.00     1\n",
            "0.75     1\n",
            "6.10     1\n",
            "3.40     1\n",
            "3.70     1\n",
            "9.00     1\n",
            "4.00     1\n",
            "3.20     1\n",
            "5.80     1\n",
            "2.90     1\n",
            "2.00     1\n",
            "2.20     1\n",
            "6.80     1\n",
            "9.40     1\n",
            "4.40     1\n",
            "3.80     1\n",
            "Name: Kreatinin_serum, dtype: int64\n",
            "  \n",
            "  \n",
            "Sodium_serum : \n",
            "136    40\n",
            "137    38\n",
            "140    35\n",
            "134    32\n",
            "138    23\n",
            "139    22\n",
            "135    16\n",
            "132    14\n",
            "141    12\n",
            "142    11\n",
            "133    10\n",
            "145     9\n",
            "130     9\n",
            "144     5\n",
            "131     5\n",
            "127     3\n",
            "143     3\n",
            "128     2\n",
            "129     2\n",
            "121     1\n",
            "116     1\n",
            "146     1\n",
            "126     1\n",
            "124     1\n",
            "113     1\n",
            "125     1\n",
            "148     1\n",
            "Name: Sodium_serum, dtype: int64\n",
            "  \n",
            "  \n",
            "Jenis_kelamin : \n",
            "1    194\n",
            "0    105\n",
            "Name: Jenis_kelamin, dtype: int64\n",
            "  \n",
            "  \n",
            "Perokok : \n",
            "0    203\n",
            "1     96\n",
            "Name: Perokok, dtype: int64\n",
            "  \n",
            "  \n",
            "Kematian : \n",
            "0    203\n",
            "1     96\n",
            "Name: Kematian, dtype: int64\n",
            "  \n",
            "  \n"
          ]
        }
      ],
      "source": [
        "# Melihat banyaknya nilai dari masing-masing atribut\n",
        "for col in df2.columns:\n",
        "    print(col,': ')\n",
        "    print(df2[col].value_counts())\n",
        "    print(\"  \")\n",
        "    print(\"  \")"
      ]
    },
    {
      "cell_type": "code",
      "execution_count": null,
      "metadata": {
        "colab": {
          "base_uri": "https://localhost:8080/"
        },
        "id": "qUikUglb61vH",
        "outputId": "2be9370a-e31d-4339-b1db-86e6cf80a315"
      },
      "outputs": [
        {
          "data": {
            "text/plain": [
              "0"
            ]
          },
          "execution_count": 13,
          "metadata": {},
          "output_type": "execute_result"
        }
      ],
      "source": [
        "# Melakukan pengecekan duplikasi data\n",
        "df2.duplicated().sum()"
      ]
    },
    {
      "cell_type": "markdown",
      "metadata": {
        "id": "9kkzcAMD7E_k"
      },
      "source": [
        "Diperoleh bahwa tidak ada data yang terduplikat."
      ]
    },
    {
      "cell_type": "code",
      "execution_count": null,
      "metadata": {
        "colab": {
          "base_uri": "https://localhost:8080/",
          "height": 270
        },
        "id": "sXP4-5Zs7Jxx",
        "outputId": "26797e42-6423-4f4c-f22d-35d711d0b56a"
      },
      "outputs": [
        {
          "data": {
            "text/html": [
              "<div>\n",
              "<style scoped>\n",
              "    .dataframe tbody tr th:only-of-type {\n",
              "        vertical-align: middle;\n",
              "    }\n",
              "\n",
              "    .dataframe tbody tr th {\n",
              "        vertical-align: top;\n",
              "    }\n",
              "\n",
              "    .dataframe thead th {\n",
              "        text-align: right;\n",
              "    }\n",
              "</style>\n",
              "<table border=\"1\" class=\"dataframe\">\n",
              "  <thead>\n",
              "    <tr style=\"text-align: right;\">\n",
              "      <th></th>\n",
              "      <th>Usia</th>\n",
              "      <th>Anaemia</th>\n",
              "      <th>Kreatinin_fosfokinase</th>\n",
              "      <th>Diabetes</th>\n",
              "      <th>Fraksi_ejeksi</th>\n",
              "      <th>Tekanan_darah_tinggi</th>\n",
              "      <th>Platelets</th>\n",
              "      <th>Kreatinin_serum</th>\n",
              "      <th>Sodium_serum</th>\n",
              "      <th>Jenis_kelamin</th>\n",
              "      <th>Perokok</th>\n",
              "      <th>Kematian</th>\n",
              "    </tr>\n",
              "  </thead>\n",
              "  <tbody>\n",
              "    <tr>\n",
              "      <th>0</th>\n",
              "      <td>75.0</td>\n",
              "      <td>0</td>\n",
              "      <td>582</td>\n",
              "      <td>0</td>\n",
              "      <td>20</td>\n",
              "      <td>1</td>\n",
              "      <td>265000.00</td>\n",
              "      <td>1.9</td>\n",
              "      <td>130</td>\n",
              "      <td>1</td>\n",
              "      <td>0</td>\n",
              "      <td>1</td>\n",
              "    </tr>\n",
              "    <tr>\n",
              "      <th>1</th>\n",
              "      <td>55.0</td>\n",
              "      <td>0</td>\n",
              "      <td>7861</td>\n",
              "      <td>0</td>\n",
              "      <td>38</td>\n",
              "      <td>0</td>\n",
              "      <td>263358.03</td>\n",
              "      <td>1.1</td>\n",
              "      <td>136</td>\n",
              "      <td>1</td>\n",
              "      <td>0</td>\n",
              "      <td>1</td>\n",
              "    </tr>\n",
              "    <tr>\n",
              "      <th>2</th>\n",
              "      <td>65.0</td>\n",
              "      <td>0</td>\n",
              "      <td>146</td>\n",
              "      <td>0</td>\n",
              "      <td>20</td>\n",
              "      <td>0</td>\n",
              "      <td>162000.00</td>\n",
              "      <td>1.3</td>\n",
              "      <td>129</td>\n",
              "      <td>1</td>\n",
              "      <td>1</td>\n",
              "      <td>1</td>\n",
              "    </tr>\n",
              "    <tr>\n",
              "      <th>3</th>\n",
              "      <td>50.0</td>\n",
              "      <td>1</td>\n",
              "      <td>111</td>\n",
              "      <td>0</td>\n",
              "      <td>20</td>\n",
              "      <td>0</td>\n",
              "      <td>210000.00</td>\n",
              "      <td>1.9</td>\n",
              "      <td>137</td>\n",
              "      <td>1</td>\n",
              "      <td>0</td>\n",
              "      <td>1</td>\n",
              "    </tr>\n",
              "    <tr>\n",
              "      <th>4</th>\n",
              "      <td>65.0</td>\n",
              "      <td>1</td>\n",
              "      <td>160</td>\n",
              "      <td>1</td>\n",
              "      <td>20</td>\n",
              "      <td>0</td>\n",
              "      <td>327000.00</td>\n",
              "      <td>2.7</td>\n",
              "      <td>116</td>\n",
              "      <td>0</td>\n",
              "      <td>0</td>\n",
              "      <td>1</td>\n",
              "    </tr>\n",
              "  </tbody>\n",
              "</table>\n",
              "</div>"
            ],
            "text/plain": [
              "   Usia  Anaemia  Kreatinin_fosfokinase  Diabetes  Fraksi_ejeksi  \\\n",
              "0  75.0        0                    582         0             20   \n",
              "1  55.0        0                   7861         0             38   \n",
              "2  65.0        0                    146         0             20   \n",
              "3  50.0        1                    111         0             20   \n",
              "4  65.0        1                    160         1             20   \n",
              "\n",
              "   Tekanan_darah_tinggi  Platelets  Kreatinin_serum  Sodium_serum  \\\n",
              "0                     1  265000.00              1.9           130   \n",
              "1                     0  263358.03              1.1           136   \n",
              "2                     0  162000.00              1.3           129   \n",
              "3                     0  210000.00              1.9           137   \n",
              "4                     0  327000.00              2.7           116   \n",
              "\n",
              "   Jenis_kelamin  Perokok  Kematian  \n",
              "0              1        0         1  \n",
              "1              1        0         1  \n",
              "2              1        1         1  \n",
              "3              1        0         1  \n",
              "4              0        0         1  "
            ]
          },
          "execution_count": 14,
          "metadata": {},
          "output_type": "execute_result"
        }
      ],
      "source": [
        "# Membuat dataframe yang serupa dengan dataframe sebelumnya\n",
        "df3 = df2.copy()\n",
        "df3.head()"
      ]
    },
    {
      "cell_type": "markdown",
      "metadata": {
        "id": "b6PAv6iogppR"
      },
      "source": [
        "# 5. EXPLORASI DATA\n",
        "\n",
        "Bagian ini berisi tentang eksplorasi data pada dataset di atas."
      ]
    },
    {
      "cell_type": "markdown",
      "metadata": {
        "id": "_ekGBPv0gppR"
      },
      "source": [
        "## 5.1 Descriptive Statistics & Query"
      ]
    },
    {
      "cell_type": "code",
      "execution_count": null,
      "metadata": {
        "colab": {
          "base_uri": "https://localhost:8080/",
          "height": 488
        },
        "id": "3CXkm6ldgppS",
        "outputId": "aacc34c3-9000-471e-b7be-1bc055e55dc0"
      },
      "outputs": [
        {
          "data": {
            "text/html": [
              "<div>\n",
              "<style scoped>\n",
              "    .dataframe tbody tr th:only-of-type {\n",
              "        vertical-align: middle;\n",
              "    }\n",
              "\n",
              "    .dataframe tbody tr th {\n",
              "        vertical-align: top;\n",
              "    }\n",
              "\n",
              "    .dataframe thead th {\n",
              "        text-align: right;\n",
              "    }\n",
              "</style>\n",
              "<table border=\"1\" class=\"dataframe\">\n",
              "  <thead>\n",
              "    <tr style=\"text-align: right;\">\n",
              "      <th></th>\n",
              "      <th>Usia</th>\n",
              "      <th>Anaemia</th>\n",
              "      <th>Kreatinin_fosfokinase</th>\n",
              "      <th>Diabetes</th>\n",
              "      <th>Fraksi_ejeksi</th>\n",
              "      <th>Tekanan_darah_tinggi</th>\n",
              "      <th>Platelets</th>\n",
              "      <th>Kreatinin_serum</th>\n",
              "      <th>Sodium_serum</th>\n",
              "      <th>Jenis_kelamin</th>\n",
              "      <th>Perokok</th>\n",
              "      <th>Kematian</th>\n",
              "    </tr>\n",
              "  </thead>\n",
              "  <tbody>\n",
              "    <tr>\n",
              "      <th>0</th>\n",
              "      <td>75.0</td>\n",
              "      <td>0</td>\n",
              "      <td>582</td>\n",
              "      <td>0</td>\n",
              "      <td>20</td>\n",
              "      <td>1</td>\n",
              "      <td>265000.00</td>\n",
              "      <td>1.9</td>\n",
              "      <td>130</td>\n",
              "      <td>1</td>\n",
              "      <td>0</td>\n",
              "      <td>1</td>\n",
              "    </tr>\n",
              "    <tr>\n",
              "      <th>1</th>\n",
              "      <td>55.0</td>\n",
              "      <td>0</td>\n",
              "      <td>7861</td>\n",
              "      <td>0</td>\n",
              "      <td>38</td>\n",
              "      <td>0</td>\n",
              "      <td>263358.03</td>\n",
              "      <td>1.1</td>\n",
              "      <td>136</td>\n",
              "      <td>1</td>\n",
              "      <td>0</td>\n",
              "      <td>1</td>\n",
              "    </tr>\n",
              "    <tr>\n",
              "      <th>2</th>\n",
              "      <td>65.0</td>\n",
              "      <td>0</td>\n",
              "      <td>146</td>\n",
              "      <td>0</td>\n",
              "      <td>20</td>\n",
              "      <td>0</td>\n",
              "      <td>162000.00</td>\n",
              "      <td>1.3</td>\n",
              "      <td>129</td>\n",
              "      <td>1</td>\n",
              "      <td>1</td>\n",
              "      <td>1</td>\n",
              "    </tr>\n",
              "    <tr>\n",
              "      <th>3</th>\n",
              "      <td>50.0</td>\n",
              "      <td>1</td>\n",
              "      <td>111</td>\n",
              "      <td>0</td>\n",
              "      <td>20</td>\n",
              "      <td>0</td>\n",
              "      <td>210000.00</td>\n",
              "      <td>1.9</td>\n",
              "      <td>137</td>\n",
              "      <td>1</td>\n",
              "      <td>0</td>\n",
              "      <td>1</td>\n",
              "    </tr>\n",
              "    <tr>\n",
              "      <th>4</th>\n",
              "      <td>65.0</td>\n",
              "      <td>1</td>\n",
              "      <td>160</td>\n",
              "      <td>1</td>\n",
              "      <td>20</td>\n",
              "      <td>0</td>\n",
              "      <td>327000.00</td>\n",
              "      <td>2.7</td>\n",
              "      <td>116</td>\n",
              "      <td>0</td>\n",
              "      <td>0</td>\n",
              "      <td>1</td>\n",
              "    </tr>\n",
              "    <tr>\n",
              "      <th>...</th>\n",
              "      <td>...</td>\n",
              "      <td>...</td>\n",
              "      <td>...</td>\n",
              "      <td>...</td>\n",
              "      <td>...</td>\n",
              "      <td>...</td>\n",
              "      <td>...</td>\n",
              "      <td>...</td>\n",
              "      <td>...</td>\n",
              "      <td>...</td>\n",
              "      <td>...</td>\n",
              "      <td>...</td>\n",
              "    </tr>\n",
              "    <tr>\n",
              "      <th>294</th>\n",
              "      <td>62.0</td>\n",
              "      <td>0</td>\n",
              "      <td>61</td>\n",
              "      <td>1</td>\n",
              "      <td>38</td>\n",
              "      <td>1</td>\n",
              "      <td>155000.00</td>\n",
              "      <td>1.1</td>\n",
              "      <td>143</td>\n",
              "      <td>1</td>\n",
              "      <td>1</td>\n",
              "      <td>0</td>\n",
              "    </tr>\n",
              "    <tr>\n",
              "      <th>295</th>\n",
              "      <td>55.0</td>\n",
              "      <td>0</td>\n",
              "      <td>1820</td>\n",
              "      <td>0</td>\n",
              "      <td>38</td>\n",
              "      <td>0</td>\n",
              "      <td>270000.00</td>\n",
              "      <td>1.2</td>\n",
              "      <td>139</td>\n",
              "      <td>0</td>\n",
              "      <td>0</td>\n",
              "      <td>0</td>\n",
              "    </tr>\n",
              "    <tr>\n",
              "      <th>296</th>\n",
              "      <td>45.0</td>\n",
              "      <td>0</td>\n",
              "      <td>2060</td>\n",
              "      <td>1</td>\n",
              "      <td>60</td>\n",
              "      <td>0</td>\n",
              "      <td>742000.00</td>\n",
              "      <td>0.8</td>\n",
              "      <td>138</td>\n",
              "      <td>0</td>\n",
              "      <td>0</td>\n",
              "      <td>0</td>\n",
              "    </tr>\n",
              "    <tr>\n",
              "      <th>297</th>\n",
              "      <td>45.0</td>\n",
              "      <td>0</td>\n",
              "      <td>2413</td>\n",
              "      <td>0</td>\n",
              "      <td>38</td>\n",
              "      <td>0</td>\n",
              "      <td>140000.00</td>\n",
              "      <td>1.4</td>\n",
              "      <td>140</td>\n",
              "      <td>1</td>\n",
              "      <td>1</td>\n",
              "      <td>0</td>\n",
              "    </tr>\n",
              "    <tr>\n",
              "      <th>298</th>\n",
              "      <td>50.0</td>\n",
              "      <td>0</td>\n",
              "      <td>196</td>\n",
              "      <td>0</td>\n",
              "      <td>45</td>\n",
              "      <td>0</td>\n",
              "      <td>395000.00</td>\n",
              "      <td>1.6</td>\n",
              "      <td>136</td>\n",
              "      <td>1</td>\n",
              "      <td>1</td>\n",
              "      <td>0</td>\n",
              "    </tr>\n",
              "  </tbody>\n",
              "</table>\n",
              "<p>299 rows × 12 columns</p>\n",
              "</div>"
            ],
            "text/plain": [
              "     Usia  Anaemia  Kreatinin_fosfokinase  Diabetes  Fraksi_ejeksi  \\\n",
              "0    75.0        0                    582         0             20   \n",
              "1    55.0        0                   7861         0             38   \n",
              "2    65.0        0                    146         0             20   \n",
              "3    50.0        1                    111         0             20   \n",
              "4    65.0        1                    160         1             20   \n",
              "..    ...      ...                    ...       ...            ...   \n",
              "294  62.0        0                     61         1             38   \n",
              "295  55.0        0                   1820         0             38   \n",
              "296  45.0        0                   2060         1             60   \n",
              "297  45.0        0                   2413         0             38   \n",
              "298  50.0        0                    196         0             45   \n",
              "\n",
              "     Tekanan_darah_tinggi  Platelets  Kreatinin_serum  Sodium_serum  \\\n",
              "0                       1  265000.00              1.9           130   \n",
              "1                       0  263358.03              1.1           136   \n",
              "2                       0  162000.00              1.3           129   \n",
              "3                       0  210000.00              1.9           137   \n",
              "4                       0  327000.00              2.7           116   \n",
              "..                    ...        ...              ...           ...   \n",
              "294                     1  155000.00              1.1           143   \n",
              "295                     0  270000.00              1.2           139   \n",
              "296                     0  742000.00              0.8           138   \n",
              "297                     0  140000.00              1.4           140   \n",
              "298                     0  395000.00              1.6           136   \n",
              "\n",
              "     Jenis_kelamin  Perokok  Kematian  \n",
              "0                1        0         1  \n",
              "1                1        0         1  \n",
              "2                1        1         1  \n",
              "3                1        0         1  \n",
              "4                0        0         1  \n",
              "..             ...      ...       ...  \n",
              "294              1        1         0  \n",
              "295              0        0         0  \n",
              "296              0        0         0  \n",
              "297              1        1         0  \n",
              "298              1        1         0  \n",
              "\n",
              "[299 rows x 12 columns]"
            ]
          },
          "execution_count": 15,
          "metadata": {},
          "output_type": "execute_result"
        }
      ],
      "source": [
        "# Menampilkan dataframe df3\n",
        "df3"
      ]
    },
    {
      "cell_type": "code",
      "execution_count": null,
      "metadata": {
        "id": "mY7dmv5zgppS"
      },
      "outputs": [],
      "source": [
        "# Membuat variable num untuk membuat dataframe yang berisi atribut numerik\n",
        "num = df3.drop(columns=['Anaemia', 'Diabetes', 'Tekanan_darah_tinggi','Jenis_kelamin','Perokok','Kematian'])"
      ]
    },
    {
      "cell_type": "markdown",
      "metadata": {
        "id": "2t_ggwgzgppT"
      },
      "source": [
        "Penghapusan pada atribut-atribut di atas dikarenakan atribut di atas merupakan data yang bersifat boolean, jadi tidak dapat dilakukan perhitungan deskriptif statistik"
      ]
    },
    {
      "cell_type": "code",
      "execution_count": null,
      "metadata": {
        "colab": {
          "base_uri": "https://localhost:8080/",
          "height": 300
        },
        "id": "D7PeyWyZgppT",
        "outputId": "00e054ff-def0-4e19-ddb1-5aab9d531829"
      },
      "outputs": [
        {
          "data": {
            "text/html": [
              "<div>\n",
              "<style scoped>\n",
              "    .dataframe tbody tr th:only-of-type {\n",
              "        vertical-align: middle;\n",
              "    }\n",
              "\n",
              "    .dataframe tbody tr th {\n",
              "        vertical-align: top;\n",
              "    }\n",
              "\n",
              "    .dataframe thead th {\n",
              "        text-align: right;\n",
              "    }\n",
              "</style>\n",
              "<table border=\"1\" class=\"dataframe\">\n",
              "  <thead>\n",
              "    <tr style=\"text-align: right;\">\n",
              "      <th></th>\n",
              "      <th>Usia</th>\n",
              "      <th>Kreatinin_fosfokinase</th>\n",
              "      <th>Fraksi_ejeksi</th>\n",
              "      <th>Platelets</th>\n",
              "      <th>Kreatinin_serum</th>\n",
              "      <th>Sodium_serum</th>\n",
              "    </tr>\n",
              "  </thead>\n",
              "  <tbody>\n",
              "    <tr>\n",
              "      <th>count</th>\n",
              "      <td>299.000000</td>\n",
              "      <td>299.000000</td>\n",
              "      <td>299.000000</td>\n",
              "      <td>299.000000</td>\n",
              "      <td>299.00000</td>\n",
              "      <td>299.000000</td>\n",
              "    </tr>\n",
              "    <tr>\n",
              "      <th>mean</th>\n",
              "      <td>60.833893</td>\n",
              "      <td>581.839465</td>\n",
              "      <td>38.083612</td>\n",
              "      <td>263358.029264</td>\n",
              "      <td>1.39388</td>\n",
              "      <td>136.625418</td>\n",
              "    </tr>\n",
              "    <tr>\n",
              "      <th>std</th>\n",
              "      <td>11.894809</td>\n",
              "      <td>970.287881</td>\n",
              "      <td>11.834841</td>\n",
              "      <td>97804.236869</td>\n",
              "      <td>1.03451</td>\n",
              "      <td>4.412477</td>\n",
              "    </tr>\n",
              "    <tr>\n",
              "      <th>min</th>\n",
              "      <td>40.000000</td>\n",
              "      <td>23.000000</td>\n",
              "      <td>14.000000</td>\n",
              "      <td>25100.000000</td>\n",
              "      <td>0.50000</td>\n",
              "      <td>113.000000</td>\n",
              "    </tr>\n",
              "    <tr>\n",
              "      <th>25%</th>\n",
              "      <td>51.000000</td>\n",
              "      <td>116.500000</td>\n",
              "      <td>30.000000</td>\n",
              "      <td>212500.000000</td>\n",
              "      <td>0.90000</td>\n",
              "      <td>134.000000</td>\n",
              "    </tr>\n",
              "    <tr>\n",
              "      <th>50%</th>\n",
              "      <td>60.000000</td>\n",
              "      <td>250.000000</td>\n",
              "      <td>38.000000</td>\n",
              "      <td>262000.000000</td>\n",
              "      <td>1.10000</td>\n",
              "      <td>137.000000</td>\n",
              "    </tr>\n",
              "    <tr>\n",
              "      <th>75%</th>\n",
              "      <td>70.000000</td>\n",
              "      <td>582.000000</td>\n",
              "      <td>45.000000</td>\n",
              "      <td>303500.000000</td>\n",
              "      <td>1.40000</td>\n",
              "      <td>140.000000</td>\n",
              "    </tr>\n",
              "    <tr>\n",
              "      <th>max</th>\n",
              "      <td>95.000000</td>\n",
              "      <td>7861.000000</td>\n",
              "      <td>80.000000</td>\n",
              "      <td>850000.000000</td>\n",
              "      <td>9.40000</td>\n",
              "      <td>148.000000</td>\n",
              "    </tr>\n",
              "  </tbody>\n",
              "</table>\n",
              "</div>"
            ],
            "text/plain": [
              "             Usia  Kreatinin_fosfokinase  Fraksi_ejeksi      Platelets  \\\n",
              "count  299.000000             299.000000     299.000000     299.000000   \n",
              "mean    60.833893             581.839465      38.083612  263358.029264   \n",
              "std     11.894809             970.287881      11.834841   97804.236869   \n",
              "min     40.000000              23.000000      14.000000   25100.000000   \n",
              "25%     51.000000             116.500000      30.000000  212500.000000   \n",
              "50%     60.000000             250.000000      38.000000  262000.000000   \n",
              "75%     70.000000             582.000000      45.000000  303500.000000   \n",
              "max     95.000000            7861.000000      80.000000  850000.000000   \n",
              "\n",
              "       Kreatinin_serum  Sodium_serum  \n",
              "count        299.00000    299.000000  \n",
              "mean           1.39388    136.625418  \n",
              "std            1.03451      4.412477  \n",
              "min            0.50000    113.000000  \n",
              "25%            0.90000    134.000000  \n",
              "50%            1.10000    137.000000  \n",
              "75%            1.40000    140.000000  \n",
              "max            9.40000    148.000000  "
            ]
          },
          "execution_count": 17,
          "metadata": {},
          "output_type": "execute_result"
        }
      ],
      "source": [
        "# Melihat statistik deskriptif data numerik pada dataset\n",
        "num.describe()"
      ]
    },
    {
      "cell_type": "markdown",
      "metadata": {
        "id": "sBemrn3ugppT"
      },
      "source": [
        "Dari hasil di atas, dapat diperoleh bahwa :\n",
        "\n",
        "- Usia rata-rata pasien dalam data adalah di umur 60\n",
        "- Rata-rata nilai Kreatin_fosfokinase ada di nilai 581.839, yang mana nilai itu termasuk tinggi. Menurut hellosehat.com, nilai normal Kreatinin fosfokinase untuk laki-laki adalah 39-308 dan untuk perempuan adalah 26-192. Jika hasil tes menunjukkan angka di atas angka normal, maka pasien bisa jadi mengalami cedera atau memiliki penyakit pada otot, jantung, dan otak\n",
        "- Nilai fraksi ejeksi normal pada manusia menurut Amiliana M. Soesanto pada jurnal Kardiologi Indonesia dengan judul 'Pengukuran Fungsi Sistolik Global Ventrikel Kiri' adalah dengan nilai > 50 %. Jika dilihat dari hasil statistika deskriptif di atas, nilai fraksi ejeksi para kuartil 1-3 ada di bawah angka 50%. Maka nilai tersebut dapat diindikasikan bahwa pasien mengalami masalah fungsi jantung\n",
        "- Nilai rata-rata kreatinin serum pada pasien berada di angka 1.3 yaitu masih berada di nilai maksimal angka normal. Tetapi untuk nilai tertinggi dari kreatinin serum yang ditemukan berada di nilai 9.4 yang mana angka ini jauh di atas angka normal\n",
        "\n",
        "Dari nilai-nilai di atas, dapat disimpulkan bahwa para pasien pada data memiliki cedera atau gejala penyakit jantung sampai gagal jantung"
      ]
    },
    {
      "cell_type": "code",
      "execution_count": null,
      "metadata": {
        "id": "uc8f8LBZgppU"
      },
      "outputs": [],
      "source": [
        "# Membuat variable kat untuk membuat dataframe yang berisi atribut kategorik\n",
        "kat = df3.drop(columns=['Usia', 'Kreatinin_fosfokinase', 'Fraksi_ejeksi', 'Platelets', 'Kreatinin_serum', 'Sodium_serum']).astype('category')\n"
      ]
    },
    {
      "cell_type": "code",
      "execution_count": null,
      "metadata": {
        "colab": {
          "base_uri": "https://localhost:8080/",
          "height": 175
        },
        "id": "s7NdPTqlgppr",
        "outputId": "bb84cb09-efcb-4a14-fce2-6a62770865e8"
      },
      "outputs": [
        {
          "data": {
            "text/html": [
              "<div>\n",
              "<style scoped>\n",
              "    .dataframe tbody tr th:only-of-type {\n",
              "        vertical-align: middle;\n",
              "    }\n",
              "\n",
              "    .dataframe tbody tr th {\n",
              "        vertical-align: top;\n",
              "    }\n",
              "\n",
              "    .dataframe thead th {\n",
              "        text-align: right;\n",
              "    }\n",
              "</style>\n",
              "<table border=\"1\" class=\"dataframe\">\n",
              "  <thead>\n",
              "    <tr style=\"text-align: right;\">\n",
              "      <th></th>\n",
              "      <th>Anaemia</th>\n",
              "      <th>Diabetes</th>\n",
              "      <th>Tekanan_darah_tinggi</th>\n",
              "      <th>Jenis_kelamin</th>\n",
              "      <th>Perokok</th>\n",
              "      <th>Kematian</th>\n",
              "    </tr>\n",
              "  </thead>\n",
              "  <tbody>\n",
              "    <tr>\n",
              "      <th>count</th>\n",
              "      <td>299</td>\n",
              "      <td>299</td>\n",
              "      <td>299</td>\n",
              "      <td>299</td>\n",
              "      <td>299</td>\n",
              "      <td>299</td>\n",
              "    </tr>\n",
              "    <tr>\n",
              "      <th>unique</th>\n",
              "      <td>2</td>\n",
              "      <td>2</td>\n",
              "      <td>2</td>\n",
              "      <td>2</td>\n",
              "      <td>2</td>\n",
              "      <td>2</td>\n",
              "    </tr>\n",
              "    <tr>\n",
              "      <th>top</th>\n",
              "      <td>0</td>\n",
              "      <td>0</td>\n",
              "      <td>0</td>\n",
              "      <td>1</td>\n",
              "      <td>0</td>\n",
              "      <td>0</td>\n",
              "    </tr>\n",
              "    <tr>\n",
              "      <th>freq</th>\n",
              "      <td>170</td>\n",
              "      <td>174</td>\n",
              "      <td>194</td>\n",
              "      <td>194</td>\n",
              "      <td>203</td>\n",
              "      <td>203</td>\n",
              "    </tr>\n",
              "  </tbody>\n",
              "</table>\n",
              "</div>"
            ],
            "text/plain": [
              "        Anaemia  Diabetes  Tekanan_darah_tinggi  Jenis_kelamin  Perokok  \\\n",
              "count       299       299                   299            299      299   \n",
              "unique        2         2                     2              2        2   \n",
              "top           0         0                     0              1        0   \n",
              "freq        170       174                   194            194      203   \n",
              "\n",
              "        Kematian  \n",
              "count        299  \n",
              "unique         2  \n",
              "top            0  \n",
              "freq         203  "
            ]
          },
          "execution_count": 19,
          "metadata": {},
          "output_type": "execute_result"
        }
      ],
      "source": [
        "# Melihat statistik deskriptif data kategorik pada dataset\n",
        "kat.describe()"
      ]
    },
    {
      "cell_type": "markdown",
      "metadata": {
        "id": "lloVflOmgpps"
      },
      "source": [
        "Diperoleh bahwa:\n",
        "\n",
        "- Pasien yang **tidak** mengidap anemia yaitu 170 pasien\n",
        "- Pasien yang **tidak** mengidap diabetes yaitu 174 pasien\n",
        "- Pasien dengan **tidak** mengidap tekanan darah tinggi yaitu 194 pasien\n",
        "- Pasien yang **tidak** merokok yakni 203 pasien\n",
        "- Pasien yang **tidak** meninggal berjumlah 203 pasien"
      ]
    },
    {
      "cell_type": "code",
      "execution_count": null,
      "metadata": {
        "colab": {
          "base_uri": "https://localhost:8080/",
          "height": 143
        },
        "id": "l53ue7KmKtqB",
        "outputId": "4dea0aeb-cbbf-426a-a35f-6849e41e32e4"
      },
      "outputs": [
        {
          "data": {
            "text/html": [
              "<div>\n",
              "<style scoped>\n",
              "    .dataframe tbody tr th:only-of-type {\n",
              "        vertical-align: middle;\n",
              "    }\n",
              "\n",
              "    .dataframe tbody tr th {\n",
              "        vertical-align: top;\n",
              "    }\n",
              "\n",
              "    .dataframe thead th {\n",
              "        text-align: right;\n",
              "    }\n",
              "</style>\n",
              "<table border=\"1\" class=\"dataframe\">\n",
              "  <thead>\n",
              "    <tr style=\"text-align: right;\">\n",
              "      <th></th>\n",
              "      <th>Usia</th>\n",
              "    </tr>\n",
              "    <tr>\n",
              "      <th>Kematian</th>\n",
              "      <th></th>\n",
              "    </tr>\n",
              "  </thead>\n",
              "  <tbody>\n",
              "    <tr>\n",
              "      <th>0</th>\n",
              "      <td>58.761906</td>\n",
              "    </tr>\n",
              "    <tr>\n",
              "      <th>1</th>\n",
              "      <td>65.215281</td>\n",
              "    </tr>\n",
              "  </tbody>\n",
              "</table>\n",
              "</div>"
            ],
            "text/plain": [
              "               Usia\n",
              "Kematian           \n",
              "0         58.761906\n",
              "1         65.215281"
            ]
          },
          "execution_count": 20,
          "metadata": {},
          "output_type": "execute_result"
        }
      ],
      "source": [
        "# Melakukan grouping pada atribut Usia dan Kematian untuk melihat rata-rata usia yang mengalami kematian dan yang tidak\n",
        "mean1 = df3[['Usia','Kematian']].groupby('Kematian').mean().sort_values(by='Usia', ascending=True)\n",
        "mean1"
      ]
    },
    {
      "cell_type": "markdown",
      "metadata": {
        "id": "GMCgmlG4gpps"
      },
      "source": [
        "Diperoleh bahwa rata-rata usia pasien yang meninggal yakni 65 tahun, sedangkan rata-rata pasien yang tidak meninggal atau bertahan hidup berusia 58 tahun"
      ]
    },
    {
      "cell_type": "markdown",
      "metadata": {
        "id": "AAngHwgagppt"
      },
      "source": [
        "Melihat korelasi antara merokok dengan meninggalnya pasien"
      ]
    },
    {
      "cell_type": "code",
      "execution_count": null,
      "metadata": {
        "colab": {
          "base_uri": "https://localhost:8080/",
          "height": 468
        },
        "id": "_ta_7yqfgppt",
        "outputId": "dc45b7df-ba08-4d64-d0e0-91d551a0aaa4"
      },
      "outputs": [
        {
          "data": {
            "image/png": "[encoded data removed]",
            "text/plain": [
              "<Figure size 640x480 with 1 Axes>"
            ]
          },
          "metadata": {},
          "output_type": "display_data"
        }
      ],
      "source": [
        "# Menghitung jumlah pasien untuk setiap kondisi\n",
        "count_Perokok_meninggal = df3[(df3['Perokok'] == 1) & (df3['Kematian'] == 1)].shape[0]\n",
        "count_Perokok_tidak_meninggal = df3[(df3['Perokok'] == 1) & (df3['Kematian'] == 0)].shape[0]\n",
        "count_tidak_Perokok_meninggal = df3[(df3['Perokok'] == 0) & (df3['Kematian'] == 1)].shape[0]\n",
        "count_tidak_Perokok_tidak_meninggal = df3[(df3['Perokok'] == 0) & (df3['Kematian'] == 0)].shape[0]\n",
        "\n",
        "# Mengatur label dan nilai untuk sumbu x\n",
        "labels = ['Perokok\\nMeninggal', 'Perokok\\nTidak Meninggal', 'Tidak Perokok\\nMeninggal', 'Tidak Perokok\\nTidak Meninggal']\n",
        "values = [count_Perokok_meninggal, count_Perokok_tidak_meninggal, count_tidak_Perokok_meninggal, count_tidak_Perokok_tidak_meninggal]\n",
        "\n",
        "# Membuat chart batang\n",
        "plt.bar(labels, values)\n",
        "\n",
        "# Memberi judul dan label sumbu\n",
        "plt.title('Pasien yang Meninggal Dunia Berdasarkan Kebiasaan Merokok')\n",
        "plt.ylabel('Jumlah Pasien')\n",
        "\n",
        "# Menampilkan chart\n",
        "plt.show()\n"
      ]
    },
    {
      "cell_type": "markdown",
      "metadata": {
        "id": "zytxgF57gppu"
      },
      "source": [
        "Dari bar chart di atas, dapat dilihat bahwa pasien yang tidak merokok dan tidak meninggal memiliki angka yang cukup tinggi. Hampir setengah dari sample pasien pada data. Hal ini menunjukkan bahwa kebiasaan tidak merokok juga akan mempengaruhi jantung dan keselamatan kita.\n",
        "\n",
        "Untuk pasien yang perokok dan meninggal memiliki jumlah yang sedikit, kemungkinan pasien yang meninggal merupakan perokok yang sangat berat sehingga merusak kondisi jantungnya.\n",
        "\n",
        "Untuk pasien yang tidak merokok tetapi meninggal kemungkinan adalah dipengaruhi oleh faktor-faktor lain yang dapat merusak sistem kerja jantung"
      ]
    },
    {
      "cell_type": "code",
      "execution_count": null,
      "metadata": {
        "colab": {
          "base_uri": "https://localhost:8080/",
          "height": 112
        },
        "id": "Wk8x3v2tJRgx",
        "outputId": "748dfce2-047b-4f77-f39b-9c51966e35ae"
      },
      "outputs": [
        {
          "data": {
            "text/html": [
              "<div>\n",
              "<style scoped>\n",
              "    .dataframe tbody tr th:only-of-type {\n",
              "        vertical-align: middle;\n",
              "    }\n",
              "\n",
              "    .dataframe tbody tr th {\n",
              "        vertical-align: top;\n",
              "    }\n",
              "\n",
              "    .dataframe thead th {\n",
              "        text-align: right;\n",
              "    }\n",
              "</style>\n",
              "<table border=\"1\" class=\"dataframe\">\n",
              "  <thead>\n",
              "    <tr style=\"text-align: right;\">\n",
              "      <th></th>\n",
              "      <th>Total</th>\n",
              "      <th>Presentase</th>\n",
              "    </tr>\n",
              "  </thead>\n",
              "  <tbody>\n",
              "    <tr>\n",
              "      <th>0</th>\n",
              "      <td>203</td>\n",
              "      <td>67.892977</td>\n",
              "    </tr>\n",
              "    <tr>\n",
              "      <th>1</th>\n",
              "      <td>96</td>\n",
              "      <td>32.107023</td>\n",
              "    </tr>\n",
              "  </tbody>\n",
              "</table>\n",
              "</div>"
            ],
            "text/plain": [
              "   Total  Presentase\n",
              "0    203   67.892977\n",
              "1     96   32.107023"
            ]
          },
          "execution_count": 22,
          "metadata": {},
          "output_type": "execute_result"
        }
      ],
      "source": [
        "# Melihat persentase kematian\n",
        "datakematian = pd.DataFrame({\"Total\":df3['Kematian'].value_counts(), \n",
        "                          \"Presentase\":(df3['Kematian'].value_counts()/df.shape[0])*100})\n",
        "datakematian"
      ]
    },
    {
      "cell_type": "code",
      "execution_count": null,
      "metadata": {
        "colab": {
          "base_uri": "https://localhost:8080/",
          "height": 367
        },
        "id": "GnPJTjvJIC7s",
        "outputId": "79239b1a-089c-44c3-b13e-e8dedfd2dc65"
      },
      "outputs": [
        {
          "data": {
            "image/png": "[encoded data removed]",
            "text/plain": [
              "<Figure size 400x400 with 1 Axes>"
            ]
          },
          "metadata": {},
          "output_type": "display_data"
        }
      ],
      "source": [
        "labels = ['Selamat', 'Tidak Selamat']\n",
        "data_counts = df3['Kematian'].value_counts()\n",
        "colors = ['orange', 'yellow']\n",
        "\n",
        "plt.figure(figsize=(4, 4))\n",
        "plt.pie(data_counts, labels=labels, autopct='%1.1f%%', startangle=90, colors=colors)\n",
        "plt.axis('equal')\n",
        "plt.title('Perbandingan Pasien Selamat dan Tidak Selamat')\n",
        "plt.show()"
      ]
    },
    {
      "cell_type": "markdown",
      "metadata": {
        "id": "ntQcymDnMDwK"
      },
      "source": [
        "Terdapat perbedaan yang cukup signifikan antara pasien selamat dan tidak selamat. Oleh karena itu nantinya kita perlu melakukan resampling."
      ]
    },
    {
      "cell_type": "markdown",
      "metadata": {
        "id": "HkEPQjxEgppu"
      },
      "source": [
        "## 5.2 Correlation Matrix"
      ]
    },
    {
      "cell_type": "code",
      "execution_count": null,
      "metadata": {
        "id": "2pHYze6dOlYg"
      },
      "outputs": [],
      "source": [
        "df4 = df3.copy()"
      ]
    },
    {
      "cell_type": "code",
      "execution_count": null,
      "metadata": {
        "colab": {
          "base_uri": "https://localhost:8080/",
          "height": 808
        },
        "id": "Qm-jhaAjgppu",
        "outputId": "bbff2f40-e2c7-4d09-ffc0-d0dd8ae0734e"
      },
      "outputs": [
        {
          "data": {
            "image/png": "[encoded data removed]",
            "text/plain": [
              "<Figure size 1600x900 with 2 Axes>"
            ]
          },
          "metadata": {},
          "output_type": "display_data"
        }
      ],
      "source": [
        "# Membuat correlation matrix untuk melihat korekasi antara setiap atribut\n",
        "plt.figure(figsize=(16, 9))\n",
        "sns.heatmap(df3.corr(), vmin=-1, vmax=1, annot=True)\n",
        "plt.show()"
      ]
    },
    {
      "cell_type": "code",
      "execution_count": null,
      "metadata": {
        "colab": {
          "base_uri": "https://localhost:8080/"
        },
        "id": "I8WUemAwgppv",
        "outputId": "54a3b381-3399-4b6f-aec8-a86955e5db11"
      },
      "outputs": [
        {
          "data": {
            "text/plain": [
              "Kematian                 1.000000\n",
              "Kreatinin_serum          0.294278\n",
              "Usia                     0.253729\n",
              "Tekanan_darah_tinggi     0.079351\n",
              "Anaemia                  0.066270\n",
              "Kreatinin_fosfokinase    0.062728\n",
              "Diabetes                -0.001943\n",
              "Jenis_kelamin           -0.004316\n",
              "Perokok                 -0.012623\n",
              "Platelets               -0.049139\n",
              "Sodium_serum            -0.195204\n",
              "Fraksi_ejeksi           -0.268603\n",
              "Name: Kematian, dtype: float64"
            ]
          },
          "execution_count": 26,
          "metadata": {},
          "output_type": "execute_result"
        }
      ],
      "source": [
        "## Melihat nilai korelasi atribut terhadap kematian\n",
        "df3.corr()['Kematian'].sort_values(ascending=False)"
      ]
    },
    {
      "cell_type": "markdown",
      "metadata": {
        "id": "3g-lZ1Epgppv"
      },
      "source": [
        "Dari nilai korelasi di atas, dapat dilihat bahwa Kreatinin_serum dan Usia memiliki nilai korelasi positif yang tinggi terhadap kematian, Maka nilai atribut tersebut akan sebanding dengan kematian\n",
        "\n",
        "Untuk Fraksi Ejeksi dan Sodium serum memiliki korelasi negatif yang tinggi terhadap kematian. Maka nilai atribut tersebut akan berbanding terbalik dengan kematian\n",
        "\n",
        "Keempat hal ini menunjukkan hubungan yang kuat terhadap kematian pasien yang memiliki penyakit jantung."
      ]
    },
    {
      "cell_type": "markdown",
      "metadata": {
        "id": "Y0R-nZctgppv"
      },
      "source": [
        "# 6. DATA PREPROCESSING"
      ]
    },
    {
      "cell_type": "markdown",
      "metadata": {
        "id": "goKm1Ak3LqGu"
      },
      "source": [
        "## 6.1 Data Asli"
      ]
    },
    {
      "cell_type": "markdown",
      "metadata": {
        "id": "yMxpBp2Wgppw"
      },
      "source": [
        "Melakukan inisiasi variable X dan y"
      ]
    },
    {
      "cell_type": "code",
      "execution_count": null,
      "metadata": {
        "colab": {
          "base_uri": "https://localhost:8080/"
        },
        "id": "srSiVbbugppw",
        "outputId": "9d71879a-30f3-460e-d873-31543e35c498"
      },
      "outputs": [
        {
          "name": "stdout",
          "output_type": "stream",
          "text": [
            "(299, 11)\n",
            "(299,)\n"
          ]
        }
      ],
      "source": [
        "# Sebelum Resampling\n",
        "X = df3.drop(['Kematian'], axis=1)\n",
        "y = df3['Kematian']\n",
        "print(X.shape)\n",
        "print(y.shape)"
      ]
    },
    {
      "cell_type": "markdown",
      "metadata": {
        "id": "K4iYFJu5L3G9"
      },
      "source": [
        "Dikarenakan data tidak seimbang, kita melakukan resampling data."
      ]
    },
    {
      "cell_type": "markdown",
      "metadata": {
        "id": "ejTDrwvuMoBA"
      },
      "source": [
        "### 6.1.1 Feature Importance\n",
        "\n",
        "Melakukan feature selection dengan library RandomForestClassifier"
      ]
    },
    {
      "cell_type": "code",
      "execution_count": null,
      "metadata": {
        "colab": {
          "base_uri": "https://localhost:8080/",
          "height": 75
        },
        "id": "_ARQqc3fMlAw",
        "outputId": "97977d11-2c25-444b-9af2-9e4639b4dda6"
      },
      "outputs": [
        {
          "data": {
            "text/html": [
              "<style>#sk-container-id-1 {color: black;background-color: white;}#sk-container-id-1 pre{padding: 0;}#sk-container-id-1 div.sk-toggleable {background-color: white;}#sk-container-id-1 label.sk-toggleable__label {cursor: pointer;display: block;width: 100%;margin-bottom: 0;padding: 0.3em;box-sizing: border-box;text-align: center;}#sk-container-id-1 label.sk-toggleable__label-arrow:before {content: \"▸\";float: left;margin-right: 0.25em;color: #696969;}#sk-container-id-1 label.sk-toggleable__label-arrow:hover:before {color: black;}#sk-container-id-1 div.sk-estimator:hover label.sk-toggleable__label-arrow:before {color: black;}#sk-container-id-1 div.sk-toggleable__content {max-height: 0;max-width: 0;overflow: hidden;text-align: left;background-color: #f0f8ff;}#sk-container-id-1 div.sk-toggleable__content pre {margin: 0.2em;color: black;border-radius: 0.25em;background-color: #f0f8ff;}#sk-container-id-1 input.sk-toggleable__control:checked~div.sk-toggleable__content {max-height: 200px;max-width: 100%;overflow: auto;}#sk-container-id-1 input.sk-toggleable__control:checked~label.sk-toggleable__label-arrow:before {content: \"▾\";}#sk-container-id-1 div.sk-estimator input.sk-toggleable__control:checked~label.sk-toggleable__label {background-color: #d4ebff;}#sk-container-id-1 div.sk-label input.sk-toggleable__control:checked~label.sk-toggleable__label {background-color: #d4ebff;}#sk-container-id-1 input.sk-hidden--visually {border: 0;clip: rect(1px 1px 1px 1px);clip: rect(1px, 1px, 1px, 1px);height: 1px;margin: -1px;overflow: hidden;padding: 0;position: absolute;width: 1px;}#sk-container-id-1 div.sk-estimator {font-family: monospace;background-color: #f0f8ff;border: 1px dotted black;border-radius: 0.25em;box-sizing: border-box;margin-bottom: 0.5em;}#sk-container-id-1 div.sk-estimator:hover {background-color: #d4ebff;}#sk-container-id-1 div.sk-parallel-item::after {content: \"\";width: 100%;border-bottom: 1px solid gray;flex-grow: 1;}#sk-container-id-1 div.sk-label:hover label.sk-toggleable__label {background-color: #d4ebff;}#sk-container-id-1 div.sk-serial::before {content: \"\";position: absolute;border-left: 1px solid gray;box-sizing: border-box;top: 0;bottom: 0;left: 50%;z-index: 0;}#sk-container-id-1 div.sk-serial {display: flex;flex-direction: column;align-items: center;background-color: white;padding-right: 0.2em;padding-left: 0.2em;position: relative;}#sk-container-id-1 div.sk-item {position: relative;z-index: 1;}#sk-container-id-1 div.sk-parallel {display: flex;align-items: stretch;justify-content: center;background-color: white;position: relative;}#sk-container-id-1 div.sk-item::before, #sk-container-id-1 div.sk-parallel-item::before {content: \"\";position: absolute;border-left: 1px solid gray;box-sizing: border-box;top: 0;bottom: 0;left: 50%;z-index: -1;}#sk-container-id-1 div.sk-parallel-item {display: flex;flex-direction: column;z-index: 1;position: relative;background-color: white;}#sk-container-id-1 div.sk-parallel-item:first-child::after {align-self: flex-end;width: 50%;}#sk-container-id-1 div.sk-parallel-item:last-child::after {align-self: flex-start;width: 50%;}#sk-container-id-1 div.sk-parallel-item:only-child::after {width: 0;}#sk-container-id-1 div.sk-dashed-wrapped {border: 1px dashed gray;margin: 0 0.4em 0.5em 0.4em;box-sizing: border-box;padding-bottom: 0.4em;background-color: white;}#sk-container-id-1 div.sk-label label {font-family: monospace;font-weight: bold;display: inline-block;line-height: 1.2em;}#sk-container-id-1 div.sk-label-container {text-align: center;}#sk-container-id-1 div.sk-container {/* jupyter's `normalize.less` sets `[hidden] { display: none; }` but bootstrap.min.css set `[hidden] { display: none !important; }` so we also need the `!important` here to be able to override the default hidden behavior on the sphinx rendered scikit-learn.org. See: https://github.com/scikit-learn/scikit-learn/issues/21755 */display: inline-block !important;position: relative;}#sk-container-id-1 div.sk-text-repr-fallback {display: none;}</style><div id=\"sk-container-id-1\" class=\"sk-top-container\"><div class=\"sk-text-repr-fallback\"><pre>RandomForestClassifier()</pre><b>In a Jupyter environment, please rerun this cell to show the HTML representation or trust the notebook. <br />On GitHub, the HTML representation is unable to render, please try loading this page with nbviewer.org.</b></div><div class=\"sk-container\" hidden><div class=\"sk-item\"><div class=\"sk-estimator sk-toggleable\"><input class=\"sk-toggleable__control sk-hidden--visually\" id=\"sk-estimator-id-1\" type=\"checkbox\" checked><label for=\"sk-estimator-id-1\" class=\"sk-toggleable__label sk-toggleable__label-arrow\">RandomForestClassifier</label><div class=\"sk-toggleable__content\"><pre>RandomForestClassifier()</pre></div></div></div></div></div>"
            ],
            "text/plain": [
              "RandomForestClassifier()"
            ]
          },
          "execution_count": 28,
          "metadata": {},
          "output_type": "execute_result"
        }
      ],
      "source": [
        "# Membuat objek rfc dengan estimasi 100 pohon \n",
        "rfc  = RandomForestClassifier(n_estimators=100)\n",
        "\n",
        "# Melakukan training model dengan X dan y\n",
        "rfc.fit(X,y)"
      ]
    },
    {
      "cell_type": "code",
      "execution_count": null,
      "metadata": {
        "id": "e2IenrpXM8wn"
      },
      "outputs": [],
      "source": [
        "# Membuat variable f_i untuk mendapatkan nilai feature importance dari setiap atribut pada X \n",
        "f_i = rfc.feature_importances_"
      ]
    },
    {
      "cell_type": "code",
      "execution_count": null,
      "metadata": {
        "colab": {
          "base_uri": "https://localhost:8080/"
        },
        "id": "Zj5Xm00VNBa9",
        "outputId": "be87feab-9790-407d-8b3b-dfa32de1f85b"
      },
      "outputs": [
        {
          "data": {
            "text/plain": [
              "['Usia',\n",
              " 'Anaemia',\n",
              " 'Kreatinin_fosfokinase',\n",
              " 'Diabetes',\n",
              " 'Fraksi_ejeksi',\n",
              " 'Tekanan_darah_tinggi',\n",
              " 'Platelets',\n",
              " 'Kreatinin_serum',\n",
              " 'Sodium_serum',\n",
              " 'Jenis_kelamin',\n",
              " 'Perokok']"
            ]
          },
          "execution_count": 30,
          "metadata": {},
          "output_type": "execute_result"
        }
      ],
      "source": [
        "# Membuat variable heart untuk melakukan list pada atribut X \n",
        "heart = X.columns.tolist()\n",
        "heart"
      ]
    },
    {
      "cell_type": "code",
      "execution_count": null,
      "metadata": {
        "id": "eEkHxeMJNNId"
      },
      "outputs": [],
      "source": [
        "# Membuat variable feature_imp untuk membuat series dengan nama atribut dari heart dan juga nilai feature importance nya\n",
        "feature_imp = pd.Series(f_i,index=heart)"
      ]
    },
    {
      "cell_type": "code",
      "execution_count": null,
      "metadata": {
        "colab": {
          "base_uri": "https://localhost:8080/"
        },
        "id": "14ds7X3aNZwd",
        "outputId": "1e5b0e91-554d-41a5-f898-b434c8af5bb0"
      },
      "outputs": [
        {
          "data": {
            "text/plain": [
              "Kreatinin_serum          0.203397\n",
              "Fraksi_ejeksi            0.177907\n",
              "Usia                     0.138307\n",
              "Platelets                0.133676\n",
              "Kreatinin_fosfokinase    0.130313\n",
              "Sodium_serum             0.112815\n",
              "Diabetes                 0.022145\n",
              "Anaemia                  0.021179\n",
              "Perokok                  0.020489\n",
              "Jenis_kelamin            0.020353\n",
              "Tekanan_darah_tinggi     0.019418\n",
              "dtype: float64"
            ]
          },
          "execution_count": 32,
          "metadata": {},
          "output_type": "execute_result"
        }
      ],
      "source": [
        "# Menampilkan feature importance dari nilai tertinggi ke terrendah\n",
        "feature_imp = feature_imp.sort_values(ascending=False)\n",
        "feature_imp"
      ]
    },
    {
      "cell_type": "code",
      "execution_count": null,
      "metadata": {
        "colab": {
          "base_uri": "https://localhost:8080/",
          "height": 472
        },
        "id": "gg_EFS4nNk2C",
        "outputId": "e04397df-3e0f-41ef-bb39-00b94f6ecb78"
      },
      "outputs": [
        {
          "data": {
            "image/png": "[encoded data removed]",
            "text/plain": [
              "<Figure size 640x480 with 1 Axes>"
            ]
          },
          "metadata": {},
          "output_type": "display_data"
        }
      ],
      "source": [
        "# Menampilkan plot untuk feature importance \n",
        "sns.barplot(x = feature_imp, y=feature_imp.index)\n",
        "\n",
        "plt.title('Feature Importances of Random Forest Sebelum Resampling')\n",
        "plt.ylabel('Features')\n",
        "plt.xlabel('Feature Importance Score')\n",
        "plt.show()"
      ]
    },
    {
      "cell_type": "markdown",
      "metadata": {
        "id": "r8uMd4JkNtrU"
      },
      "source": [
        "Setelah dilakkan pencarian feature importance atau atribut yang paling berpengaruh pada model, akan dilakukan inisiasi final pada variable X yang akan dijadikan data training. Dalam hal ini dipilih 4 feature atau atribut yang memiliki pengaruh paling tinggi pada model yaitu Kreatinin_serum, Fraksi_ejeksi, Usia, dan Kreatinin_fosfokinase"
      ]
    },
    {
      "cell_type": "code",
      "execution_count": null,
      "metadata": {
        "id": "MkfX9fAGNtPb"
      },
      "outputs": [],
      "source": [
        "# Membuat variable bernama X_fit yang berisi 4 atribut yang paling berpengaruh pada kematian pasien penyakit jantung \n",
        "X_fit = df3[['Usia', 'Fraksi_ejeksi', 'Kreatinin_serum', 'Sodium_serum']]"
      ]
    },
    {
      "cell_type": "code",
      "execution_count": null,
      "metadata": {
        "colab": {
          "base_uri": "https://localhost:8080/",
          "height": 424
        },
        "id": "2VK0uJKTOMsU",
        "outputId": "54abb2b8-8d7e-4eaf-ccc7-b68e7b2d4012"
      },
      "outputs": [
        {
          "data": {
            "text/html": [
              "<div>\n",
              "<style scoped>\n",
              "    .dataframe tbody tr th:only-of-type {\n",
              "        vertical-align: middle;\n",
              "    }\n",
              "\n",
              "    .dataframe tbody tr th {\n",
              "        vertical-align: top;\n",
              "    }\n",
              "\n",
              "    .dataframe thead th {\n",
              "        text-align: right;\n",
              "    }\n",
              "</style>\n",
              "<table border=\"1\" class=\"dataframe\">\n",
              "  <thead>\n",
              "    <tr style=\"text-align: right;\">\n",
              "      <th></th>\n",
              "      <th>Usia</th>\n",
              "      <th>Fraksi_ejeksi</th>\n",
              "      <th>Kreatinin_serum</th>\n",
              "      <th>Sodium_serum</th>\n",
              "    </tr>\n",
              "  </thead>\n",
              "  <tbody>\n",
              "    <tr>\n",
              "      <th>0</th>\n",
              "      <td>75.0</td>\n",
              "      <td>20</td>\n",
              "      <td>1.9</td>\n",
              "      <td>130</td>\n",
              "    </tr>\n",
              "    <tr>\n",
              "      <th>1</th>\n",
              "      <td>55.0</td>\n",
              "      <td>38</td>\n",
              "      <td>1.1</td>\n",
              "      <td>136</td>\n",
              "    </tr>\n",
              "    <tr>\n",
              "      <th>2</th>\n",
              "      <td>65.0</td>\n",
              "      <td>20</td>\n",
              "      <td>1.3</td>\n",
              "      <td>129</td>\n",
              "    </tr>\n",
              "    <tr>\n",
              "      <th>3</th>\n",
              "      <td>50.0</td>\n",
              "      <td>20</td>\n",
              "      <td>1.9</td>\n",
              "      <td>137</td>\n",
              "    </tr>\n",
              "    <tr>\n",
              "      <th>4</th>\n",
              "      <td>65.0</td>\n",
              "      <td>20</td>\n",
              "      <td>2.7</td>\n",
              "      <td>116</td>\n",
              "    </tr>\n",
              "    <tr>\n",
              "      <th>...</th>\n",
              "      <td>...</td>\n",
              "      <td>...</td>\n",
              "      <td>...</td>\n",
              "      <td>...</td>\n",
              "    </tr>\n",
              "    <tr>\n",
              "      <th>294</th>\n",
              "      <td>62.0</td>\n",
              "      <td>38</td>\n",
              "      <td>1.1</td>\n",
              "      <td>143</td>\n",
              "    </tr>\n",
              "    <tr>\n",
              "      <th>295</th>\n",
              "      <td>55.0</td>\n",
              "      <td>38</td>\n",
              "      <td>1.2</td>\n",
              "      <td>139</td>\n",
              "    </tr>\n",
              "    <tr>\n",
              "      <th>296</th>\n",
              "      <td>45.0</td>\n",
              "      <td>60</td>\n",
              "      <td>0.8</td>\n",
              "      <td>138</td>\n",
              "    </tr>\n",
              "    <tr>\n",
              "      <th>297</th>\n",
              "      <td>45.0</td>\n",
              "      <td>38</td>\n",
              "      <td>1.4</td>\n",
              "      <td>140</td>\n",
              "    </tr>\n",
              "    <tr>\n",
              "      <th>298</th>\n",
              "      <td>50.0</td>\n",
              "      <td>45</td>\n",
              "      <td>1.6</td>\n",
              "      <td>136</td>\n",
              "    </tr>\n",
              "  </tbody>\n",
              "</table>\n",
              "<p>299 rows × 4 columns</p>\n",
              "</div>"
            ],
            "text/plain": [
              "     Usia  Fraksi_ejeksi  Kreatinin_serum  Sodium_serum\n",
              "0    75.0             20              1.9           130\n",
              "1    55.0             38              1.1           136\n",
              "2    65.0             20              1.3           129\n",
              "3    50.0             20              1.9           137\n",
              "4    65.0             20              2.7           116\n",
              "..    ...            ...              ...           ...\n",
              "294  62.0             38              1.1           143\n",
              "295  55.0             38              1.2           139\n",
              "296  45.0             60              0.8           138\n",
              "297  45.0             38              1.4           140\n",
              "298  50.0             45              1.6           136\n",
              "\n",
              "[299 rows x 4 columns]"
            ]
          },
          "execution_count": 35,
          "metadata": {},
          "output_type": "execute_result"
        }
      ],
      "source": [
        "# Melihat isi dataframe X_fit\n",
        "X_fit"
      ]
    },
    {
      "cell_type": "code",
      "execution_count": null,
      "metadata": {
        "colab": {
          "base_uri": "https://localhost:8080/"
        },
        "id": "IFjs4VGcOWuM",
        "outputId": "fa3219f5-df46-41bd-b25c-ebfdfb01e2c2"
      },
      "outputs": [
        {
          "name": "stdout",
          "output_type": "stream",
          "text": [
            "<class 'pandas.core.frame.DataFrame'>\n",
            "RangeIndex: 299 entries, 0 to 298\n",
            "Data columns (total 4 columns):\n",
            " #   Column           Non-Null Count  Dtype  \n",
            "---  ------           --------------  -----  \n",
            " 0   Usia             299 non-null    float64\n",
            " 1   Fraksi_ejeksi    299 non-null    int64  \n",
            " 2   Kreatinin_serum  299 non-null    float64\n",
            " 3   Sodium_serum     299 non-null    int64  \n",
            "dtypes: float64(2), int64(2)\n",
            "memory usage: 9.5 KB\n"
          ]
        }
      ],
      "source": [
        "# Melihat rincian dataframe pada X_fit (sebelum resampling)\n",
        "X_fit.info() "
      ]
    },
    {
      "cell_type": "markdown",
      "metadata": {
        "id": "E5XIY6iEOlxR"
      },
      "source": [
        "Setelah diperoleh atribut yang akan dilakukan training, kemudian membagi data menjadi Training dan Testing dengan proporsi 0.8 dan 0.2"
      ]
    },
    {
      "cell_type": "code",
      "execution_count": null,
      "metadata": {
        "id": "_wHWbzzdOwRg"
      },
      "outputs": [],
      "source": [
        "X_train, X_test, y_train, y_test = train_test_split(X_fit, y, test_size=0.30, random_state=325)"
      ]
    },
    {
      "cell_type": "code",
      "execution_count": null,
      "metadata": {
        "colab": {
          "base_uri": "https://localhost:8080/"
        },
        "id": "fhtalhEMO560",
        "outputId": "2e0fe280-525e-4681-814a-b7d67e15e282"
      },
      "outputs": [
        {
          "name": "stdout",
          "output_type": "stream",
          "text": [
            "(209, 4)\n",
            "(90, 4)\n"
          ]
        }
      ],
      "source": [
        "print(X_train.shape)\n",
        "print(X_test.shape)"
      ]
    },
    {
      "cell_type": "markdown",
      "metadata": {
        "id": "_CAH0aBcPBdP"
      },
      "source": [
        "diperoleh berdasarkan pembagian proporsi training data dan testing data , didapat jumlah training dari keseluruhan data , sebanyak 209 data dan data training testing sebanyak 90."
      ]
    },
    {
      "cell_type": "markdown",
      "metadata": {
        "id": "mkdaTUzBLvtv"
      },
      "source": [
        "## 6.2 Random Under Sampling"
      ]
    },
    {
      "cell_type": "code",
      "execution_count": null,
      "metadata": {
        "colab": {
          "base_uri": "https://localhost:8080/"
        },
        "id": "bQ6N-S6hPMhV",
        "outputId": "98d9433a-96b5-4915-8f66-017a9fead257"
      },
      "outputs": [
        {
          "name": "stdout",
          "output_type": "stream",
          "text": [
            "(299, 11)\n",
            "(299,)\n"
          ]
        }
      ],
      "source": [
        "# Sesudah Resampling\n",
        "X1 = df4.drop(['Kematian'], axis=1)\n",
        "y1 = df4['Kematian']\n",
        "print(X1.shape)\n",
        "print(y1.shape)"
      ]
    },
    {
      "cell_type": "markdown",
      "metadata": {
        "id": "u9nadsrTMON1"
      },
      "source": [
        "Teknik resampling yang digunakan yaitu Random under-sampling. Teknik ini merupakan teknik resampling data yang digunakan ketika kelas minoritas dalam dataset terlalu sedikit dan ingin menyeimbangkan jumlah sampel pada setiap kelas. Teknik ini mengurangi jumlah sampel pada kelas mayoritas secara acak hingga jumlahnya sama dengan jumlah sampel pada kelas minoritas."
      ]
    },
    {
      "cell_type": "code",
      "execution_count": null,
      "metadata": {
        "colab": {
          "base_uri": "https://localhost:8080/"
        },
        "id": "agA4FJePPE5G",
        "outputId": "7d07bdb7-17a2-4ac0-b095-41333ac853f0"
      },
      "outputs": [
        {
          "name": "stdout",
          "output_type": "stream",
          "text": [
            "Original dataset shape: Counter({0: 203, 1: 96})\n",
            "Resample dataset shape: Counter({0: 96, 1: 96})\n"
          ]
        }
      ],
      "source": [
        "# Import library\n",
        "from imblearn.under_sampling import RandomUnderSampler\n",
        "from collections import Counter\n",
        "\n",
        "rus = RandomUnderSampler(random_state=42, replacement=True)# fit predictor and target variable\n",
        "x_rus, y_rus = rus.fit_resample(X1, y1)\n",
        "\n",
        "print('Original dataset shape:', Counter(y))\n",
        "print('Resample dataset shape:', Counter(y_rus))"
      ]
    },
    {
      "cell_type": "code",
      "execution_count": null,
      "metadata": {
        "id": "XLqkv9lhP7Y6"
      },
      "outputs": [],
      "source": [
        "# Dataframe baru\n",
        "df_rus = pd.DataFrame(data=x_rus, columns=X1.columns)\n",
        "df_rus['target'] = y_rus"
      ]
    },
    {
      "cell_type": "markdown",
      "metadata": {
        "id": "T567vBzDMi6M"
      },
      "source": [
        "### 6.2.1 Feature Importance\n",
        "\n",
        "Melakukan feature selection dengan library RandomForestClassifier"
      ]
    },
    {
      "cell_type": "code",
      "execution_count": null,
      "metadata": {
        "colab": {
          "base_uri": "https://localhost:8080/",
          "height": 75
        },
        "id": "if6lEXECPl-c",
        "outputId": "b060a735-42fd-455c-8930-15197b0c9629"
      },
      "outputs": [
        {
          "data": {
            "text/html": [
              "<style>#sk-container-id-2 {color: black;background-color: white;}#sk-container-id-2 pre{padding: 0;}#sk-container-id-2 div.sk-toggleable {background-color: white;}#sk-container-id-2 label.sk-toggleable__label {cursor: pointer;display: block;width: 100%;margin-bottom: 0;padding: 0.3em;box-sizing: border-box;text-align: center;}#sk-container-id-2 label.sk-toggleable__label-arrow:before {content: \"▸\";float: left;margin-right: 0.25em;color: #696969;}#sk-container-id-2 label.sk-toggleable__label-arrow:hover:before {color: black;}#sk-container-id-2 div.sk-estimator:hover label.sk-toggleable__label-arrow:before {color: black;}#sk-container-id-2 div.sk-toggleable__content {max-height: 0;max-width: 0;overflow: hidden;text-align: left;background-color: #f0f8ff;}#sk-container-id-2 div.sk-toggleable__content pre {margin: 0.2em;color: black;border-radius: 0.25em;background-color: #f0f8ff;}#sk-container-id-2 input.sk-toggleable__control:checked~div.sk-toggleable__content {max-height: 200px;max-width: 100%;overflow: auto;}#sk-container-id-2 input.sk-toggleable__control:checked~label.sk-toggleable__label-arrow:before {content: \"▾\";}#sk-container-id-2 div.sk-estimator input.sk-toggleable__control:checked~label.sk-toggleable__label {background-color: #d4ebff;}#sk-container-id-2 div.sk-label input.sk-toggleable__control:checked~label.sk-toggleable__label {background-color: #d4ebff;}#sk-container-id-2 input.sk-hidden--visually {border: 0;clip: rect(1px 1px 1px 1px);clip: rect(1px, 1px, 1px, 1px);height: 1px;margin: -1px;overflow: hidden;padding: 0;position: absolute;width: 1px;}#sk-container-id-2 div.sk-estimator {font-family: monospace;background-color: #f0f8ff;border: 1px dotted black;border-radius: 0.25em;box-sizing: border-box;margin-bottom: 0.5em;}#sk-container-id-2 div.sk-estimator:hover {background-color: #d4ebff;}#sk-container-id-2 div.sk-parallel-item::after {content: \"\";width: 100%;border-bottom: 1px solid gray;flex-grow: 1;}#sk-container-id-2 div.sk-label:hover label.sk-toggleable__label {background-color: #d4ebff;}#sk-container-id-2 div.sk-serial::before {content: \"\";position: absolute;border-left: 1px solid gray;box-sizing: border-box;top: 0;bottom: 0;left: 50%;z-index: 0;}#sk-container-id-2 div.sk-serial {display: flex;flex-direction: column;align-items: center;background-color: white;padding-right: 0.2em;padding-left: 0.2em;position: relative;}#sk-container-id-2 div.sk-item {position: relative;z-index: 1;}#sk-container-id-2 div.sk-parallel {display: flex;align-items: stretch;justify-content: center;background-color: white;position: relative;}#sk-container-id-2 div.sk-item::before, #sk-container-id-2 div.sk-parallel-item::before {content: \"\";position: absolute;border-left: 1px solid gray;box-sizing: border-box;top: 0;bottom: 0;left: 50%;z-index: -1;}#sk-container-id-2 div.sk-parallel-item {display: flex;flex-direction: column;z-index: 1;position: relative;background-color: white;}#sk-container-id-2 div.sk-parallel-item:first-child::after {align-self: flex-end;width: 50%;}#sk-container-id-2 div.sk-parallel-item:last-child::after {align-self: flex-start;width: 50%;}#sk-container-id-2 div.sk-parallel-item:only-child::after {width: 0;}#sk-container-id-2 div.sk-dashed-wrapped {border: 1px dashed gray;margin: 0 0.4em 0.5em 0.4em;box-sizing: border-box;padding-bottom: 0.4em;background-color: white;}#sk-container-id-2 div.sk-label label {font-family: monospace;font-weight: bold;display: inline-block;line-height: 1.2em;}#sk-container-id-2 div.sk-label-container {text-align: center;}#sk-container-id-2 div.sk-container {/* jupyter's `normalize.less` sets `[hidden] { display: none; }` but bootstrap.min.css set `[hidden] { display: none !important; }` so we also need the `!important` here to be able to override the default hidden behavior on the sphinx rendered scikit-learn.org. See: https://github.com/scikit-learn/scikit-learn/issues/21755 */display: inline-block !important;position: relative;}#sk-container-id-2 div.sk-text-repr-fallback {display: none;}</style><div id=\"sk-container-id-2\" class=\"sk-top-container\"><div class=\"sk-text-repr-fallback\"><pre>RandomForestClassifier()</pre><b>In a Jupyter environment, please rerun this cell to show the HTML representation or trust the notebook. <br />On GitHub, the HTML representation is unable to render, please try loading this page with nbviewer.org.</b></div><div class=\"sk-container\" hidden><div class=\"sk-item\"><div class=\"sk-estimator sk-toggleable\"><input class=\"sk-toggleable__control sk-hidden--visually\" id=\"sk-estimator-id-2\" type=\"checkbox\" checked><label for=\"sk-estimator-id-2\" class=\"sk-toggleable__label sk-toggleable__label-arrow\">RandomForestClassifier</label><div class=\"sk-toggleable__content\"><pre>RandomForestClassifier()</pre></div></div></div></div></div>"
            ],
            "text/plain": [
              "RandomForestClassifier()"
            ]
          },
          "execution_count": 42,
          "metadata": {},
          "output_type": "execute_result"
        }
      ],
      "source": [
        "# Membuat objek rfc dengan estimasi 100 pohon untuk sesudah resampling \n",
        "rfc1  = RandomForestClassifier(n_estimators=100)\n",
        "\n",
        "# Melakukan training model dengan X dan y\n",
        "rfc1.fit(X1,y1)"
      ]
    },
    {
      "cell_type": "code",
      "execution_count": null,
      "metadata": {
        "id": "JsdkAzgcPqT1"
      },
      "outputs": [],
      "source": [
        "# Membuat variable f_i untuk mendapatkan nilai feature importance dari setiap atribut pada X1 \n",
        "f_i1 = rfc1.feature_importances_"
      ]
    },
    {
      "cell_type": "code",
      "execution_count": null,
      "metadata": {
        "colab": {
          "base_uri": "https://localhost:8080/"
        },
        "id": "rzPyfhiWPwWP",
        "outputId": "f8bf69c0-3788-4a46-efe8-1638ac7a7080"
      },
      "outputs": [
        {
          "data": {
            "text/plain": [
              "['Usia',\n",
              " 'Anaemia',\n",
              " 'Kreatinin_fosfokinase',\n",
              " 'Diabetes',\n",
              " 'Fraksi_ejeksi',\n",
              " 'Tekanan_darah_tinggi',\n",
              " 'Platelets',\n",
              " 'Kreatinin_serum',\n",
              " 'Sodium_serum',\n",
              " 'Jenis_kelamin',\n",
              " 'Perokok']"
            ]
          },
          "execution_count": 44,
          "metadata": {},
          "output_type": "execute_result"
        }
      ],
      "source": [
        "# Membuat variable heart untuk melakukan list pada atribut X1 \n",
        "heart1 = X1.columns.tolist()\n",
        "heart1"
      ]
    },
    {
      "cell_type": "code",
      "execution_count": null,
      "metadata": {
        "id": "PpltmzDyQQjh"
      },
      "outputs": [],
      "source": [
        "# Membuat variable feature_imp untuk membuat series dengan nama atribut dari heart dan juga nilai feature importance nya\n",
        "feature_imp1 = pd.Series(f_i1,index=heart1)"
      ]
    },
    {
      "cell_type": "code",
      "execution_count": null,
      "metadata": {
        "colab": {
          "base_uri": "https://localhost:8080/"
        },
        "id": "iJ-_CyzqQVRz",
        "outputId": "8080e0c1-8d8b-4699-f912-4fc4208b4e0b"
      },
      "outputs": [
        {
          "data": {
            "text/plain": [
              "Kreatinin_serum          0.204219\n",
              "Fraksi_ejeksi            0.171533\n",
              "Usia                     0.143859\n",
              "Kreatinin_fosfokinase    0.131838\n",
              "Platelets                0.130422\n",
              "Sodium_serum             0.116508\n",
              "Diabetes                 0.023200\n",
              "Perokok                  0.020747\n",
              "Tekanan_darah_tinggi     0.020183\n",
              "Anaemia                  0.019145\n",
              "Jenis_kelamin            0.018346\n",
              "dtype: float64"
            ]
          },
          "execution_count": 46,
          "metadata": {},
          "output_type": "execute_result"
        }
      ],
      "source": [
        "# Menampilkan feature importance dari nilai tertinggi ke terrendah\n",
        "feature_imp1 = feature_imp1.sort_values(ascending=False)\n",
        "feature_imp1"
      ]
    },
    {
      "cell_type": "code",
      "execution_count": null,
      "metadata": {
        "colab": {
          "base_uri": "https://localhost:8080/",
          "height": 472
        },
        "id": "KwXOtOp7QfSd",
        "outputId": "f2a9f71b-f250-434e-b4f1-e3af76cfc3e8"
      },
      "outputs": [
        {
          "data": {
            "image/png": "[encoded data removed]",
            "text/plain": [
              "<Figure size 640x480 with 1 Axes>"
            ]
          },
          "metadata": {},
          "output_type": "display_data"
        }
      ],
      "source": [
        "# Menampilkan plot untuk feature importance sesudah resampling\n",
        "sns.barplot(x = feature_imp1, y=feature_imp1.index)\n",
        "\n",
        "plt.title('Feature Importances of Random Forest Sesudah Resampling Menggunakan Random Under Sampling')\n",
        "plt.ylabel('Features')\n",
        "plt.xlabel('Feature Importance Score')\n",
        "plt.show()"
      ]
    },
    {
      "cell_type": "markdown",
      "metadata": {
        "id": "gfzmv-btnicA"
      },
      "source": [
        "4 feature atau atribut yang memiliki pengaruh paling tinggi pada model yaitu Kreatinin_serum, Fraksi_ejeksi, Usia, dan Kreatinin_fosfokinase"
      ]
    },
    {
      "cell_type": "code",
      "execution_count": null,
      "metadata": {
        "id": "h-QxlNRTQsQJ"
      },
      "outputs": [],
      "source": [
        "# Membuat variable bernama X_fit1 yang berisi 4 atribut yang paling berpengaruh pada kematian pasien penyakit jantung\n",
        "X_fit1 = df_rus[['Usia', 'Fraksi_ejeksi', 'Kreatinin_serum', 'Sodium_serum']]"
      ]
    },
    {
      "cell_type": "code",
      "execution_count": null,
      "metadata": {
        "colab": {
          "base_uri": "https://localhost:8080/",
          "height": 424
        },
        "id": "2JsM6BYNQyXO",
        "outputId": "2c706f6e-664a-4e17-93a0-44f5fa644a53"
      },
      "outputs": [
        {
          "data": {
            "text/html": [
              "<div>\n",
              "<style scoped>\n",
              "    .dataframe tbody tr th:only-of-type {\n",
              "        vertical-align: middle;\n",
              "    }\n",
              "\n",
              "    .dataframe tbody tr th {\n",
              "        vertical-align: top;\n",
              "    }\n",
              "\n",
              "    .dataframe thead th {\n",
              "        text-align: right;\n",
              "    }\n",
              "</style>\n",
              "<table border=\"1\" class=\"dataframe\">\n",
              "  <thead>\n",
              "    <tr style=\"text-align: right;\">\n",
              "      <th></th>\n",
              "      <th>Usia</th>\n",
              "      <th>Fraksi_ejeksi</th>\n",
              "      <th>Kreatinin_serum</th>\n",
              "      <th>Sodium_serum</th>\n",
              "    </tr>\n",
              "  </thead>\n",
              "  <tbody>\n",
              "    <tr>\n",
              "      <th>0</th>\n",
              "      <td>40.0</td>\n",
              "      <td>45</td>\n",
              "      <td>0.90</td>\n",
              "      <td>140</td>\n",
              "    </tr>\n",
              "    <tr>\n",
              "      <th>1</th>\n",
              "      <td>45.0</td>\n",
              "      <td>38</td>\n",
              "      <td>0.80</td>\n",
              "      <td>137</td>\n",
              "    </tr>\n",
              "    <tr>\n",
              "      <th>2</th>\n",
              "      <td>70.0</td>\n",
              "      <td>60</td>\n",
              "      <td>1.10</td>\n",
              "      <td>145</td>\n",
              "    </tr>\n",
              "    <tr>\n",
              "      <th>3</th>\n",
              "      <td>42.0</td>\n",
              "      <td>40</td>\n",
              "      <td>1.20</td>\n",
              "      <td>140</td>\n",
              "    </tr>\n",
              "    <tr>\n",
              "      <th>4</th>\n",
              "      <td>73.0</td>\n",
              "      <td>30</td>\n",
              "      <td>1.18</td>\n",
              "      <td>142</td>\n",
              "    </tr>\n",
              "    <tr>\n",
              "      <th>...</th>\n",
              "      <td>...</td>\n",
              "      <td>...</td>\n",
              "      <td>...</td>\n",
              "      <td>...</td>\n",
              "    </tr>\n",
              "    <tr>\n",
              "      <th>187</th>\n",
              "      <td>73.0</td>\n",
              "      <td>20</td>\n",
              "      <td>1.83</td>\n",
              "      <td>134</td>\n",
              "    </tr>\n",
              "    <tr>\n",
              "      <th>188</th>\n",
              "      <td>60.0</td>\n",
              "      <td>30</td>\n",
              "      <td>1.70</td>\n",
              "      <td>127</td>\n",
              "    </tr>\n",
              "    <tr>\n",
              "      <th>189</th>\n",
              "      <td>55.0</td>\n",
              "      <td>25</td>\n",
              "      <td>1.10</td>\n",
              "      <td>138</td>\n",
              "    </tr>\n",
              "    <tr>\n",
              "      <th>190</th>\n",
              "      <td>65.0</td>\n",
              "      <td>25</td>\n",
              "      <td>1.40</td>\n",
              "      <td>129</td>\n",
              "    </tr>\n",
              "    <tr>\n",
              "      <th>191</th>\n",
              "      <td>55.0</td>\n",
              "      <td>20</td>\n",
              "      <td>1.83</td>\n",
              "      <td>134</td>\n",
              "    </tr>\n",
              "  </tbody>\n",
              "</table>\n",
              "<p>192 rows × 4 columns</p>\n",
              "</div>"
            ],
            "text/plain": [
              "     Usia  Fraksi_ejeksi  Kreatinin_serum  Sodium_serum\n",
              "0    40.0             45             0.90           140\n",
              "1    45.0             38             0.80           137\n",
              "2    70.0             60             1.10           145\n",
              "3    42.0             40             1.20           140\n",
              "4    73.0             30             1.18           142\n",
              "..    ...            ...              ...           ...\n",
              "187  73.0             20             1.83           134\n",
              "188  60.0             30             1.70           127\n",
              "189  55.0             25             1.10           138\n",
              "190  65.0             25             1.40           129\n",
              "191  55.0             20             1.83           134\n",
              "\n",
              "[192 rows x 4 columns]"
            ]
          },
          "execution_count": 49,
          "metadata": {},
          "output_type": "execute_result"
        }
      ],
      "source": [
        "# Melihat isi dataframe X_fit1\n",
        "X_fit1"
      ]
    },
    {
      "cell_type": "code",
      "execution_count": null,
      "metadata": {
        "colab": {
          "base_uri": "https://localhost:8080/"
        },
        "id": "Pt-wbxyRQ59v",
        "outputId": "d9db5701-b13f-4bcf-caba-4829a232ba69"
      },
      "outputs": [
        {
          "name": "stdout",
          "output_type": "stream",
          "text": [
            "<class 'pandas.core.frame.DataFrame'>\n",
            "RangeIndex: 192 entries, 0 to 191\n",
            "Data columns (total 4 columns):\n",
            " #   Column           Non-Null Count  Dtype  \n",
            "---  ------           --------------  -----  \n",
            " 0   Usia             192 non-null    float64\n",
            " 1   Fraksi_ejeksi    192 non-null    int64  \n",
            " 2   Kreatinin_serum  192 non-null    float64\n",
            " 3   Sodium_serum     192 non-null    int64  \n",
            "dtypes: float64(2), int64(2)\n",
            "memory usage: 6.1 KB\n"
          ]
        }
      ],
      "source": [
        "# Melihat rincian dataframe pada X_fit1 (sesudah resampling)\n",
        "X_fit1.info()"
      ]
    },
    {
      "cell_type": "code",
      "execution_count": null,
      "metadata": {
        "colab": {
          "base_uri": "https://localhost:8080/"
        },
        "id": "3lGewn0ygpp2",
        "outputId": "5073466d-6337-433a-d50a-4ce55b352e56"
      },
      "outputs": [
        {
          "data": {
            "text/plain": [
              "((299, 4), (192, 4))"
            ]
          },
          "execution_count": 51,
          "metadata": {},
          "output_type": "execute_result"
        }
      ],
      "source": [
        "# melihat shape dari X_fit\n",
        "X_fit.shape, X_fit1.shape"
      ]
    },
    {
      "cell_type": "markdown",
      "metadata": {
        "id": "zDnzWUDBgpp2"
      },
      "source": [
        "Setelah diperoleh atribut yang akan dilakukan training, kemudian membagi data menjadi Training dan Testing dengan proporsi 0.8 dan 0.2"
      ]
    },
    {
      "cell_type": "code",
      "execution_count": null,
      "metadata": {
        "id": "5s7yB632RL1b"
      },
      "outputs": [],
      "source": [
        "X_train1, X_test1, y_train1, y_test1 = train_test_split(X_fit1, y_rus, test_size=0.30, random_state=325)"
      ]
    },
    {
      "cell_type": "code",
      "execution_count": null,
      "metadata": {
        "colab": {
          "base_uri": "https://localhost:8080/"
        },
        "id": "6C2dwan0gpp3",
        "outputId": "6702eb34-02bc-4477-ed6e-12068cac66e5"
      },
      "outputs": [
        {
          "name": "stdout",
          "output_type": "stream",
          "text": [
            "(134, 4)\n",
            "(58, 4)\n"
          ]
        }
      ],
      "source": [
        "print(X_train1.shape)\n",
        "print(X_test1.shape)"
      ]
    },
    {
      "cell_type": "markdown",
      "metadata": {
        "id": "gssysQmyk3qF"
      },
      "source": [
        "diperoleh berdasarkan pembagian proporsi training data dan testing data , didapat jumlah training dari keseluruhan data , sebanyak 134 data dan data training testing sebanyak 58."
      ]
    },
    {
      "cell_type": "markdown",
      "metadata": {
        "id": "6cSKXxX1P0XD"
      },
      "source": [
        "## 6.3 SMOTE"
      ]
    },
    {
      "cell_type": "markdown",
      "metadata": {
        "id": "0-LhuaH6QXna"
      },
      "source": [
        "SMOTE (Synthetic Minority Over-sampling Technique) adalah metode yang digunakan untuk melakukan oversampling pada dataset yang tidak seimbang secara kelas. Tujuan dari SMOTE adalah menghasilkan sampel sintetis untuk kelas minoritas dengan memanfaatkan tetangga-tetangga terdekat dari sampel minoritas yang ada."
      ]
    },
    {
      "cell_type": "code",
      "execution_count": null,
      "metadata": {
        "id": "qzkge6kCQlrx"
      },
      "outputs": [],
      "source": [
        "df5 = df3.copy()"
      ]
    },
    {
      "cell_type": "code",
      "execution_count": null,
      "metadata": {
        "colab": {
          "base_uri": "https://localhost:8080/"
        },
        "id": "svd_JcQ3QiL7",
        "outputId": "f57807c6-50a9-4b94-a6b5-de7caa30f611"
      },
      "outputs": [
        {
          "data": {
            "text/plain": [
              "(299, 12)"
            ]
          },
          "execution_count": 55,
          "metadata": {},
          "output_type": "execute_result"
        }
      ],
      "source": [
        "df5.shape"
      ]
    },
    {
      "cell_type": "code",
      "execution_count": null,
      "metadata": {
        "colab": {
          "base_uri": "https://localhost:8080/"
        },
        "id": "niHFeS6rQtGS",
        "outputId": "929bcd9f-4eee-4aee-da6c-233f8634eec1"
      },
      "outputs": [
        {
          "name": "stdout",
          "output_type": "stream",
          "text": [
            "(299, 11)\n",
            "(299,)\n"
          ]
        }
      ],
      "source": [
        "# Sesudah Resampling\n",
        "X2 = df5.drop(['Kematian'], axis=1)\n",
        "y2 = df5['Kematian']\n",
        "print(X2.shape)\n",
        "print(y2.shape)"
      ]
    },
    {
      "cell_type": "code",
      "execution_count": null,
      "metadata": {
        "colab": {
          "base_uri": "https://localhost:8080/"
        },
        "id": "3GAk-GSwQ2Wz",
        "outputId": "2b8b074f-9d80-44bf-9945-35bf1d4176de"
      },
      "outputs": [
        {
          "name": "stdout",
          "output_type": "stream",
          "text": [
            "Original dataset shape: Counter({0: 203, 1: 96})\n",
            "Resample dataset shape: Counter({1: 203, 0: 203})\n"
          ]
        }
      ],
      "source": [
        "from imblearn.over_sampling import SMOTE\n",
        "\n",
        "# Menerapkan SMOTE\n",
        "smote = SMOTE(random_state=42)\n",
        "X_smote, y_smote = smote.fit_resample(X2, y2)\n",
        "\n",
        "print('Original dataset shape:', Counter(y2))\n",
        "print('Resample dataset shape:', Counter(y_smote))\n"
      ]
    },
    {
      "cell_type": "code",
      "execution_count": null,
      "metadata": {
        "id": "miI7lodSRjpS"
      },
      "outputs": [],
      "source": [
        "# Menggabungkan data asli dan data hasil oversampling\n",
        "df_smote = pd.DataFrame(data=X_smote, columns=X2.columns)\n",
        "df_smote['target'] = y_smote"
      ]
    },
    {
      "cell_type": "markdown",
      "metadata": {
        "id": "Q4AM94H0SlX1"
      },
      "source": [
        "### 6.3.1 Feature Importance\n",
        "\n",
        "Melakukan feature selection dengan library RandomForestClassifier"
      ]
    },
    {
      "cell_type": "code",
      "execution_count": null,
      "metadata": {
        "colab": {
          "base_uri": "https://localhost:8080/",
          "height": 75
        },
        "id": "aCzHsoTHSrSv",
        "outputId": "22f68d2c-78eb-4741-a232-d2eec72dc461"
      },
      "outputs": [
        {
          "data": {
            "text/html": [
              "<style>#sk-container-id-3 {color: black;background-color: white;}#sk-container-id-3 pre{padding: 0;}#sk-container-id-3 div.sk-toggleable {background-color: white;}#sk-container-id-3 label.sk-toggleable__label {cursor: pointer;display: block;width: 100%;margin-bottom: 0;padding: 0.3em;box-sizing: border-box;text-align: center;}#sk-container-id-3 label.sk-toggleable__label-arrow:before {content: \"▸\";float: left;margin-right: 0.25em;color: #696969;}#sk-container-id-3 label.sk-toggleable__label-arrow:hover:before {color: black;}#sk-container-id-3 div.sk-estimator:hover label.sk-toggleable__label-arrow:before {color: black;}#sk-container-id-3 div.sk-toggleable__content {max-height: 0;max-width: 0;overflow: hidden;text-align: left;background-color: #f0f8ff;}#sk-container-id-3 div.sk-toggleable__content pre {margin: 0.2em;color: black;border-radius: 0.25em;background-color: #f0f8ff;}#sk-container-id-3 input.sk-toggleable__control:checked~div.sk-toggleable__content {max-height: 200px;max-width: 100%;overflow: auto;}#sk-container-id-3 input.sk-toggleable__control:checked~label.sk-toggleable__label-arrow:before {content: \"▾\";}#sk-container-id-3 div.sk-estimator input.sk-toggleable__control:checked~label.sk-toggleable__label {background-color: #d4ebff;}#sk-container-id-3 div.sk-label input.sk-toggleable__control:checked~label.sk-toggleable__label {background-color: #d4ebff;}#sk-container-id-3 input.sk-hidden--visually {border: 0;clip: rect(1px 1px 1px 1px);clip: rect(1px, 1px, 1px, 1px);height: 1px;margin: -1px;overflow: hidden;padding: 0;position: absolute;width: 1px;}#sk-container-id-3 div.sk-estimator {font-family: monospace;background-color: #f0f8ff;border: 1px dotted black;border-radius: 0.25em;box-sizing: border-box;margin-bottom: 0.5em;}#sk-container-id-3 div.sk-estimator:hover {background-color: #d4ebff;}#sk-container-id-3 div.sk-parallel-item::after {content: \"\";width: 100%;border-bottom: 1px solid gray;flex-grow: 1;}#sk-container-id-3 div.sk-label:hover label.sk-toggleable__label {background-color: #d4ebff;}#sk-container-id-3 div.sk-serial::before {content: \"\";position: absolute;border-left: 1px solid gray;box-sizing: border-box;top: 0;bottom: 0;left: 50%;z-index: 0;}#sk-container-id-3 div.sk-serial {display: flex;flex-direction: column;align-items: center;background-color: white;padding-right: 0.2em;padding-left: 0.2em;position: relative;}#sk-container-id-3 div.sk-item {position: relative;z-index: 1;}#sk-container-id-3 div.sk-parallel {display: flex;align-items: stretch;justify-content: center;background-color: white;position: relative;}#sk-container-id-3 div.sk-item::before, #sk-container-id-3 div.sk-parallel-item::before {content: \"\";position: absolute;border-left: 1px solid gray;box-sizing: border-box;top: 0;bottom: 0;left: 50%;z-index: -1;}#sk-container-id-3 div.sk-parallel-item {display: flex;flex-direction: column;z-index: 1;position: relative;background-color: white;}#sk-container-id-3 div.sk-parallel-item:first-child::after {align-self: flex-end;width: 50%;}#sk-container-id-3 div.sk-parallel-item:last-child::after {align-self: flex-start;width: 50%;}#sk-container-id-3 div.sk-parallel-item:only-child::after {width: 0;}#sk-container-id-3 div.sk-dashed-wrapped {border: 1px dashed gray;margin: 0 0.4em 0.5em 0.4em;box-sizing: border-box;padding-bottom: 0.4em;background-color: white;}#sk-container-id-3 div.sk-label label {font-family: monospace;font-weight: bold;display: inline-block;line-height: 1.2em;}#sk-container-id-3 div.sk-label-container {text-align: center;}#sk-container-id-3 div.sk-container {/* jupyter's `normalize.less` sets `[hidden] { display: none; }` but bootstrap.min.css set `[hidden] { display: none !important; }` so we also need the `!important` here to be able to override the default hidden behavior on the sphinx rendered scikit-learn.org. See: https://github.com/scikit-learn/scikit-learn/issues/21755 */display: inline-block !important;position: relative;}#sk-container-id-3 div.sk-text-repr-fallback {display: none;}</style><div id=\"sk-container-id-3\" class=\"sk-top-container\"><div class=\"sk-text-repr-fallback\"><pre>RandomForestClassifier()</pre><b>In a Jupyter environment, please rerun this cell to show the HTML representation or trust the notebook. <br />On GitHub, the HTML representation is unable to render, please try loading this page with nbviewer.org.</b></div><div class=\"sk-container\" hidden><div class=\"sk-item\"><div class=\"sk-estimator sk-toggleable\"><input class=\"sk-toggleable__control sk-hidden--visually\" id=\"sk-estimator-id-3\" type=\"checkbox\" checked><label for=\"sk-estimator-id-3\" class=\"sk-toggleable__label sk-toggleable__label-arrow\">RandomForestClassifier</label><div class=\"sk-toggleable__content\"><pre>RandomForestClassifier()</pre></div></div></div></div></div>"
            ],
            "text/plain": [
              "RandomForestClassifier()"
            ]
          },
          "execution_count": 59,
          "metadata": {},
          "output_type": "execute_result"
        }
      ],
      "source": [
        "# Membuat objek rfc dengan estimasi 100 pohon untuk sesudah resampling \n",
        "rfc2  = RandomForestClassifier(n_estimators=100)\n",
        "\n",
        "# Melakukan training model dengan X2 dan y2\n",
        "rfc2.fit(X2,y2)"
      ]
    },
    {
      "cell_type": "code",
      "execution_count": null,
      "metadata": {
        "id": "RkQB0DCqSxcJ"
      },
      "outputs": [],
      "source": [
        "# Membuat variable f_i untuk mendapatkan nilai feature importance dari setiap atribut pada X2\n",
        "f_i2 = rfc2.feature_importances_"
      ]
    },
    {
      "cell_type": "code",
      "execution_count": null,
      "metadata": {
        "colab": {
          "base_uri": "https://localhost:8080/"
        },
        "id": "vMZMNt55S5qw",
        "outputId": "971f0734-844e-4a95-edd7-2d57aa7f7f70"
      },
      "outputs": [
        {
          "data": {
            "text/plain": [
              "['Usia',\n",
              " 'Anaemia',\n",
              " 'Kreatinin_fosfokinase',\n",
              " 'Diabetes',\n",
              " 'Fraksi_ejeksi',\n",
              " 'Tekanan_darah_tinggi',\n",
              " 'Platelets',\n",
              " 'Kreatinin_serum',\n",
              " 'Sodium_serum',\n",
              " 'Jenis_kelamin',\n",
              " 'Perokok']"
            ]
          },
          "execution_count": 61,
          "metadata": {},
          "output_type": "execute_result"
        }
      ],
      "source": [
        "# Membuat variable heart untuk melakukan list pada atribut X2\n",
        "heart2 = X2.columns.tolist()\n",
        "heart2"
      ]
    },
    {
      "cell_type": "code",
      "execution_count": null,
      "metadata": {
        "id": "7QDW2QjmTAI6"
      },
      "outputs": [],
      "source": [
        "# Membuat variable feature_imp untuk membuat series dengan nama atribut dari heart dan juga nilai feature importance nya\n",
        "feature_imp2 = pd.Series(f_i2,index=heart2)"
      ]
    },
    {
      "cell_type": "code",
      "execution_count": null,
      "metadata": {
        "colab": {
          "base_uri": "https://localhost:8080/"
        },
        "id": "3HMRdmvoTHrr",
        "outputId": "5b4a1f12-52bb-4408-ee43-36fc76ea9cd8"
      },
      "outputs": [
        {
          "data": {
            "text/plain": [
              "Kreatinin_serum          0.201984\n",
              "Fraksi_ejeksi            0.173649\n",
              "Usia                     0.146112\n",
              "Platelets                0.127400\n",
              "Kreatinin_fosfokinase    0.122729\n",
              "Sodium_serum             0.120028\n",
              "Diabetes                 0.023521\n",
              "Jenis_kelamin            0.023171\n",
              "Anaemia                  0.021577\n",
              "Tekanan_darah_tinggi     0.020323\n",
              "Perokok                  0.019507\n",
              "dtype: float64"
            ]
          },
          "execution_count": 63,
          "metadata": {},
          "output_type": "execute_result"
        }
      ],
      "source": [
        "# Menampilkan feature importance dari nilai tertinggi ke terrendah\n",
        "feature_imp2 = feature_imp2.sort_values(ascending=False)\n",
        "feature_imp2"
      ]
    },
    {
      "cell_type": "code",
      "execution_count": null,
      "metadata": {
        "colab": {
          "base_uri": "https://localhost:8080/",
          "height": 472
        },
        "id": "rgybgw2BTOvk",
        "outputId": "e566e864-a0f9-4757-cd3a-763335623f7f"
      },
      "outputs": [
        {
          "data": {
            "image/png": "[encoded data removed]",
            "text/plain": [
              "<Figure size 640x480 with 1 Axes>"
            ]
          },
          "metadata": {},
          "output_type": "display_data"
        }
      ],
      "source": [
        "# Menampilkan plot untuk feature importance sesudah resampling\n",
        "sns.barplot(x = feature_imp2, y=feature_imp2.index)\n",
        "\n",
        "plt.title('Feature Importances of Random Forest Sesudah Resampling Menggunakan SMOTE')\n",
        "plt.ylabel('Features')\n",
        "plt.xlabel('Feature Importance Score')\n",
        "plt.show()"
      ]
    },
    {
      "cell_type": "markdown",
      "metadata": {
        "id": "ZP0g3CWzTjJR"
      },
      "source": [
        "4 feature atau atribut yang memiliki pengaruh paling tinggi pada model yaitu Kreatinin_serum, Fraksi_ejeksi, Usia, dan Kreatinin_fosfokinase"
      ]
    },
    {
      "cell_type": "code",
      "execution_count": null,
      "metadata": {
        "id": "BRynRiSuTqMp"
      },
      "outputs": [],
      "source": [
        "# Membuat variable bernama X_fit2 yang berisi 4 atribut yang paling berpengaruh pada kematian pasien penyakit jantung\n",
        "X_fit2 = df_smote[['Usia', 'Fraksi_ejeksi', 'Kreatinin_serum', 'Sodium_serum']]"
      ]
    },
    {
      "cell_type": "code",
      "execution_count": null,
      "metadata": {
        "colab": {
          "base_uri": "https://localhost:8080/",
          "height": 424
        },
        "id": "bKaGRullTxtf",
        "outputId": "d239d40e-c9d7-48bf-cd34-ffb2ef4881d4"
      },
      "outputs": [
        {
          "data": {
            "text/html": [
              "<div>\n",
              "<style scoped>\n",
              "    .dataframe tbody tr th:only-of-type {\n",
              "        vertical-align: middle;\n",
              "    }\n",
              "\n",
              "    .dataframe tbody tr th {\n",
              "        vertical-align: top;\n",
              "    }\n",
              "\n",
              "    .dataframe thead th {\n",
              "        text-align: right;\n",
              "    }\n",
              "</style>\n",
              "<table border=\"1\" class=\"dataframe\">\n",
              "  <thead>\n",
              "    <tr style=\"text-align: right;\">\n",
              "      <th></th>\n",
              "      <th>Usia</th>\n",
              "      <th>Fraksi_ejeksi</th>\n",
              "      <th>Kreatinin_serum</th>\n",
              "      <th>Sodium_serum</th>\n",
              "    </tr>\n",
              "  </thead>\n",
              "  <tbody>\n",
              "    <tr>\n",
              "      <th>0</th>\n",
              "      <td>75.000000</td>\n",
              "      <td>20</td>\n",
              "      <td>1.900000</td>\n",
              "      <td>130</td>\n",
              "    </tr>\n",
              "    <tr>\n",
              "      <th>1</th>\n",
              "      <td>55.000000</td>\n",
              "      <td>38</td>\n",
              "      <td>1.100000</td>\n",
              "      <td>136</td>\n",
              "    </tr>\n",
              "    <tr>\n",
              "      <th>2</th>\n",
              "      <td>65.000000</td>\n",
              "      <td>20</td>\n",
              "      <td>1.300000</td>\n",
              "      <td>129</td>\n",
              "    </tr>\n",
              "    <tr>\n",
              "      <th>3</th>\n",
              "      <td>50.000000</td>\n",
              "      <td>20</td>\n",
              "      <td>1.900000</td>\n",
              "      <td>137</td>\n",
              "    </tr>\n",
              "    <tr>\n",
              "      <th>4</th>\n",
              "      <td>65.000000</td>\n",
              "      <td>20</td>\n",
              "      <td>2.700000</td>\n",
              "      <td>116</td>\n",
              "    </tr>\n",
              "    <tr>\n",
              "      <th>...</th>\n",
              "      <td>...</td>\n",
              "      <td>...</td>\n",
              "      <td>...</td>\n",
              "      <td>...</td>\n",
              "    </tr>\n",
              "    <tr>\n",
              "      <th>401</th>\n",
              "      <td>57.872410</td>\n",
              "      <td>35</td>\n",
              "      <td>4.089378</td>\n",
              "      <td>140</td>\n",
              "    </tr>\n",
              "    <tr>\n",
              "      <th>402</th>\n",
              "      <td>71.103083</td>\n",
              "      <td>20</td>\n",
              "      <td>1.830000</td>\n",
              "      <td>134</td>\n",
              "    </tr>\n",
              "    <tr>\n",
              "      <th>403</th>\n",
              "      <td>53.664703</td>\n",
              "      <td>33</td>\n",
              "      <td>1.193176</td>\n",
              "      <td>136</td>\n",
              "    </tr>\n",
              "    <tr>\n",
              "      <th>404</th>\n",
              "      <td>77.321127</td>\n",
              "      <td>17</td>\n",
              "      <td>2.685521</td>\n",
              "      <td>135</td>\n",
              "    </tr>\n",
              "    <tr>\n",
              "      <th>405</th>\n",
              "      <td>51.979562</td>\n",
              "      <td>22</td>\n",
              "      <td>1.090971</td>\n",
              "      <td>136</td>\n",
              "    </tr>\n",
              "  </tbody>\n",
              "</table>\n",
              "<p>406 rows × 4 columns</p>\n",
              "</div>"
            ],
            "text/plain": [
              "          Usia  Fraksi_ejeksi  Kreatinin_serum  Sodium_serum\n",
              "0    75.000000             20         1.900000           130\n",
              "1    55.000000             38         1.100000           136\n",
              "2    65.000000             20         1.300000           129\n",
              "3    50.000000             20         1.900000           137\n",
              "4    65.000000             20         2.700000           116\n",
              "..         ...            ...              ...           ...\n",
              "401  57.872410             35         4.089378           140\n",
              "402  71.103083             20         1.830000           134\n",
              "403  53.664703             33         1.193176           136\n",
              "404  77.321127             17         2.685521           135\n",
              "405  51.979562             22         1.090971           136\n",
              "\n",
              "[406 rows x 4 columns]"
            ]
          },
          "execution_count": 66,
          "metadata": {},
          "output_type": "execute_result"
        }
      ],
      "source": [
        "# Melihat isi dataframe X_fit2\n",
        "X_fit2"
      ]
    },
    {
      "cell_type": "code",
      "execution_count": null,
      "metadata": {
        "colab": {
          "base_uri": "https://localhost:8080/"
        },
        "id": "-zm2r77ET8fT",
        "outputId": "dc6df439-7313-4015-bcd4-47fdd111e1c9"
      },
      "outputs": [
        {
          "name": "stdout",
          "output_type": "stream",
          "text": [
            "<class 'pandas.core.frame.DataFrame'>\n",
            "RangeIndex: 406 entries, 0 to 405\n",
            "Data columns (total 4 columns):\n",
            " #   Column           Non-Null Count  Dtype  \n",
            "---  ------           --------------  -----  \n",
            " 0   Usia             406 non-null    float64\n",
            " 1   Fraksi_ejeksi    406 non-null    int64  \n",
            " 2   Kreatinin_serum  406 non-null    float64\n",
            " 3   Sodium_serum     406 non-null    int64  \n",
            "dtypes: float64(2), int64(2)\n",
            "memory usage: 12.8 KB\n"
          ]
        }
      ],
      "source": [
        "# Melihat rincian dataframe pada X_fit2 (sesudah resampling)\n",
        "X_fit2.info()"
      ]
    },
    {
      "cell_type": "code",
      "execution_count": null,
      "metadata": {
        "colab": {
          "base_uri": "https://localhost:8080/"
        },
        "id": "7kheypb5UFvQ",
        "outputId": "daa8015e-089e-4032-9149-f58cc497982b"
      },
      "outputs": [
        {
          "data": {
            "text/plain": [
              "((299, 4), (192, 4), (406, 4))"
            ]
          },
          "execution_count": 68,
          "metadata": {},
          "output_type": "execute_result"
        }
      ],
      "source": [
        "# melihat shape dari X_fit, X_fit1, X_fit2\n",
        "X_fit.shape, X_fit1.shape, X_fit2.shape"
      ]
    },
    {
      "cell_type": "markdown",
      "metadata": {
        "id": "qTp1ITdwUVI8"
      },
      "source": [
        "Setelah diperoleh atribut yang akan dilakukan training, kemudian membagi data menjadi Training dan Testing dengan proporsi 0.8 dan 0.2"
      ]
    },
    {
      "cell_type": "code",
      "execution_count": null,
      "metadata": {
        "id": "8MLPL2ajUaYW"
      },
      "outputs": [],
      "source": [
        "X_train2, X_test2, y_train2, y_test2 = train_test_split(X_fit2, y_smote, test_size=0.30, random_state=325)"
      ]
    },
    {
      "cell_type": "code",
      "execution_count": null,
      "metadata": {
        "colab": {
          "base_uri": "https://localhost:8080/"
        },
        "id": "6NzELjGeUjCi",
        "outputId": "0bf89f81-d065-4f80-8b4b-ee986be2e810"
      },
      "outputs": [
        {
          "name": "stdout",
          "output_type": "stream",
          "text": [
            "(284, 4)\n",
            "(122, 4)\n"
          ]
        }
      ],
      "source": [
        "print(X_train2.shape)\n",
        "print(X_test2.shape)"
      ]
    },
    {
      "cell_type": "markdown",
      "metadata": {
        "id": "h_RLtpaFUtz8"
      },
      "source": [
        "diperoleh berdasarkan pembagian proporsi training data dan testing data , didapat jumlah training dari keseluruhan data , sebanyak 284 data dan data training testing sebanyak 122."
      ]
    },
    {
      "cell_type": "markdown",
      "metadata": {
        "id": "gmfM4mm6mBhx"
      },
      "source": [
        "# 7. PENDEFINISIAN MODEL"
      ]
    },
    {
      "cell_type": "markdown",
      "metadata": {
        "id": "kwehhz4-mu9-"
      },
      "source": [
        "Bagian ini berisi cell untuk mendefinisikan model sampai kompilasi model. seperti penjelasan mengapa memilih arsitektur atau jenis model tertentu, alasan memilih nilai hyperparameter, dan hal lain yang berkaitan."
      ]
    },
    {
      "cell_type": "markdown",
      "metadata": {
        "id": "gjQCMBHvmySz"
      },
      "source": [
        "Metode pengujian untuk project ini menggunakan model logistic regression, dengan pembanding yaitu:\n",
        "\n",
        "- Random Forest Classifier\n",
        "- Decision Tree\n",
        "- KNN Classifier <br> \n",
        "\n",
        "untuk mengukur kinerja model regresi pada project ini dan untuk menemukan model terbaik."
      ]
    },
    {
      "cell_type": "code",
      "execution_count": null,
      "metadata": {
        "id": "F0_dEaARz4sr"
      },
      "outputs": [],
      "source": [
        "# Membuat model pengujian Logistic Regression\n",
        "model_1 = LogisticRegression() #sebelum resampling\n",
        "model_1a = LogisticRegression() #random under sampling\n",
        "model_1b = LogisticRegression() #smote\n",
        "\n",
        "# Membuat model pengujian Random Forest\n",
        "model_2 = RandomForestClassifier(n_estimators = 60, random_state = 15) #sebelum resampling\n",
        "model_2a = RandomForestClassifier(n_estimators = 60, random_state = 15) #random under sampling\n",
        "model_2b = RandomForestClassifier(n_estimators = 60, random_state = 15) #smote\n",
        "\n",
        "# Membuat model pengujian Decision Tree\n",
        "model_3 = DecisionTreeClassifier() #sebelum resampling\n",
        "model_3a = DecisionTreeClassifier() #random under sampling\n",
        "model_3b = DecisionTreeClassifier() #smote\n",
        "\n",
        "# Membuat model pengujian KNN Classifier \n",
        "model_4 = KNeighborsClassifier(n_neighbors=16) #sebelum resampling\n",
        "model_4a = KNeighborsClassifier(n_neighbors=16) #random under sampling\n",
        "model_4b = KNeighborsClassifier(n_neighbors=16) #smote"
      ]
    },
    {
      "cell_type": "markdown",
      "metadata": {
        "id": "cYDpq4C1055A"
      },
      "source": [
        "# 8. PELATIHAN MODEL"
      ]
    },
    {
      "cell_type": "markdown",
      "metadata": {
        "id": "998oeDNU1BRe"
      },
      "source": [
        "Cell pada bagian ini hanya berisi code untuk melatih model dan output yang dihasilkan."
      ]
    },
    {
      "cell_type": "markdown",
      "metadata": {
        "id": "t8UtVFRHjx_C"
      },
      "source": [
        "## 8.1 Model Logistic Regression"
      ]
    },
    {
      "cell_type": "code",
      "execution_count": null,
      "metadata": {
        "colab": {
          "base_uri": "https://localhost:8080/",
          "height": 75
        },
        "id": "ILYK5kEb08sP",
        "outputId": "695e329c-2c6f-4b70-e176-9ee966165660"
      },
      "outputs": [
        {
          "data": {
            "text/html": [
              "<style>#sk-container-id-4 {color: black;background-color: white;}#sk-container-id-4 pre{padding: 0;}#sk-container-id-4 div.sk-toggleable {background-color: white;}#sk-container-id-4 label.sk-toggleable__label {cursor: pointer;display: block;width: 100%;margin-bottom: 0;padding: 0.3em;box-sizing: border-box;text-align: center;}#sk-container-id-4 label.sk-toggleable__label-arrow:before {content: \"▸\";float: left;margin-right: 0.25em;color: #696969;}#sk-container-id-4 label.sk-toggleable__label-arrow:hover:before {color: black;}#sk-container-id-4 div.sk-estimator:hover label.sk-toggleable__label-arrow:before {color: black;}#sk-container-id-4 div.sk-toggleable__content {max-height: 0;max-width: 0;overflow: hidden;text-align: left;background-color: #f0f8ff;}#sk-container-id-4 div.sk-toggleable__content pre {margin: 0.2em;color: black;border-radius: 0.25em;background-color: #f0f8ff;}#sk-container-id-4 input.sk-toggleable__control:checked~div.sk-toggleable__content {max-height: 200px;max-width: 100%;overflow: auto;}#sk-container-id-4 input.sk-toggleable__control:checked~label.sk-toggleable__label-arrow:before {content: \"▾\";}#sk-container-id-4 div.sk-estimator input.sk-toggleable__control:checked~label.sk-toggleable__label {background-color: #d4ebff;}#sk-container-id-4 div.sk-label input.sk-toggleable__control:checked~label.sk-toggleable__label {background-color: #d4ebff;}#sk-container-id-4 input.sk-hidden--visually {border: 0;clip: rect(1px 1px 1px 1px);clip: rect(1px, 1px, 1px, 1px);height: 1px;margin: -1px;overflow: hidden;padding: 0;position: absolute;width: 1px;}#sk-container-id-4 div.sk-estimator {font-family: monospace;background-color: #f0f8ff;border: 1px dotted black;border-radius: 0.25em;box-sizing: border-box;margin-bottom: 0.5em;}#sk-container-id-4 div.sk-estimator:hover {background-color: #d4ebff;}#sk-container-id-4 div.sk-parallel-item::after {content: \"\";width: 100%;border-bottom: 1px solid gray;flex-grow: 1;}#sk-container-id-4 div.sk-label:hover label.sk-toggleable__label {background-color: #d4ebff;}#sk-container-id-4 div.sk-serial::before {content: \"\";position: absolute;border-left: 1px solid gray;box-sizing: border-box;top: 0;bottom: 0;left: 50%;z-index: 0;}#sk-container-id-4 div.sk-serial {display: flex;flex-direction: column;align-items: center;background-color: white;padding-right: 0.2em;padding-left: 0.2em;position: relative;}#sk-container-id-4 div.sk-item {position: relative;z-index: 1;}#sk-container-id-4 div.sk-parallel {display: flex;align-items: stretch;justify-content: center;background-color: white;position: relative;}#sk-container-id-4 div.sk-item::before, #sk-container-id-4 div.sk-parallel-item::before {content: \"\";position: absolute;border-left: 1px solid gray;box-sizing: border-box;top: 0;bottom: 0;left: 50%;z-index: -1;}#sk-container-id-4 div.sk-parallel-item {display: flex;flex-direction: column;z-index: 1;position: relative;background-color: white;}#sk-container-id-4 div.sk-parallel-item:first-child::after {align-self: flex-end;width: 50%;}#sk-container-id-4 div.sk-parallel-item:last-child::after {align-self: flex-start;width: 50%;}#sk-container-id-4 div.sk-parallel-item:only-child::after {width: 0;}#sk-container-id-4 div.sk-dashed-wrapped {border: 1px dashed gray;margin: 0 0.4em 0.5em 0.4em;box-sizing: border-box;padding-bottom: 0.4em;background-color: white;}#sk-container-id-4 div.sk-label label {font-family: monospace;font-weight: bold;display: inline-block;line-height: 1.2em;}#sk-container-id-4 div.sk-label-container {text-align: center;}#sk-container-id-4 div.sk-container {/* jupyter's `normalize.less` sets `[hidden] { display: none; }` but bootstrap.min.css set `[hidden] { display: none !important; }` so we also need the `!important` here to be able to override the default hidden behavior on the sphinx rendered scikit-learn.org. See: https://github.com/scikit-learn/scikit-learn/issues/21755 */display: inline-block !important;position: relative;}#sk-container-id-4 div.sk-text-repr-fallback {display: none;}</style><div id=\"sk-container-id-4\" class=\"sk-top-container\"><div class=\"sk-text-repr-fallback\"><pre>LogisticRegression()</pre><b>In a Jupyter environment, please rerun this cell to show the HTML representation or trust the notebook. <br />On GitHub, the HTML representation is unable to render, please try loading this page with nbviewer.org.</b></div><div class=\"sk-container\" hidden><div class=\"sk-item\"><div class=\"sk-estimator sk-toggleable\"><input class=\"sk-toggleable__control sk-hidden--visually\" id=\"sk-estimator-id-4\" type=\"checkbox\" checked><label for=\"sk-estimator-id-4\" class=\"sk-toggleable__label sk-toggleable__label-arrow\">LogisticRegression</label><div class=\"sk-toggleable__content\"><pre>LogisticRegression()</pre></div></div></div></div></div>"
            ],
            "text/plain": [
              "LogisticRegression()"
            ]
          },
          "execution_count": 72,
          "metadata": {},
          "output_type": "execute_result"
        }
      ],
      "source": [
        "# Sebelum resampling\n",
        "model_1.fit(X_train, y_train)"
      ]
    },
    {
      "cell_type": "code",
      "execution_count": null,
      "metadata": {
        "colab": {
          "base_uri": "https://localhost:8080/",
          "height": 75
        },
        "id": "q_YRgKuWSAGT",
        "outputId": "804949b2-e9e9-4356-bef1-feba7e526a67"
      },
      "outputs": [
        {
          "data": {
            "text/html": [
              "<style>#sk-container-id-5 {color: black;background-color: white;}#sk-container-id-5 pre{padding: 0;}#sk-container-id-5 div.sk-toggleable {background-color: white;}#sk-container-id-5 label.sk-toggleable__label {cursor: pointer;display: block;width: 100%;margin-bottom: 0;padding: 0.3em;box-sizing: border-box;text-align: center;}#sk-container-id-5 label.sk-toggleable__label-arrow:before {content: \"▸\";float: left;margin-right: 0.25em;color: #696969;}#sk-container-id-5 label.sk-toggleable__label-arrow:hover:before {color: black;}#sk-container-id-5 div.sk-estimator:hover label.sk-toggleable__label-arrow:before {color: black;}#sk-container-id-5 div.sk-toggleable__content {max-height: 0;max-width: 0;overflow: hidden;text-align: left;background-color: #f0f8ff;}#sk-container-id-5 div.sk-toggleable__content pre {margin: 0.2em;color: black;border-radius: 0.25em;background-color: #f0f8ff;}#sk-container-id-5 input.sk-toggleable__control:checked~div.sk-toggleable__content {max-height: 200px;max-width: 100%;overflow: auto;}#sk-container-id-5 input.sk-toggleable__control:checked~label.sk-toggleable__label-arrow:before {content: \"▾\";}#sk-container-id-5 div.sk-estimator input.sk-toggleable__control:checked~label.sk-toggleable__label {background-color: #d4ebff;}#sk-container-id-5 div.sk-label input.sk-toggleable__control:checked~label.sk-toggleable__label {background-color: #d4ebff;}#sk-container-id-5 input.sk-hidden--visually {border: 0;clip: rect(1px 1px 1px 1px);clip: rect(1px, 1px, 1px, 1px);height: 1px;margin: -1px;overflow: hidden;padding: 0;position: absolute;width: 1px;}#sk-container-id-5 div.sk-estimator {font-family: monospace;background-color: #f0f8ff;border: 1px dotted black;border-radius: 0.25em;box-sizing: border-box;margin-bottom: 0.5em;}#sk-container-id-5 div.sk-estimator:hover {background-color: #d4ebff;}#sk-container-id-5 div.sk-parallel-item::after {content: \"\";width: 100%;border-bottom: 1px solid gray;flex-grow: 1;}#sk-container-id-5 div.sk-label:hover label.sk-toggleable__label {background-color: #d4ebff;}#sk-container-id-5 div.sk-serial::before {content: \"\";position: absolute;border-left: 1px solid gray;box-sizing: border-box;top: 0;bottom: 0;left: 50%;z-index: 0;}#sk-container-id-5 div.sk-serial {display: flex;flex-direction: column;align-items: center;background-color: white;padding-right: 0.2em;padding-left: 0.2em;position: relative;}#sk-container-id-5 div.sk-item {position: relative;z-index: 1;}#sk-container-id-5 div.sk-parallel {display: flex;align-items: stretch;justify-content: center;background-color: white;position: relative;}#sk-container-id-5 div.sk-item::before, #sk-container-id-5 div.sk-parallel-item::before {content: \"\";position: absolute;border-left: 1px solid gray;box-sizing: border-box;top: 0;bottom: 0;left: 50%;z-index: -1;}#sk-container-id-5 div.sk-parallel-item {display: flex;flex-direction: column;z-index: 1;position: relative;background-color: white;}#sk-container-id-5 div.sk-parallel-item:first-child::after {align-self: flex-end;width: 50%;}#sk-container-id-5 div.sk-parallel-item:last-child::after {align-self: flex-start;width: 50%;}#sk-container-id-5 div.sk-parallel-item:only-child::after {width: 0;}#sk-container-id-5 div.sk-dashed-wrapped {border: 1px dashed gray;margin: 0 0.4em 0.5em 0.4em;box-sizing: border-box;padding-bottom: 0.4em;background-color: white;}#sk-container-id-5 div.sk-label label {font-family: monospace;font-weight: bold;display: inline-block;line-height: 1.2em;}#sk-container-id-5 div.sk-label-container {text-align: center;}#sk-container-id-5 div.sk-container {/* jupyter's `normalize.less` sets `[hidden] { display: none; }` but bootstrap.min.css set `[hidden] { display: none !important; }` so we also need the `!important` here to be able to override the default hidden behavior on the sphinx rendered scikit-learn.org. See: https://github.com/scikit-learn/scikit-learn/issues/21755 */display: inline-block !important;position: relative;}#sk-container-id-5 div.sk-text-repr-fallback {display: none;}</style><div id=\"sk-container-id-5\" class=\"sk-top-container\"><div class=\"sk-text-repr-fallback\"><pre>LogisticRegression()</pre><b>In a Jupyter environment, please rerun this cell to show the HTML representation or trust the notebook. <br />On GitHub, the HTML representation is unable to render, please try loading this page with nbviewer.org.</b></div><div class=\"sk-container\" hidden><div class=\"sk-item\"><div class=\"sk-estimator sk-toggleable\"><input class=\"sk-toggleable__control sk-hidden--visually\" id=\"sk-estimator-id-5\" type=\"checkbox\" checked><label for=\"sk-estimator-id-5\" class=\"sk-toggleable__label sk-toggleable__label-arrow\">LogisticRegression</label><div class=\"sk-toggleable__content\"><pre>LogisticRegression()</pre></div></div></div></div></div>"
            ],
            "text/plain": [
              "LogisticRegression()"
            ]
          },
          "execution_count": 73,
          "metadata": {},
          "output_type": "execute_result"
        }
      ],
      "source": [
        "# Random under sampling\n",
        "model_1a.fit(X_train1, y_train1)"
      ]
    },
    {
      "cell_type": "code",
      "execution_count": null,
      "metadata": {
        "colab": {
          "base_uri": "https://localhost:8080/",
          "height": 75
        },
        "id": "7hPzjeejVbtO",
        "outputId": "fbc5877e-4d42-43df-db85-d1056aeda5aa"
      },
      "outputs": [
        {
          "data": {
            "text/html": [
              "<style>#sk-container-id-6 {color: black;background-color: white;}#sk-container-id-6 pre{padding: 0;}#sk-container-id-6 div.sk-toggleable {background-color: white;}#sk-container-id-6 label.sk-toggleable__label {cursor: pointer;display: block;width: 100%;margin-bottom: 0;padding: 0.3em;box-sizing: border-box;text-align: center;}#sk-container-id-6 label.sk-toggleable__label-arrow:before {content: \"▸\";float: left;margin-right: 0.25em;color: #696969;}#sk-container-id-6 label.sk-toggleable__label-arrow:hover:before {color: black;}#sk-container-id-6 div.sk-estimator:hover label.sk-toggleable__label-arrow:before {color: black;}#sk-container-id-6 div.sk-toggleable__content {max-height: 0;max-width: 0;overflow: hidden;text-align: left;background-color: #f0f8ff;}#sk-container-id-6 div.sk-toggleable__content pre {margin: 0.2em;color: black;border-radius: 0.25em;background-color: #f0f8ff;}#sk-container-id-6 input.sk-toggleable__control:checked~div.sk-toggleable__content {max-height: 200px;max-width: 100%;overflow: auto;}#sk-container-id-6 input.sk-toggleable__control:checked~label.sk-toggleable__label-arrow:before {content: \"▾\";}#sk-container-id-6 div.sk-estimator input.sk-toggleable__control:checked~label.sk-toggleable__label {background-color: #d4ebff;}#sk-container-id-6 div.sk-label input.sk-toggleable__control:checked~label.sk-toggleable__label {background-color: #d4ebff;}#sk-container-id-6 input.sk-hidden--visually {border: 0;clip: rect(1px 1px 1px 1px);clip: rect(1px, 1px, 1px, 1px);height: 1px;margin: -1px;overflow: hidden;padding: 0;position: absolute;width: 1px;}#sk-container-id-6 div.sk-estimator {font-family: monospace;background-color: #f0f8ff;border: 1px dotted black;border-radius: 0.25em;box-sizing: border-box;margin-bottom: 0.5em;}#sk-container-id-6 div.sk-estimator:hover {background-color: #d4ebff;}#sk-container-id-6 div.sk-parallel-item::after {content: \"\";width: 100%;border-bottom: 1px solid gray;flex-grow: 1;}#sk-container-id-6 div.sk-label:hover label.sk-toggleable__label {background-color: #d4ebff;}#sk-container-id-6 div.sk-serial::before {content: \"\";position: absolute;border-left: 1px solid gray;box-sizing: border-box;top: 0;bottom: 0;left: 50%;z-index: 0;}#sk-container-id-6 div.sk-serial {display: flex;flex-direction: column;align-items: center;background-color: white;padding-right: 0.2em;padding-left: 0.2em;position: relative;}#sk-container-id-6 div.sk-item {position: relative;z-index: 1;}#sk-container-id-6 div.sk-parallel {display: flex;align-items: stretch;justify-content: center;background-color: white;position: relative;}#sk-container-id-6 div.sk-item::before, #sk-container-id-6 div.sk-parallel-item::before {content: \"\";position: absolute;border-left: 1px solid gray;box-sizing: border-box;top: 0;bottom: 0;left: 50%;z-index: -1;}#sk-container-id-6 div.sk-parallel-item {display: flex;flex-direction: column;z-index: 1;position: relative;background-color: white;}#sk-container-id-6 div.sk-parallel-item:first-child::after {align-self: flex-end;width: 50%;}#sk-container-id-6 div.sk-parallel-item:last-child::after {align-self: flex-start;width: 50%;}#sk-container-id-6 div.sk-parallel-item:only-child::after {width: 0;}#sk-container-id-6 div.sk-dashed-wrapped {border: 1px dashed gray;margin: 0 0.4em 0.5em 0.4em;box-sizing: border-box;padding-bottom: 0.4em;background-color: white;}#sk-container-id-6 div.sk-label label {font-family: monospace;font-weight: bold;display: inline-block;line-height: 1.2em;}#sk-container-id-6 div.sk-label-container {text-align: center;}#sk-container-id-6 div.sk-container {/* jupyter's `normalize.less` sets `[hidden] { display: none; }` but bootstrap.min.css set `[hidden] { display: none !important; }` so we also need the `!important` here to be able to override the default hidden behavior on the sphinx rendered scikit-learn.org. See: https://github.com/scikit-learn/scikit-learn/issues/21755 */display: inline-block !important;position: relative;}#sk-container-id-6 div.sk-text-repr-fallback {display: none;}</style><div id=\"sk-container-id-6\" class=\"sk-top-container\"><div class=\"sk-text-repr-fallback\"><pre>LogisticRegression()</pre><b>In a Jupyter environment, please rerun this cell to show the HTML representation or trust the notebook. <br />On GitHub, the HTML representation is unable to render, please try loading this page with nbviewer.org.</b></div><div class=\"sk-container\" hidden><div class=\"sk-item\"><div class=\"sk-estimator sk-toggleable\"><input class=\"sk-toggleable__control sk-hidden--visually\" id=\"sk-estimator-id-6\" type=\"checkbox\" checked><label for=\"sk-estimator-id-6\" class=\"sk-toggleable__label sk-toggleable__label-arrow\">LogisticRegression</label><div class=\"sk-toggleable__content\"><pre>LogisticRegression()</pre></div></div></div></div></div>"
            ],
            "text/plain": [
              "LogisticRegression()"
            ]
          },
          "execution_count": 74,
          "metadata": {},
          "output_type": "execute_result"
        }
      ],
      "source": [
        "# SMOTE\n",
        "model_1b.fit(X_train2, y_train2)"
      ]
    },
    {
      "cell_type": "markdown",
      "metadata": {
        "id": "ROrS1mAwkDlb"
      },
      "source": [
        " ## 8.2 Model Random Forest Classifier"
      ]
    },
    {
      "cell_type": "code",
      "execution_count": null,
      "metadata": {
        "colab": {
          "base_uri": "https://localhost:8080/",
          "height": 75
        },
        "id": "yCvLHj0TkMDZ",
        "outputId": "995f6ce6-3e67-4acf-decd-c325c689582e"
      },
      "outputs": [
        {
          "data": {
            "text/html": [
              "<style>#sk-container-id-7 {color: black;background-color: white;}#sk-container-id-7 pre{padding: 0;}#sk-container-id-7 div.sk-toggleable {background-color: white;}#sk-container-id-7 label.sk-toggleable__label {cursor: pointer;display: block;width: 100%;margin-bottom: 0;padding: 0.3em;box-sizing: border-box;text-align: center;}#sk-container-id-7 label.sk-toggleable__label-arrow:before {content: \"▸\";float: left;margin-right: 0.25em;color: #696969;}#sk-container-id-7 label.sk-toggleable__label-arrow:hover:before {color: black;}#sk-container-id-7 div.sk-estimator:hover label.sk-toggleable__label-arrow:before {color: black;}#sk-container-id-7 div.sk-toggleable__content {max-height: 0;max-width: 0;overflow: hidden;text-align: left;background-color: #f0f8ff;}#sk-container-id-7 div.sk-toggleable__content pre {margin: 0.2em;color: black;border-radius: 0.25em;background-color: #f0f8ff;}#sk-container-id-7 input.sk-toggleable__control:checked~div.sk-toggleable__content {max-height: 200px;max-width: 100%;overflow: auto;}#sk-container-id-7 input.sk-toggleable__control:checked~label.sk-toggleable__label-arrow:before {content: \"▾\";}#sk-container-id-7 div.sk-estimator input.sk-toggleable__control:checked~label.sk-toggleable__label {background-color: #d4ebff;}#sk-container-id-7 div.sk-label input.sk-toggleable__control:checked~label.sk-toggleable__label {background-color: #d4ebff;}#sk-container-id-7 input.sk-hidden--visually {border: 0;clip: rect(1px 1px 1px 1px);clip: rect(1px, 1px, 1px, 1px);height: 1px;margin: -1px;overflow: hidden;padding: 0;position: absolute;width: 1px;}#sk-container-id-7 div.sk-estimator {font-family: monospace;background-color: #f0f8ff;border: 1px dotted black;border-radius: 0.25em;box-sizing: border-box;margin-bottom: 0.5em;}#sk-container-id-7 div.sk-estimator:hover {background-color: #d4ebff;}#sk-container-id-7 div.sk-parallel-item::after {content: \"\";width: 100%;border-bottom: 1px solid gray;flex-grow: 1;}#sk-container-id-7 div.sk-label:hover label.sk-toggleable__label {background-color: #d4ebff;}#sk-container-id-7 div.sk-serial::before {content: \"\";position: absolute;border-left: 1px solid gray;box-sizing: border-box;top: 0;bottom: 0;left: 50%;z-index: 0;}#sk-container-id-7 div.sk-serial {display: flex;flex-direction: column;align-items: center;background-color: white;padding-right: 0.2em;padding-left: 0.2em;position: relative;}#sk-container-id-7 div.sk-item {position: relative;z-index: 1;}#sk-container-id-7 div.sk-parallel {display: flex;align-items: stretch;justify-content: center;background-color: white;position: relative;}#sk-container-id-7 div.sk-item::before, #sk-container-id-7 div.sk-parallel-item::before {content: \"\";position: absolute;border-left: 1px solid gray;box-sizing: border-box;top: 0;bottom: 0;left: 50%;z-index: -1;}#sk-container-id-7 div.sk-parallel-item {display: flex;flex-direction: column;z-index: 1;position: relative;background-color: white;}#sk-container-id-7 div.sk-parallel-item:first-child::after {align-self: flex-end;width: 50%;}#sk-container-id-7 div.sk-parallel-item:last-child::after {align-self: flex-start;width: 50%;}#sk-container-id-7 div.sk-parallel-item:only-child::after {width: 0;}#sk-container-id-7 div.sk-dashed-wrapped {border: 1px dashed gray;margin: 0 0.4em 0.5em 0.4em;box-sizing: border-box;padding-bottom: 0.4em;background-color: white;}#sk-container-id-7 div.sk-label label {font-family: monospace;font-weight: bold;display: inline-block;line-height: 1.2em;}#sk-container-id-7 div.sk-label-container {text-align: center;}#sk-container-id-7 div.sk-container {/* jupyter's `normalize.less` sets `[hidden] { display: none; }` but bootstrap.min.css set `[hidden] { display: none !important; }` so we also need the `!important` here to be able to override the default hidden behavior on the sphinx rendered scikit-learn.org. See: https://github.com/scikit-learn/scikit-learn/issues/21755 */display: inline-block !important;position: relative;}#sk-container-id-7 div.sk-text-repr-fallback {display: none;}</style><div id=\"sk-container-id-7\" class=\"sk-top-container\"><div class=\"sk-text-repr-fallback\"><pre>RandomForestClassifier(n_estimators=60, random_state=15)</pre><b>In a Jupyter environment, please rerun this cell to show the HTML representation or trust the notebook. <br />On GitHub, the HTML representation is unable to render, please try loading this page with nbviewer.org.</b></div><div class=\"sk-container\" hidden><div class=\"sk-item\"><div class=\"sk-estimator sk-toggleable\"><input class=\"sk-toggleable__control sk-hidden--visually\" id=\"sk-estimator-id-7\" type=\"checkbox\" checked><label for=\"sk-estimator-id-7\" class=\"sk-toggleable__label sk-toggleable__label-arrow\">RandomForestClassifier</label><div class=\"sk-toggleable__content\"><pre>RandomForestClassifier(n_estimators=60, random_state=15)</pre></div></div></div></div></div>"
            ],
            "text/plain": [
              "RandomForestClassifier(n_estimators=60, random_state=15)"
            ]
          },
          "execution_count": 75,
          "metadata": {},
          "output_type": "execute_result"
        }
      ],
      "source": [
        "# Sebelum resampling\n",
        "model_2.fit(X_train, y_train)"
      ]
    },
    {
      "cell_type": "code",
      "execution_count": null,
      "metadata": {
        "colab": {
          "base_uri": "https://localhost:8080/",
          "height": 75
        },
        "id": "c-6NGiEzSDrQ",
        "outputId": "36ab5536-ece9-4159-cf31-31ee48858a39"
      },
      "outputs": [
        {
          "data": {
            "text/html": [
              "<style>#sk-container-id-8 {color: black;background-color: white;}#sk-container-id-8 pre{padding: 0;}#sk-container-id-8 div.sk-toggleable {background-color: white;}#sk-container-id-8 label.sk-toggleable__label {cursor: pointer;display: block;width: 100%;margin-bottom: 0;padding: 0.3em;box-sizing: border-box;text-align: center;}#sk-container-id-8 label.sk-toggleable__label-arrow:before {content: \"▸\";float: left;margin-right: 0.25em;color: #696969;}#sk-container-id-8 label.sk-toggleable__label-arrow:hover:before {color: black;}#sk-container-id-8 div.sk-estimator:hover label.sk-toggleable__label-arrow:before {color: black;}#sk-container-id-8 div.sk-toggleable__content {max-height: 0;max-width: 0;overflow: hidden;text-align: left;background-color: #f0f8ff;}#sk-container-id-8 div.sk-toggleable__content pre {margin: 0.2em;color: black;border-radius: 0.25em;background-color: #f0f8ff;}#sk-container-id-8 input.sk-toggleable__control:checked~div.sk-toggleable__content {max-height: 200px;max-width: 100%;overflow: auto;}#sk-container-id-8 input.sk-toggleable__control:checked~label.sk-toggleable__label-arrow:before {content: \"▾\";}#sk-container-id-8 div.sk-estimator input.sk-toggleable__control:checked~label.sk-toggleable__label {background-color: #d4ebff;}#sk-container-id-8 div.sk-label input.sk-toggleable__control:checked~label.sk-toggleable__label {background-color: #d4ebff;}#sk-container-id-8 input.sk-hidden--visually {border: 0;clip: rect(1px 1px 1px 1px);clip: rect(1px, 1px, 1px, 1px);height: 1px;margin: -1px;overflow: hidden;padding: 0;position: absolute;width: 1px;}#sk-container-id-8 div.sk-estimator {font-family: monospace;background-color: #f0f8ff;border: 1px dotted black;border-radius: 0.25em;box-sizing: border-box;margin-bottom: 0.5em;}#sk-container-id-8 div.sk-estimator:hover {background-color: #d4ebff;}#sk-container-id-8 div.sk-parallel-item::after {content: \"\";width: 100%;border-bottom: 1px solid gray;flex-grow: 1;}#sk-container-id-8 div.sk-label:hover label.sk-toggleable__label {background-color: #d4ebff;}#sk-container-id-8 div.sk-serial::before {content: \"\";position: absolute;border-left: 1px solid gray;box-sizing: border-box;top: 0;bottom: 0;left: 50%;z-index: 0;}#sk-container-id-8 div.sk-serial {display: flex;flex-direction: column;align-items: center;background-color: white;padding-right: 0.2em;padding-left: 0.2em;position: relative;}#sk-container-id-8 div.sk-item {position: relative;z-index: 1;}#sk-container-id-8 div.sk-parallel {display: flex;align-items: stretch;justify-content: center;background-color: white;position: relative;}#sk-container-id-8 div.sk-item::before, #sk-container-id-8 div.sk-parallel-item::before {content: \"\";position: absolute;border-left: 1px solid gray;box-sizing: border-box;top: 0;bottom: 0;left: 50%;z-index: -1;}#sk-container-id-8 div.sk-parallel-item {display: flex;flex-direction: column;z-index: 1;position: relative;background-color: white;}#sk-container-id-8 div.sk-parallel-item:first-child::after {align-self: flex-end;width: 50%;}#sk-container-id-8 div.sk-parallel-item:last-child::after {align-self: flex-start;width: 50%;}#sk-container-id-8 div.sk-parallel-item:only-child::after {width: 0;}#sk-container-id-8 div.sk-dashed-wrapped {border: 1px dashed gray;margin: 0 0.4em 0.5em 0.4em;box-sizing: border-box;padding-bottom: 0.4em;background-color: white;}#sk-container-id-8 div.sk-label label {font-family: monospace;font-weight: bold;display: inline-block;line-height: 1.2em;}#sk-container-id-8 div.sk-label-container {text-align: center;}#sk-container-id-8 div.sk-container {/* jupyter's `normalize.less` sets `[hidden] { display: none; }` but bootstrap.min.css set `[hidden] { display: none !important; }` so we also need the `!important` here to be able to override the default hidden behavior on the sphinx rendered scikit-learn.org. See: https://github.com/scikit-learn/scikit-learn/issues/21755 */display: inline-block !important;position: relative;}#sk-container-id-8 div.sk-text-repr-fallback {display: none;}</style><div id=\"sk-container-id-8\" class=\"sk-top-container\"><div class=\"sk-text-repr-fallback\"><pre>RandomForestClassifier(n_estimators=60, random_state=15)</pre><b>In a Jupyter environment, please rerun this cell to show the HTML representation or trust the notebook. <br />On GitHub, the HTML representation is unable to render, please try loading this page with nbviewer.org.</b></div><div class=\"sk-container\" hidden><div class=\"sk-item\"><div class=\"sk-estimator sk-toggleable\"><input class=\"sk-toggleable__control sk-hidden--visually\" id=\"sk-estimator-id-8\" type=\"checkbox\" checked><label for=\"sk-estimator-id-8\" class=\"sk-toggleable__label sk-toggleable__label-arrow\">RandomForestClassifier</label><div class=\"sk-toggleable__content\"><pre>RandomForestClassifier(n_estimators=60, random_state=15)</pre></div></div></div></div></div>"
            ],
            "text/plain": [
              "RandomForestClassifier(n_estimators=60, random_state=15)"
            ]
          },
          "execution_count": 76,
          "metadata": {},
          "output_type": "execute_result"
        }
      ],
      "source": [
        "# Random Under Sampling\n",
        "model_2a.fit(X_train1, y_train1)"
      ]
    },
    {
      "cell_type": "code",
      "execution_count": null,
      "metadata": {
        "colab": {
          "base_uri": "https://localhost:8080/",
          "height": 75
        },
        "id": "BLDOFPKaVwye",
        "outputId": "8ccd7a64-172c-4218-c888-a8611330127d"
      },
      "outputs": [
        {
          "data": {
            "text/html": [
              "<style>#sk-container-id-9 {color: black;background-color: white;}#sk-container-id-9 pre{padding: 0;}#sk-container-id-9 div.sk-toggleable {background-color: white;}#sk-container-id-9 label.sk-toggleable__label {cursor: pointer;display: block;width: 100%;margin-bottom: 0;padding: 0.3em;box-sizing: border-box;text-align: center;}#sk-container-id-9 label.sk-toggleable__label-arrow:before {content: \"▸\";float: left;margin-right: 0.25em;color: #696969;}#sk-container-id-9 label.sk-toggleable__label-arrow:hover:before {color: black;}#sk-container-id-9 div.sk-estimator:hover label.sk-toggleable__label-arrow:before {color: black;}#sk-container-id-9 div.sk-toggleable__content {max-height: 0;max-width: 0;overflow: hidden;text-align: left;background-color: #f0f8ff;}#sk-container-id-9 div.sk-toggleable__content pre {margin: 0.2em;color: black;border-radius: 0.25em;background-color: #f0f8ff;}#sk-container-id-9 input.sk-toggleable__control:checked~div.sk-toggleable__content {max-height: 200px;max-width: 100%;overflow: auto;}#sk-container-id-9 input.sk-toggleable__control:checked~label.sk-toggleable__label-arrow:before {content: \"▾\";}#sk-container-id-9 div.sk-estimator input.sk-toggleable__control:checked~label.sk-toggleable__label {background-color: #d4ebff;}#sk-container-id-9 div.sk-label input.sk-toggleable__control:checked~label.sk-toggleable__label {background-color: #d4ebff;}#sk-container-id-9 input.sk-hidden--visually {border: 0;clip: rect(1px 1px 1px 1px);clip: rect(1px, 1px, 1px, 1px);height: 1px;margin: -1px;overflow: hidden;padding: 0;position: absolute;width: 1px;}#sk-container-id-9 div.sk-estimator {font-family: monospace;background-color: #f0f8ff;border: 1px dotted black;border-radius: 0.25em;box-sizing: border-box;margin-bottom: 0.5em;}#sk-container-id-9 div.sk-estimator:hover {background-color: #d4ebff;}#sk-container-id-9 div.sk-parallel-item::after {content: \"\";width: 100%;border-bottom: 1px solid gray;flex-grow: 1;}#sk-container-id-9 div.sk-label:hover label.sk-toggleable__label {background-color: #d4ebff;}#sk-container-id-9 div.sk-serial::before {content: \"\";position: absolute;border-left: 1px solid gray;box-sizing: border-box;top: 0;bottom: 0;left: 50%;z-index: 0;}#sk-container-id-9 div.sk-serial {display: flex;flex-direction: column;align-items: center;background-color: white;padding-right: 0.2em;padding-left: 0.2em;position: relative;}#sk-container-id-9 div.sk-item {position: relative;z-index: 1;}#sk-container-id-9 div.sk-parallel {display: flex;align-items: stretch;justify-content: center;background-color: white;position: relative;}#sk-container-id-9 div.sk-item::before, #sk-container-id-9 div.sk-parallel-item::before {content: \"\";position: absolute;border-left: 1px solid gray;box-sizing: border-box;top: 0;bottom: 0;left: 50%;z-index: -1;}#sk-container-id-9 div.sk-parallel-item {display: flex;flex-direction: column;z-index: 1;position: relative;background-color: white;}#sk-container-id-9 div.sk-parallel-item:first-child::after {align-self: flex-end;width: 50%;}#sk-container-id-9 div.sk-parallel-item:last-child::after {align-self: flex-start;width: 50%;}#sk-container-id-9 div.sk-parallel-item:only-child::after {width: 0;}#sk-container-id-9 div.sk-dashed-wrapped {border: 1px dashed gray;margin: 0 0.4em 0.5em 0.4em;box-sizing: border-box;padding-bottom: 0.4em;background-color: white;}#sk-container-id-9 div.sk-label label {font-family: monospace;font-weight: bold;display: inline-block;line-height: 1.2em;}#sk-container-id-9 div.sk-label-container {text-align: center;}#sk-container-id-9 div.sk-container {/* jupyter's `normalize.less` sets `[hidden] { display: none; }` but bootstrap.min.css set `[hidden] { display: none !important; }` so we also need the `!important` here to be able to override the default hidden behavior on the sphinx rendered scikit-learn.org. See: https://github.com/scikit-learn/scikit-learn/issues/21755 */display: inline-block !important;position: relative;}#sk-container-id-9 div.sk-text-repr-fallback {display: none;}</style><div id=\"sk-container-id-9\" class=\"sk-top-container\"><div class=\"sk-text-repr-fallback\"><pre>RandomForestClassifier(n_estimators=60, random_state=15)</pre><b>In a Jupyter environment, please rerun this cell to show the HTML representation or trust the notebook. <br />On GitHub, the HTML representation is unable to render, please try loading this page with nbviewer.org.</b></div><div class=\"sk-container\" hidden><div class=\"sk-item\"><div class=\"sk-estimator sk-toggleable\"><input class=\"sk-toggleable__control sk-hidden--visually\" id=\"sk-estimator-id-9\" type=\"checkbox\" checked><label for=\"sk-estimator-id-9\" class=\"sk-toggleable__label sk-toggleable__label-arrow\">RandomForestClassifier</label><div class=\"sk-toggleable__content\"><pre>RandomForestClassifier(n_estimators=60, random_state=15)</pre></div></div></div></div></div>"
            ],
            "text/plain": [
              "RandomForestClassifier(n_estimators=60, random_state=15)"
            ]
          },
          "execution_count": 77,
          "metadata": {},
          "output_type": "execute_result"
        }
      ],
      "source": [
        "# SMOTE\n",
        "model_2b.fit(X_train2, y_train2)"
      ]
    },
    {
      "cell_type": "markdown",
      "metadata": {
        "id": "MVaqVQUSkRkp"
      },
      "source": [
        "## 8.3 Model Decision Tree Classifier"
      ]
    },
    {
      "cell_type": "code",
      "execution_count": null,
      "metadata": {
        "colab": {
          "base_uri": "https://localhost:8080/",
          "height": 75
        },
        "id": "FTarhIKSkY9C",
        "outputId": "e1933053-fb4a-4796-ed65-2430b622c081"
      },
      "outputs": [
        {
          "data": {
            "text/html": [
              "<style>#sk-container-id-10 {color: black;background-color: white;}#sk-container-id-10 pre{padding: 0;}#sk-container-id-10 div.sk-toggleable {background-color: white;}#sk-container-id-10 label.sk-toggleable__label {cursor: pointer;display: block;width: 100%;margin-bottom: 0;padding: 0.3em;box-sizing: border-box;text-align: center;}#sk-container-id-10 label.sk-toggleable__label-arrow:before {content: \"▸\";float: left;margin-right: 0.25em;color: #696969;}#sk-container-id-10 label.sk-toggleable__label-arrow:hover:before {color: black;}#sk-container-id-10 div.sk-estimator:hover label.sk-toggleable__label-arrow:before {color: black;}#sk-container-id-10 div.sk-toggleable__content {max-height: 0;max-width: 0;overflow: hidden;text-align: left;background-color: #f0f8ff;}#sk-container-id-10 div.sk-toggleable__content pre {margin: 0.2em;color: black;border-radius: 0.25em;background-color: #f0f8ff;}#sk-container-id-10 input.sk-toggleable__control:checked~div.sk-toggleable__content {max-height: 200px;max-width: 100%;overflow: auto;}#sk-container-id-10 input.sk-toggleable__control:checked~label.sk-toggleable__label-arrow:before {content: \"▾\";}#sk-container-id-10 div.sk-estimator input.sk-toggleable__control:checked~label.sk-toggleable__label {background-color: #d4ebff;}#sk-container-id-10 div.sk-label input.sk-toggleable__control:checked~label.sk-toggleable__label {background-color: #d4ebff;}#sk-container-id-10 input.sk-hidden--visually {border: 0;clip: rect(1px 1px 1px 1px);clip: rect(1px, 1px, 1px, 1px);height: 1px;margin: -1px;overflow: hidden;padding: 0;position: absolute;width: 1px;}#sk-container-id-10 div.sk-estimator {font-family: monospace;background-color: #f0f8ff;border: 1px dotted black;border-radius: 0.25em;box-sizing: border-box;margin-bottom: 0.5em;}#sk-container-id-10 div.sk-estimator:hover {background-color: #d4ebff;}#sk-container-id-10 div.sk-parallel-item::after {content: \"\";width: 100%;border-bottom: 1px solid gray;flex-grow: 1;}#sk-container-id-10 div.sk-label:hover label.sk-toggleable__label {background-color: #d4ebff;}#sk-container-id-10 div.sk-serial::before {content: \"\";position: absolute;border-left: 1px solid gray;box-sizing: border-box;top: 0;bottom: 0;left: 50%;z-index: 0;}#sk-container-id-10 div.sk-serial {display: flex;flex-direction: column;align-items: center;background-color: white;padding-right: 0.2em;padding-left: 0.2em;position: relative;}#sk-container-id-10 div.sk-item {position: relative;z-index: 1;}#sk-container-id-10 div.sk-parallel {display: flex;align-items: stretch;justify-content: center;background-color: white;position: relative;}#sk-container-id-10 div.sk-item::before, #sk-container-id-10 div.sk-parallel-item::before {content: \"\";position: absolute;border-left: 1px solid gray;box-sizing: border-box;top: 0;bottom: 0;left: 50%;z-index: -1;}#sk-container-id-10 div.sk-parallel-item {display: flex;flex-direction: column;z-index: 1;position: relative;background-color: white;}#sk-container-id-10 div.sk-parallel-item:first-child::after {align-self: flex-end;width: 50%;}#sk-container-id-10 div.sk-parallel-item:last-child::after {align-self: flex-start;width: 50%;}#sk-container-id-10 div.sk-parallel-item:only-child::after {width: 0;}#sk-container-id-10 div.sk-dashed-wrapped {border: 1px dashed gray;margin: 0 0.4em 0.5em 0.4em;box-sizing: border-box;padding-bottom: 0.4em;background-color: white;}#sk-container-id-10 div.sk-label label {font-family: monospace;font-weight: bold;display: inline-block;line-height: 1.2em;}#sk-container-id-10 div.sk-label-container {text-align: center;}#sk-container-id-10 div.sk-container {/* jupyter's `normalize.less` sets `[hidden] { display: none; }` but bootstrap.min.css set `[hidden] { display: none !important; }` so we also need the `!important` here to be able to override the default hidden behavior on the sphinx rendered scikit-learn.org. See: https://github.com/scikit-learn/scikit-learn/issues/21755 */display: inline-block !important;position: relative;}#sk-container-id-10 div.sk-text-repr-fallback {display: none;}</style><div id=\"sk-container-id-10\" class=\"sk-top-container\"><div class=\"sk-text-repr-fallback\"><pre>DecisionTreeClassifier()</pre><b>In a Jupyter environment, please rerun this cell to show the HTML representation or trust the notebook. <br />On GitHub, the HTML representation is unable to render, please try loading this page with nbviewer.org.</b></div><div class=\"sk-container\" hidden><div class=\"sk-item\"><div class=\"sk-estimator sk-toggleable\"><input class=\"sk-toggleable__control sk-hidden--visually\" id=\"sk-estimator-id-10\" type=\"checkbox\" checked><label for=\"sk-estimator-id-10\" class=\"sk-toggleable__label sk-toggleable__label-arrow\">DecisionTreeClassifier</label><div class=\"sk-toggleable__content\"><pre>DecisionTreeClassifier()</pre></div></div></div></div></div>"
            ],
            "text/plain": [
              "DecisionTreeClassifier()"
            ]
          },
          "execution_count": 78,
          "metadata": {},
          "output_type": "execute_result"
        }
      ],
      "source": [
        "# Sebelum resampling\n",
        "model_3.fit(X_train, y_train)"
      ]
    },
    {
      "cell_type": "code",
      "execution_count": null,
      "metadata": {
        "colab": {
          "base_uri": "https://localhost:8080/",
          "height": 75
        },
        "id": "CR2nZG1vSahS",
        "outputId": "bf5a3117-e401-4f6a-c441-0eda9bea005b"
      },
      "outputs": [
        {
          "data": {
            "text/html": [
              "<style>#sk-container-id-11 {color: black;background-color: white;}#sk-container-id-11 pre{padding: 0;}#sk-container-id-11 div.sk-toggleable {background-color: white;}#sk-container-id-11 label.sk-toggleable__label {cursor: pointer;display: block;width: 100%;margin-bottom: 0;padding: 0.3em;box-sizing: border-box;text-align: center;}#sk-container-id-11 label.sk-toggleable__label-arrow:before {content: \"▸\";float: left;margin-right: 0.25em;color: #696969;}#sk-container-id-11 label.sk-toggleable__label-arrow:hover:before {color: black;}#sk-container-id-11 div.sk-estimator:hover label.sk-toggleable__label-arrow:before {color: black;}#sk-container-id-11 div.sk-toggleable__content {max-height: 0;max-width: 0;overflow: hidden;text-align: left;background-color: #f0f8ff;}#sk-container-id-11 div.sk-toggleable__content pre {margin: 0.2em;color: black;border-radius: 0.25em;background-color: #f0f8ff;}#sk-container-id-11 input.sk-toggleable__control:checked~div.sk-toggleable__content {max-height: 200px;max-width: 100%;overflow: auto;}#sk-container-id-11 input.sk-toggleable__control:checked~label.sk-toggleable__label-arrow:before {content: \"▾\";}#sk-container-id-11 div.sk-estimator input.sk-toggleable__control:checked~label.sk-toggleable__label {background-color: #d4ebff;}#sk-container-id-11 div.sk-label input.sk-toggleable__control:checked~label.sk-toggleable__label {background-color: #d4ebff;}#sk-container-id-11 input.sk-hidden--visually {border: 0;clip: rect(1px 1px 1px 1px);clip: rect(1px, 1px, 1px, 1px);height: 1px;margin: -1px;overflow: hidden;padding: 0;position: absolute;width: 1px;}#sk-container-id-11 div.sk-estimator {font-family: monospace;background-color: #f0f8ff;border: 1px dotted black;border-radius: 0.25em;box-sizing: border-box;margin-bottom: 0.5em;}#sk-container-id-11 div.sk-estimator:hover {background-color: #d4ebff;}#sk-container-id-11 div.sk-parallel-item::after {content: \"\";width: 100%;border-bottom: 1px solid gray;flex-grow: 1;}#sk-container-id-11 div.sk-label:hover label.sk-toggleable__label {background-color: #d4ebff;}#sk-container-id-11 div.sk-serial::before {content: \"\";position: absolute;border-left: 1px solid gray;box-sizing: border-box;top: 0;bottom: 0;left: 50%;z-index: 0;}#sk-container-id-11 div.sk-serial {display: flex;flex-direction: column;align-items: center;background-color: white;padding-right: 0.2em;padding-left: 0.2em;position: relative;}#sk-container-id-11 div.sk-item {position: relative;z-index: 1;}#sk-container-id-11 div.sk-parallel {display: flex;align-items: stretch;justify-content: center;background-color: white;position: relative;}#sk-container-id-11 div.sk-item::before, #sk-container-id-11 div.sk-parallel-item::before {content: \"\";position: absolute;border-left: 1px solid gray;box-sizing: border-box;top: 0;bottom: 0;left: 50%;z-index: -1;}#sk-container-id-11 div.sk-parallel-item {display: flex;flex-direction: column;z-index: 1;position: relative;background-color: white;}#sk-container-id-11 div.sk-parallel-item:first-child::after {align-self: flex-end;width: 50%;}#sk-container-id-11 div.sk-parallel-item:last-child::after {align-self: flex-start;width: 50%;}#sk-container-id-11 div.sk-parallel-item:only-child::after {width: 0;}#sk-container-id-11 div.sk-dashed-wrapped {border: 1px dashed gray;margin: 0 0.4em 0.5em 0.4em;box-sizing: border-box;padding-bottom: 0.4em;background-color: white;}#sk-container-id-11 div.sk-label label {font-family: monospace;font-weight: bold;display: inline-block;line-height: 1.2em;}#sk-container-id-11 div.sk-label-container {text-align: center;}#sk-container-id-11 div.sk-container {/* jupyter's `normalize.less` sets `[hidden] { display: none; }` but bootstrap.min.css set `[hidden] { display: none !important; }` so we also need the `!important` here to be able to override the default hidden behavior on the sphinx rendered scikit-learn.org. See: https://github.com/scikit-learn/scikit-learn/issues/21755 */display: inline-block !important;position: relative;}#sk-container-id-11 div.sk-text-repr-fallback {display: none;}</style><div id=\"sk-container-id-11\" class=\"sk-top-container\"><div class=\"sk-text-repr-fallback\"><pre>DecisionTreeClassifier()</pre><b>In a Jupyter environment, please rerun this cell to show the HTML representation or trust the notebook. <br />On GitHub, the HTML representation is unable to render, please try loading this page with nbviewer.org.</b></div><div class=\"sk-container\" hidden><div class=\"sk-item\"><div class=\"sk-estimator sk-toggleable\"><input class=\"sk-toggleable__control sk-hidden--visually\" id=\"sk-estimator-id-11\" type=\"checkbox\" checked><label for=\"sk-estimator-id-11\" class=\"sk-toggleable__label sk-toggleable__label-arrow\">DecisionTreeClassifier</label><div class=\"sk-toggleable__content\"><pre>DecisionTreeClassifier()</pre></div></div></div></div></div>"
            ],
            "text/plain": [
              "DecisionTreeClassifier()"
            ]
          },
          "execution_count": 79,
          "metadata": {},
          "output_type": "execute_result"
        }
      ],
      "source": [
        "# Random Under Sampling\n",
        "model_3a.fit(X_train1, y_train1)"
      ]
    },
    {
      "cell_type": "code",
      "execution_count": null,
      "metadata": {
        "colab": {
          "base_uri": "https://localhost:8080/",
          "height": 75
        },
        "id": "K7MENVUkV4in",
        "outputId": "6d9f92f7-221a-4e7e-8342-0912867514d3"
      },
      "outputs": [
        {
          "data": {
            "text/html": [
              "<style>#sk-container-id-12 {color: black;background-color: white;}#sk-container-id-12 pre{padding: 0;}#sk-container-id-12 div.sk-toggleable {background-color: white;}#sk-container-id-12 label.sk-toggleable__label {cursor: pointer;display: block;width: 100%;margin-bottom: 0;padding: 0.3em;box-sizing: border-box;text-align: center;}#sk-container-id-12 label.sk-toggleable__label-arrow:before {content: \"▸\";float: left;margin-right: 0.25em;color: #696969;}#sk-container-id-12 label.sk-toggleable__label-arrow:hover:before {color: black;}#sk-container-id-12 div.sk-estimator:hover label.sk-toggleable__label-arrow:before {color: black;}#sk-container-id-12 div.sk-toggleable__content {max-height: 0;max-width: 0;overflow: hidden;text-align: left;background-color: #f0f8ff;}#sk-container-id-12 div.sk-toggleable__content pre {margin: 0.2em;color: black;border-radius: 0.25em;background-color: #f0f8ff;}#sk-container-id-12 input.sk-toggleable__control:checked~div.sk-toggleable__content {max-height: 200px;max-width: 100%;overflow: auto;}#sk-container-id-12 input.sk-toggleable__control:checked~label.sk-toggleable__label-arrow:before {content: \"▾\";}#sk-container-id-12 div.sk-estimator input.sk-toggleable__control:checked~label.sk-toggleable__label {background-color: #d4ebff;}#sk-container-id-12 div.sk-label input.sk-toggleable__control:checked~label.sk-toggleable__label {background-color: #d4ebff;}#sk-container-id-12 input.sk-hidden--visually {border: 0;clip: rect(1px 1px 1px 1px);clip: rect(1px, 1px, 1px, 1px);height: 1px;margin: -1px;overflow: hidden;padding: 0;position: absolute;width: 1px;}#sk-container-id-12 div.sk-estimator {font-family: monospace;background-color: #f0f8ff;border: 1px dotted black;border-radius: 0.25em;box-sizing: border-box;margin-bottom: 0.5em;}#sk-container-id-12 div.sk-estimator:hover {background-color: #d4ebff;}#sk-container-id-12 div.sk-parallel-item::after {content: \"\";width: 100%;border-bottom: 1px solid gray;flex-grow: 1;}#sk-container-id-12 div.sk-label:hover label.sk-toggleable__label {background-color: #d4ebff;}#sk-container-id-12 div.sk-serial::before {content: \"\";position: absolute;border-left: 1px solid gray;box-sizing: border-box;top: 0;bottom: 0;left: 50%;z-index: 0;}#sk-container-id-12 div.sk-serial {display: flex;flex-direction: column;align-items: center;background-color: white;padding-right: 0.2em;padding-left: 0.2em;position: relative;}#sk-container-id-12 div.sk-item {position: relative;z-index: 1;}#sk-container-id-12 div.sk-parallel {display: flex;align-items: stretch;justify-content: center;background-color: white;position: relative;}#sk-container-id-12 div.sk-item::before, #sk-container-id-12 div.sk-parallel-item::before {content: \"\";position: absolute;border-left: 1px solid gray;box-sizing: border-box;top: 0;bottom: 0;left: 50%;z-index: -1;}#sk-container-id-12 div.sk-parallel-item {display: flex;flex-direction: column;z-index: 1;position: relative;background-color: white;}#sk-container-id-12 div.sk-parallel-item:first-child::after {align-self: flex-end;width: 50%;}#sk-container-id-12 div.sk-parallel-item:last-child::after {align-self: flex-start;width: 50%;}#sk-container-id-12 div.sk-parallel-item:only-child::after {width: 0;}#sk-container-id-12 div.sk-dashed-wrapped {border: 1px dashed gray;margin: 0 0.4em 0.5em 0.4em;box-sizing: border-box;padding-bottom: 0.4em;background-color: white;}#sk-container-id-12 div.sk-label label {font-family: monospace;font-weight: bold;display: inline-block;line-height: 1.2em;}#sk-container-id-12 div.sk-label-container {text-align: center;}#sk-container-id-12 div.sk-container {/* jupyter's `normalize.less` sets `[hidden] { display: none; }` but bootstrap.min.css set `[hidden] { display: none !important; }` so we also need the `!important` here to be able to override the default hidden behavior on the sphinx rendered scikit-learn.org. See: https://github.com/scikit-learn/scikit-learn/issues/21755 */display: inline-block !important;position: relative;}#sk-container-id-12 div.sk-text-repr-fallback {display: none;}</style><div id=\"sk-container-id-12\" class=\"sk-top-container\"><div class=\"sk-text-repr-fallback\"><pre>DecisionTreeClassifier()</pre><b>In a Jupyter environment, please rerun this cell to show the HTML representation or trust the notebook. <br />On GitHub, the HTML representation is unable to render, please try loading this page with nbviewer.org.</b></div><div class=\"sk-container\" hidden><div class=\"sk-item\"><div class=\"sk-estimator sk-toggleable\"><input class=\"sk-toggleable__control sk-hidden--visually\" id=\"sk-estimator-id-12\" type=\"checkbox\" checked><label for=\"sk-estimator-id-12\" class=\"sk-toggleable__label sk-toggleable__label-arrow\">DecisionTreeClassifier</label><div class=\"sk-toggleable__content\"><pre>DecisionTreeClassifier()</pre></div></div></div></div></div>"
            ],
            "text/plain": [
              "DecisionTreeClassifier()"
            ]
          },
          "execution_count": 80,
          "metadata": {},
          "output_type": "execute_result"
        }
      ],
      "source": [
        "# SMOTE\n",
        "model_3b.fit(X_train2, y_train2)"
      ]
    },
    {
      "cell_type": "markdown",
      "metadata": {
        "id": "YD0VbowykkTI"
      },
      "source": [
        "## 8.4 Model KNN Classifier"
      ]
    },
    {
      "cell_type": "code",
      "execution_count": null,
      "metadata": {
        "colab": {
          "base_uri": "https://localhost:8080/",
          "height": 75
        },
        "id": "YXATYlpmksxg",
        "outputId": "64a12d2f-fdc3-48eb-a37a-bf2044421294"
      },
      "outputs": [
        {
          "data": {
            "text/html": [
              "<style>#sk-container-id-13 {color: black;background-color: white;}#sk-container-id-13 pre{padding: 0;}#sk-container-id-13 div.sk-toggleable {background-color: white;}#sk-container-id-13 label.sk-toggleable__label {cursor: pointer;display: block;width: 100%;margin-bottom: 0;padding: 0.3em;box-sizing: border-box;text-align: center;}#sk-container-id-13 label.sk-toggleable__label-arrow:before {content: \"▸\";float: left;margin-right: 0.25em;color: #696969;}#sk-container-id-13 label.sk-toggleable__label-arrow:hover:before {color: black;}#sk-container-id-13 div.sk-estimator:hover label.sk-toggleable__label-arrow:before {color: black;}#sk-container-id-13 div.sk-toggleable__content {max-height: 0;max-width: 0;overflow: hidden;text-align: left;background-color: #f0f8ff;}#sk-container-id-13 div.sk-toggleable__content pre {margin: 0.2em;color: black;border-radius: 0.25em;background-color: #f0f8ff;}#sk-container-id-13 input.sk-toggleable__control:checked~div.sk-toggleable__content {max-height: 200px;max-width: 100%;overflow: auto;}#sk-container-id-13 input.sk-toggleable__control:checked~label.sk-toggleable__label-arrow:before {content: \"▾\";}#sk-container-id-13 div.sk-estimator input.sk-toggleable__control:checked~label.sk-toggleable__label {background-color: #d4ebff;}#sk-container-id-13 div.sk-label input.sk-toggleable__control:checked~label.sk-toggleable__label {background-color: #d4ebff;}#sk-container-id-13 input.sk-hidden--visually {border: 0;clip: rect(1px 1px 1px 1px);clip: rect(1px, 1px, 1px, 1px);height: 1px;margin: -1px;overflow: hidden;padding: 0;position: absolute;width: 1px;}#sk-container-id-13 div.sk-estimator {font-family: monospace;background-color: #f0f8ff;border: 1px dotted black;border-radius: 0.25em;box-sizing: border-box;margin-bottom: 0.5em;}#sk-container-id-13 div.sk-estimator:hover {background-color: #d4ebff;}#sk-container-id-13 div.sk-parallel-item::after {content: \"\";width: 100%;border-bottom: 1px solid gray;flex-grow: 1;}#sk-container-id-13 div.sk-label:hover label.sk-toggleable__label {background-color: #d4ebff;}#sk-container-id-13 div.sk-serial::before {content: \"\";position: absolute;border-left: 1px solid gray;box-sizing: border-box;top: 0;bottom: 0;left: 50%;z-index: 0;}#sk-container-id-13 div.sk-serial {display: flex;flex-direction: column;align-items: center;background-color: white;padding-right: 0.2em;padding-left: 0.2em;position: relative;}#sk-container-id-13 div.sk-item {position: relative;z-index: 1;}#sk-container-id-13 div.sk-parallel {display: flex;align-items: stretch;justify-content: center;background-color: white;position: relative;}#sk-container-id-13 div.sk-item::before, #sk-container-id-13 div.sk-parallel-item::before {content: \"\";position: absolute;border-left: 1px solid gray;box-sizing: border-box;top: 0;bottom: 0;left: 50%;z-index: -1;}#sk-container-id-13 div.sk-parallel-item {display: flex;flex-direction: column;z-index: 1;position: relative;background-color: white;}#sk-container-id-13 div.sk-parallel-item:first-child::after {align-self: flex-end;width: 50%;}#sk-container-id-13 div.sk-parallel-item:last-child::after {align-self: flex-start;width: 50%;}#sk-container-id-13 div.sk-parallel-item:only-child::after {width: 0;}#sk-container-id-13 div.sk-dashed-wrapped {border: 1px dashed gray;margin: 0 0.4em 0.5em 0.4em;box-sizing: border-box;padding-bottom: 0.4em;background-color: white;}#sk-container-id-13 div.sk-label label {font-family: monospace;font-weight: bold;display: inline-block;line-height: 1.2em;}#sk-container-id-13 div.sk-label-container {text-align: center;}#sk-container-id-13 div.sk-container {/* jupyter's `normalize.less` sets `[hidden] { display: none; }` but bootstrap.min.css set `[hidden] { display: none !important; }` so we also need the `!important` here to be able to override the default hidden behavior on the sphinx rendered scikit-learn.org. See: https://github.com/scikit-learn/scikit-learn/issues/21755 */display: inline-block !important;position: relative;}#sk-container-id-13 div.sk-text-repr-fallback {display: none;}</style><div id=\"sk-container-id-13\" class=\"sk-top-container\"><div class=\"sk-text-repr-fallback\"><pre>KNeighborsClassifier(n_neighbors=16)</pre><b>In a Jupyter environment, please rerun this cell to show the HTML representation or trust the notebook. <br />On GitHub, the HTML representation is unable to render, please try loading this page with nbviewer.org.</b></div><div class=\"sk-container\" hidden><div class=\"sk-item\"><div class=\"sk-estimator sk-toggleable\"><input class=\"sk-toggleable__control sk-hidden--visually\" id=\"sk-estimator-id-13\" type=\"checkbox\" checked><label for=\"sk-estimator-id-13\" class=\"sk-toggleable__label sk-toggleable__label-arrow\">KNeighborsClassifier</label><div class=\"sk-toggleable__content\"><pre>KNeighborsClassifier(n_neighbors=16)</pre></div></div></div></div></div>"
            ],
            "text/plain": [
              "KNeighborsClassifier(n_neighbors=16)"
            ]
          },
          "execution_count": 81,
          "metadata": {},
          "output_type": "execute_result"
        }
      ],
      "source": [
        "# Sebelum resampling\n",
        "model_4.fit(X_train , y_train)"
      ]
    },
    {
      "cell_type": "code",
      "execution_count": null,
      "metadata": {
        "colab": {
          "base_uri": "https://localhost:8080/",
          "height": 75
        },
        "id": "ixUyMcK-Sp9U",
        "outputId": "19a8605e-26fa-41ce-b486-ef2cd8ee4531"
      },
      "outputs": [
        {
          "data": {
            "text/html": [
              "<style>#sk-container-id-14 {color: black;background-color: white;}#sk-container-id-14 pre{padding: 0;}#sk-container-id-14 div.sk-toggleable {background-color: white;}#sk-container-id-14 label.sk-toggleable__label {cursor: pointer;display: block;width: 100%;margin-bottom: 0;padding: 0.3em;box-sizing: border-box;text-align: center;}#sk-container-id-14 label.sk-toggleable__label-arrow:before {content: \"▸\";float: left;margin-right: 0.25em;color: #696969;}#sk-container-id-14 label.sk-toggleable__label-arrow:hover:before {color: black;}#sk-container-id-14 div.sk-estimator:hover label.sk-toggleable__label-arrow:before {color: black;}#sk-container-id-14 div.sk-toggleable__content {max-height: 0;max-width: 0;overflow: hidden;text-align: left;background-color: #f0f8ff;}#sk-container-id-14 div.sk-toggleable__content pre {margin: 0.2em;color: black;border-radius: 0.25em;background-color: #f0f8ff;}#sk-container-id-14 input.sk-toggleable__control:checked~div.sk-toggleable__content {max-height: 200px;max-width: 100%;overflow: auto;}#sk-container-id-14 input.sk-toggleable__control:checked~label.sk-toggleable__label-arrow:before {content: \"▾\";}#sk-container-id-14 div.sk-estimator input.sk-toggleable__control:checked~label.sk-toggleable__label {background-color: #d4ebff;}#sk-container-id-14 div.sk-label input.sk-toggleable__control:checked~label.sk-toggleable__label {background-color: #d4ebff;}#sk-container-id-14 input.sk-hidden--visually {border: 0;clip: rect(1px 1px 1px 1px);clip: rect(1px, 1px, 1px, 1px);height: 1px;margin: -1px;overflow: hidden;padding: 0;position: absolute;width: 1px;}#sk-container-id-14 div.sk-estimator {font-family: monospace;background-color: #f0f8ff;border: 1px dotted black;border-radius: 0.25em;box-sizing: border-box;margin-bottom: 0.5em;}#sk-container-id-14 div.sk-estimator:hover {background-color: #d4ebff;}#sk-container-id-14 div.sk-parallel-item::after {content: \"\";width: 100%;border-bottom: 1px solid gray;flex-grow: 1;}#sk-container-id-14 div.sk-label:hover label.sk-toggleable__label {background-color: #d4ebff;}#sk-container-id-14 div.sk-serial::before {content: \"\";position: absolute;border-left: 1px solid gray;box-sizing: border-box;top: 0;bottom: 0;left: 50%;z-index: 0;}#sk-container-id-14 div.sk-serial {display: flex;flex-direction: column;align-items: center;background-color: white;padding-right: 0.2em;padding-left: 0.2em;position: relative;}#sk-container-id-14 div.sk-item {position: relative;z-index: 1;}#sk-container-id-14 div.sk-parallel {display: flex;align-items: stretch;justify-content: center;background-color: white;position: relative;}#sk-container-id-14 div.sk-item::before, #sk-container-id-14 div.sk-parallel-item::before {content: \"\";position: absolute;border-left: 1px solid gray;box-sizing: border-box;top: 0;bottom: 0;left: 50%;z-index: -1;}#sk-container-id-14 div.sk-parallel-item {display: flex;flex-direction: column;z-index: 1;position: relative;background-color: white;}#sk-container-id-14 div.sk-parallel-item:first-child::after {align-self: flex-end;width: 50%;}#sk-container-id-14 div.sk-parallel-item:last-child::after {align-self: flex-start;width: 50%;}#sk-container-id-14 div.sk-parallel-item:only-child::after {width: 0;}#sk-container-id-14 div.sk-dashed-wrapped {border: 1px dashed gray;margin: 0 0.4em 0.5em 0.4em;box-sizing: border-box;padding-bottom: 0.4em;background-color: white;}#sk-container-id-14 div.sk-label label {font-family: monospace;font-weight: bold;display: inline-block;line-height: 1.2em;}#sk-container-id-14 div.sk-label-container {text-align: center;}#sk-container-id-14 div.sk-container {/* jupyter's `normalize.less` sets `[hidden] { display: none; }` but bootstrap.min.css set `[hidden] { display: none !important; }` so we also need the `!important` here to be able to override the default hidden behavior on the sphinx rendered scikit-learn.org. See: https://github.com/scikit-learn/scikit-learn/issues/21755 */display: inline-block !important;position: relative;}#sk-container-id-14 div.sk-text-repr-fallback {display: none;}</style><div id=\"sk-container-id-14\" class=\"sk-top-container\"><div class=\"sk-text-repr-fallback\"><pre>KNeighborsClassifier(n_neighbors=16)</pre><b>In a Jupyter environment, please rerun this cell to show the HTML representation or trust the notebook. <br />On GitHub, the HTML representation is unable to render, please try loading this page with nbviewer.org.</b></div><div class=\"sk-container\" hidden><div class=\"sk-item\"><div class=\"sk-estimator sk-toggleable\"><input class=\"sk-toggleable__control sk-hidden--visually\" id=\"sk-estimator-id-14\" type=\"checkbox\" checked><label for=\"sk-estimator-id-14\" class=\"sk-toggleable__label sk-toggleable__label-arrow\">KNeighborsClassifier</label><div class=\"sk-toggleable__content\"><pre>KNeighborsClassifier(n_neighbors=16)</pre></div></div></div></div></div>"
            ],
            "text/plain": [
              "KNeighborsClassifier(n_neighbors=16)"
            ]
          },
          "execution_count": 82,
          "metadata": {},
          "output_type": "execute_result"
        }
      ],
      "source": [
        "# Random Under Sampling\n",
        "model_4a.fit(X_train1, y_train1)"
      ]
    },
    {
      "cell_type": "code",
      "execution_count": null,
      "metadata": {
        "colab": {
          "base_uri": "https://localhost:8080/",
          "height": 75
        },
        "id": "adNYcVNpWGuT",
        "outputId": "108e27e5-dd68-4f1c-f67a-989f21f78ba8"
      },
      "outputs": [
        {
          "data": {
            "text/html": [
              "<style>#sk-container-id-15 {color: black;background-color: white;}#sk-container-id-15 pre{padding: 0;}#sk-container-id-15 div.sk-toggleable {background-color: white;}#sk-container-id-15 label.sk-toggleable__label {cursor: pointer;display: block;width: 100%;margin-bottom: 0;padding: 0.3em;box-sizing: border-box;text-align: center;}#sk-container-id-15 label.sk-toggleable__label-arrow:before {content: \"▸\";float: left;margin-right: 0.25em;color: #696969;}#sk-container-id-15 label.sk-toggleable__label-arrow:hover:before {color: black;}#sk-container-id-15 div.sk-estimator:hover label.sk-toggleable__label-arrow:before {color: black;}#sk-container-id-15 div.sk-toggleable__content {max-height: 0;max-width: 0;overflow: hidden;text-align: left;background-color: #f0f8ff;}#sk-container-id-15 div.sk-toggleable__content pre {margin: 0.2em;color: black;border-radius: 0.25em;background-color: #f0f8ff;}#sk-container-id-15 input.sk-toggleable__control:checked~div.sk-toggleable__content {max-height: 200px;max-width: 100%;overflow: auto;}#sk-container-id-15 input.sk-toggleable__control:checked~label.sk-toggleable__label-arrow:before {content: \"▾\";}#sk-container-id-15 div.sk-estimator input.sk-toggleable__control:checked~label.sk-toggleable__label {background-color: #d4ebff;}#sk-container-id-15 div.sk-label input.sk-toggleable__control:checked~label.sk-toggleable__label {background-color: #d4ebff;}#sk-container-id-15 input.sk-hidden--visually {border: 0;clip: rect(1px 1px 1px 1px);clip: rect(1px, 1px, 1px, 1px);height: 1px;margin: -1px;overflow: hidden;padding: 0;position: absolute;width: 1px;}#sk-container-id-15 div.sk-estimator {font-family: monospace;background-color: #f0f8ff;border: 1px dotted black;border-radius: 0.25em;box-sizing: border-box;margin-bottom: 0.5em;}#sk-container-id-15 div.sk-estimator:hover {background-color: #d4ebff;}#sk-container-id-15 div.sk-parallel-item::after {content: \"\";width: 100%;border-bottom: 1px solid gray;flex-grow: 1;}#sk-container-id-15 div.sk-label:hover label.sk-toggleable__label {background-color: #d4ebff;}#sk-container-id-15 div.sk-serial::before {content: \"\";position: absolute;border-left: 1px solid gray;box-sizing: border-box;top: 0;bottom: 0;left: 50%;z-index: 0;}#sk-container-id-15 div.sk-serial {display: flex;flex-direction: column;align-items: center;background-color: white;padding-right: 0.2em;padding-left: 0.2em;position: relative;}#sk-container-id-15 div.sk-item {position: relative;z-index: 1;}#sk-container-id-15 div.sk-parallel {display: flex;align-items: stretch;justify-content: center;background-color: white;position: relative;}#sk-container-id-15 div.sk-item::before, #sk-container-id-15 div.sk-parallel-item::before {content: \"\";position: absolute;border-left: 1px solid gray;box-sizing: border-box;top: 0;bottom: 0;left: 50%;z-index: -1;}#sk-container-id-15 div.sk-parallel-item {display: flex;flex-direction: column;z-index: 1;position: relative;background-color: white;}#sk-container-id-15 div.sk-parallel-item:first-child::after {align-self: flex-end;width: 50%;}#sk-container-id-15 div.sk-parallel-item:last-child::after {align-self: flex-start;width: 50%;}#sk-container-id-15 div.sk-parallel-item:only-child::after {width: 0;}#sk-container-id-15 div.sk-dashed-wrapped {border: 1px dashed gray;margin: 0 0.4em 0.5em 0.4em;box-sizing: border-box;padding-bottom: 0.4em;background-color: white;}#sk-container-id-15 div.sk-label label {font-family: monospace;font-weight: bold;display: inline-block;line-height: 1.2em;}#sk-container-id-15 div.sk-label-container {text-align: center;}#sk-container-id-15 div.sk-container {/* jupyter's `normalize.less` sets `[hidden] { display: none; }` but bootstrap.min.css set `[hidden] { display: none !important; }` so we also need the `!important` here to be able to override the default hidden behavior on the sphinx rendered scikit-learn.org. See: https://github.com/scikit-learn/scikit-learn/issues/21755 */display: inline-block !important;position: relative;}#sk-container-id-15 div.sk-text-repr-fallback {display: none;}</style><div id=\"sk-container-id-15\" class=\"sk-top-container\"><div class=\"sk-text-repr-fallback\"><pre>KNeighborsClassifier(n_neighbors=16)</pre><b>In a Jupyter environment, please rerun this cell to show the HTML representation or trust the notebook. <br />On GitHub, the HTML representation is unable to render, please try loading this page with nbviewer.org.</b></div><div class=\"sk-container\" hidden><div class=\"sk-item\"><div class=\"sk-estimator sk-toggleable\"><input class=\"sk-toggleable__control sk-hidden--visually\" id=\"sk-estimator-id-15\" type=\"checkbox\" checked><label for=\"sk-estimator-id-15\" class=\"sk-toggleable__label sk-toggleable__label-arrow\">KNeighborsClassifier</label><div class=\"sk-toggleable__content\"><pre>KNeighborsClassifier(n_neighbors=16)</pre></div></div></div></div></div>"
            ],
            "text/plain": [
              "KNeighborsClassifier(n_neighbors=16)"
            ]
          },
          "execution_count": 83,
          "metadata": {},
          "output_type": "execute_result"
        }
      ],
      "source": [
        "# SMOTE\n",
        "model_4b.fit(X_train2, y_train2)"
      ]
    },
    {
      "cell_type": "markdown",
      "metadata": {
        "id": "QwvbAELdwt-a"
      },
      "source": [
        "# 9. EVALUASI MODEL"
      ]
    },
    {
      "cell_type": "markdown",
      "metadata": {
        "id": "qKJ8pTRexABr"
      },
      "source": [
        "## 9.1 Logistic Regression"
      ]
    },
    {
      "cell_type": "code",
      "execution_count": null,
      "metadata": {
        "colab": {
          "base_uri": "https://localhost:8080/"
        },
        "id": "yMiXwZxdw--W",
        "outputId": "0b35fb01-3071-4da3-ece6-89f79751c3f7"
      },
      "outputs": [
        {
          "name": "stdout",
          "output_type": "stream",
          "text": [
            "A. DATA ASLI\n",
            "\n",
            " Classification Report:\n",
            "              precision    recall  f1-score   support\n",
            "\n",
            "           0       0.73      0.87      0.79        62\n",
            "           1       0.50      0.29      0.36        28\n",
            "\n",
            "    accuracy                           0.69        90\n",
            "   macro avg       0.61      0.58      0.58        90\n",
            "weighted avg       0.66      0.69      0.66        90\n",
            "\n",
            "Ringkasan\n",
            "Akurasi: 0.6888888888888889\n",
            "Presisi: 0.5\n",
            "Recall: 0.2857142857142857\n",
            "F1 Score: 0.36363636363636365\n",
            "\n",
            "===============================================\n",
            "\n",
            " B. RANDOM UNDER SAMPLING\n",
            "\n",
            " Classification Report:\n",
            "              precision    recall  f1-score   support\n",
            "\n",
            "           0       0.82      0.77      0.79        30\n",
            "           1       0.77      0.82      0.79        28\n",
            "\n",
            "    accuracy                           0.79        58\n",
            "   macro avg       0.79      0.79      0.79        58\n",
            "weighted avg       0.79      0.79      0.79        58\n",
            "\n",
            "Ringkasan\n",
            "Akurasi: 0.7931034482758621\n",
            "Presisi: 0.7666666666666667\n",
            "Recall: 0.8214285714285714\n",
            "F1 Score: 0.793103448275862\n",
            "\n",
            "===============================================\n",
            "\n",
            " C. SMOTE\n",
            "\n",
            " Classification Report:\n",
            "              precision    recall  f1-score   support\n",
            "\n",
            "           0       0.79      0.77      0.78        62\n",
            "           1       0.77      0.78      0.78        60\n",
            "\n",
            "    accuracy                           0.78       122\n",
            "   macro avg       0.78      0.78      0.78       122\n",
            "weighted avg       0.78      0.78      0.78       122\n",
            "\n",
            "Ringkasan\n",
            "Akurasi: 0.7786885245901639\n",
            "Presisi: 0.7704918032786885\n",
            "Recall: 0.7833333333333333\n",
            "F1 Score: 0.7768595041322314\n"
          ]
        }
      ],
      "source": [
        "lr = LogisticRegression()\n",
        "\n",
        "# Model sebelum resampling\n",
        "model_1.fit(X_train, y_train)\n",
        "y_pred1 = model_1.predict(X_test)\n",
        "accuracy1 = accuracy_score(y_test, y_pred1)\n",
        "\n",
        "print(\"A. DATA ASLI\")\n",
        "print('\\n Classification Report:')\n",
        "print(classification_report(y_test, y_pred1))\n",
        "print('Ringkasan')\n",
        "print('Akurasi:', accuracy1)\n",
        "print('Presisi:', precision_score(y_test, y_pred1))\n",
        "print('Recall:', recall_score(y_test, y_pred1))\n",
        "print('F1 Score:', f1_score(y_test, y_pred1))\n",
        "print('\\n===============================================')\n",
        "\n",
        "# RANDOM UNDER SAMPLING\n",
        "model_1a.fit(X_train1, y_train1)\n",
        "y_pred1a = model_1a.predict(X_test1)\n",
        "accuracy1a = accuracy_score(y_test1, y_pred1a)\n",
        "print(\"\\n B. RANDOM UNDER SAMPLING\")\n",
        "print('\\n Classification Report:')\n",
        "print(classification_report(y_test1, y_pred1a))\n",
        "print('Ringkasan')\n",
        "print('Akurasi:', accuracy1a)\n",
        "print('Presisi:', precision_score(y_test1, y_pred1a))\n",
        "print('Recall:', recall_score(y_test1, y_pred1a))\n",
        "print('F1 Score:', f1_score(y_test1, y_pred1a))\n",
        "print('\\n===============================================')\n",
        "\n",
        "# SMOTE\n",
        "model_1b.fit(X_train2, y_train2)\n",
        "y_pred1b = model_1b.predict(X_test2)\n",
        "accuracy1b = accuracy_score(y_test2, y_pred1b)\n",
        "print(\"\\n C. SMOTE\")\n",
        "print('\\n Classification Report:')\n",
        "print(classification_report(y_test2, y_pred1b))\n",
        "print('Ringkasan')\n",
        "print('Akurasi:', accuracy1b)\n",
        "print('Presisi:', precision_score(y_test2, y_pred1b))\n",
        "print('Recall:', recall_score(y_test2, y_pred1b))\n",
        "print('F1 Score:', f1_score(y_test2, y_pred1b))"
      ]
    },
    {
      "cell_type": "code",
      "execution_count": null,
      "metadata": {
        "colab": {
          "base_uri": "https://localhost:8080/"
        },
        "id": "eAvClny8oJcM",
        "outputId": "7da4f8ae-724b-4171-a791-31714918f231"
      },
      "outputs": [
        {
          "name": "stdout",
          "output_type": "stream",
          "text": [
            "CONFUSION MATRIX SEBELUM RESAMPLING:\n",
            "[[54  8]\n",
            " [20  8]]\n",
            "\n",
            " CONFUSION MATRIX RANDOM UNDER SAMPLING:\n",
            "[[23  7]\n",
            " [ 5 23]]\n",
            "\n",
            " CONFUSION MATRIX SMOTE:\n",
            "[[48 14]\n",
            " [13 47]]\n"
          ]
        }
      ],
      "source": [
        "print('CONFUSION MATRIX SEBELUM RESAMPLING:')\n",
        "print(confusion_matrix(y_test, y_pred1))\n",
        "print('\\n CONFUSION MATRIX RANDOM UNDER SAMPLING:')\n",
        "print(confusion_matrix(y_test1, y_pred1a))\n",
        "print('\\n CONFUSION MATRIX SMOTE:')\n",
        "print(confusion_matrix(y_test2, y_pred1b))"
      ]
    },
    {
      "cell_type": "code",
      "execution_count": null,
      "metadata": {
        "colab": {
          "base_uri": "https://localhost:8080/",
          "height": 413
        },
        "id": "X1HKF9Rfy_ze",
        "outputId": "0ebdc62c-10eb-4fba-a76c-da3ed31d6ad5"
      },
      "outputs": [
        {
          "data": {
            "image/png": "[encoded data removed]",
            "text/plain": [
              "<Figure size 1500x500 with 6 Axes>"
            ]
          },
          "metadata": {},
          "output_type": "display_data"
        }
      ],
      "source": [
        "from sklearn.metrics import confusion_matrix\n",
        "\n",
        "# Confusion matrix - Data Asli\n",
        "fig, axes = plt.subplots(1, 3, figsize=(15, 5))\n",
        "\n",
        "# Plot heatmap pertama (Data Asli)\n",
        "cm_original = confusion_matrix(y_test, y_pred1)\n",
        "sns.heatmap(cm_original, annot=True, fmt=\"d\", linewidths=.5, cmap='Blues', ax=axes[0])\n",
        "\n",
        "axes[0].set_title('Confusion Matrix - Data Asli')\n",
        "axes[0].set_xlabel('Prediksi')\n",
        "axes[0].set_ylabel('Aktual')\n",
        "\n",
        "# Confusion matrix - (Random Under Sampling)\n",
        "cm_ru = confusion_matrix(y_test1, y_pred1a)\n",
        "sns.heatmap(cm_ru, annot=True, fmt=\"d\", linewidths=.5, cmap='Blues', ax=axes[1])\n",
        "\n",
        "axes[1].set_title('Confusion Matrix - Random Under Sampling')\n",
        "axes[1].set_xlabel('Prediksi')\n",
        "axes[1].set_ylabel('Aktual')\n",
        "\n",
        "# Confusion matrix - (SMOTE)\n",
        "cm_sm = confusion_matrix(y_test2, y_pred1b)\n",
        "sns.heatmap(cm_sm, annot=True, fmt=\"d\", linewidths=.5, cmap='Blues', ax=axes[2])\n",
        "\n",
        "axes[2].set_title('Confusion Matrix - SMOTE')\n",
        "axes[2].set_xlabel('Prediksi')\n",
        "axes[2].set_ylabel('Aktual')\n",
        "\n",
        "plt.tight_layout()\n",
        "plt.show()\n"
      ]
    },
    {
      "cell_type": "markdown",
      "metadata": {
        "id": "Lvfnp9R4zj2o"
      },
      "source": [
        "## 9.2 Random Forest Classifier"
      ]
    },
    {
      "cell_type": "code",
      "execution_count": null,
      "metadata": {
        "colab": {
          "base_uri": "https://localhost:8080/"
        },
        "id": "BCCp_6Jhzs2l",
        "outputId": "0158c89d-a209-4f31-cc35-337b415a6ee8"
      },
      "outputs": [
        {
          "name": "stdout",
          "output_type": "stream",
          "text": [
            "A. DATA ASLI\n",
            "\n",
            " Classification Report:\n",
            "              precision    recall  f1-score   support\n",
            "\n",
            "           0       0.75      0.82      0.78        62\n",
            "           1       0.50      0.39      0.44        28\n",
            "\n",
            "    accuracy                           0.69        90\n",
            "   macro avg       0.62      0.61      0.61        90\n",
            "weighted avg       0.67      0.69      0.68        90\n",
            "\n",
            "Ringkasan\n",
            "Akurasi: 0.6888888888888889\n",
            "Presisi: 0.5\n",
            "Recall: 0.39285714285714285\n",
            "F1 Score: 0.44\n",
            "\n",
            " =============================================================\n",
            "\n",
            " B. RANDOM UNDER SAMPLING\n",
            "\n",
            " Classification Report:\n",
            "              precision    recall  f1-score   support\n",
            "\n",
            "           0       0.85      0.73      0.79        30\n",
            "           1       0.75      0.86      0.80        28\n",
            "\n",
            "    accuracy                           0.79        58\n",
            "   macro avg       0.80      0.80      0.79        58\n",
            "weighted avg       0.80      0.79      0.79        58\n",
            "\n",
            "Ringkasan\n",
            "Akurasi: 0.7931034482758621\n",
            "Presisi: 0.75\n",
            "Recall: 0.8571428571428571\n",
            "F1 Score: 0.7999999999999999\n",
            "\n",
            " =============================================================\n",
            "\n",
            " C. SMOTE\n",
            "\n",
            " Classification Report:\n",
            "              precision    recall  f1-score   support\n",
            "\n",
            "           0       0.73      0.76      0.75        62\n",
            "           1       0.74      0.72      0.73        60\n",
            "\n",
            "    accuracy                           0.74       122\n",
            "   macro avg       0.74      0.74      0.74       122\n",
            "weighted avg       0.74      0.74      0.74       122\n",
            "\n",
            "Ringkasan\n",
            "Akurasi: 0.7377049180327869\n",
            "Presisi: 0.7413793103448276\n",
            "Recall: 0.7166666666666667\n",
            "F1 Score: 0.728813559322034\n"
          ]
        }
      ],
      "source": [
        "# sebelum resampling\n",
        "model_2 = RandomForestClassifier(random_state=42)\n",
        "model_2.fit(X_train, y_train)\n",
        "y_pred2 = model_2.predict(X_test)\n",
        "accuracy2 = accuracy_score(y_test, y_pred2)\n",
        "print(\"A. DATA ASLI\")\n",
        "print('\\n Classification Report:')\n",
        "print(classification_report(y_test, y_pred2))\n",
        "print('Ringkasan')\n",
        "print('Akurasi:', accuracy2)\n",
        "print('Presisi:', precision_score(y_test, y_pred2))\n",
        "print('Recall:', recall_score(y_test, y_pred2))\n",
        "print('F1 Score:', f1_score(y_test, y_pred2))\n",
        "print('\\n =============================================================')\n",
        "\n",
        "# RANDOM UNDER SAMPLING\n",
        "model_2a = RandomForestClassifier(random_state=42)\n",
        "model_2a.fit(X_train1, y_train1)\n",
        "y_pred2a = model_2a.predict(X_test1)\n",
        "accuracy2a = accuracy_score(y_test1, y_pred2a)\n",
        "print(\"\\n B. RANDOM UNDER SAMPLING\")\n",
        "print('\\n Classification Report:')\n",
        "print(classification_report(y_test1, y_pred2a))\n",
        "print('Ringkasan')\n",
        "print('Akurasi:', accuracy2a)\n",
        "print('Presisi:', precision_score(y_test1, y_pred2a))\n",
        "print('Recall:', recall_score(y_test1, y_pred2a))\n",
        "print('F1 Score:', f1_score(y_test1, y_pred2a))\n",
        "print('\\n =============================================================')\n",
        "\n",
        "# SMOTE\n",
        "model_2b = RandomForestClassifier(random_state=42)\n",
        "model_2b.fit(X_train2, y_train2)\n",
        "y_pred2b = model_2b.predict(X_test2)\n",
        "accuracy2b = accuracy_score(y_test2, y_pred2b)\n",
        "print(\"\\n C. SMOTE\")\n",
        "print('\\n Classification Report:')\n",
        "print(classification_report(y_test2, y_pred2b))\n",
        "print('Ringkasan')\n",
        "print('Akurasi:', accuracy2b)\n",
        "print('Presisi:', precision_score(y_test2, y_pred2b))\n",
        "print('Recall:', recall_score(y_test2, y_pred2b))\n",
        "print('F1 Score:', f1_score(y_test2, y_pred2b))"
      ]
    },
    {
      "cell_type": "code",
      "execution_count": null,
      "metadata": {
        "colab": {
          "base_uri": "https://localhost:8080/"
        },
        "id": "ac6otiKDqTlg",
        "outputId": "3b1bb01e-dc3f-43da-c527-40c83b65a70e"
      },
      "outputs": [
        {
          "name": "stdout",
          "output_type": "stream",
          "text": [
            "CONFUSION MATRIX DATA ASLI:\n",
            "[[51 11]\n",
            " [17 11]]\n",
            "\n",
            " CONFUSION MATRIX RANDOM UNDER SAMPLING:\n",
            "[[22  8]\n",
            " [ 4 24]]\n",
            "\n",
            " CONFUSION MATRIX SMOTE:\n",
            "[[47 15]\n",
            " [17 43]]\n"
          ]
        }
      ],
      "source": [
        "print('CONFUSION MATRIX DATA ASLI:')\n",
        "print(confusion_matrix(y_test, y_pred2))\n",
        "print('\\n CONFUSION MATRIX RANDOM UNDER SAMPLING:')\n",
        "print(confusion_matrix(y_test1, y_pred2a))\n",
        "print('\\n CONFUSION MATRIX SMOTE:')\n",
        "print(confusion_matrix(y_test2, y_pred2b))"
      ]
    },
    {
      "cell_type": "code",
      "execution_count": null,
      "metadata": {
        "colab": {
          "base_uri": "https://localhost:8080/",
          "height": 413
        },
        "id": "dPIby_Gf057J",
        "outputId": "a8b278c0-4bf5-4aa9-f764-cd3b08b9e394"
      },
      "outputs": [
        {
          "data": {
            "image/png": "[encoded data removed]",
            "text/plain": [
              "<Figure size 1500x500 with 6 Axes>"
            ]
          },
          "metadata": {},
          "output_type": "display_data"
        }
      ],
      "source": [
        "fig, axes = plt.subplots(1, 3, figsize=(15, 5))\n",
        "\n",
        "# Plot heatmap pertama\n",
        "cm2 = confusion_matrix(y_test, y_pred2)\n",
        "sns.heatmap(cm2, annot=True, fmt=\"d\", linewidths=.5, cmap='Reds', ax=axes[0])\n",
        "\n",
        "axes[0].set_title('Confusion Matrix - Data Asli')\n",
        "axes[0].set_xlabel('Prediksi')\n",
        "axes[0].set_ylabel('Aktual')\n",
        "\n",
        "# Confusion matrix - (Random Under Sampling)\n",
        "cm2a = confusion_matrix(y_test1, y_pred2a)\n",
        "sns.heatmap(cm2a, annot=True, fmt=\"d\", linewidths=.5, cmap='Reds', ax=axes[1])\n",
        "\n",
        "axes[1].set_title('Confusion Matrix - Random Under Sampling')\n",
        "axes[1].set_xlabel('Prediksi')\n",
        "axes[1].set_ylabel('Aktual')\n",
        "\n",
        "# Confusion matrix - (SMOTE)\n",
        "cm2b = confusion_matrix(y_test2, y_pred2b)\n",
        "sns.heatmap(cm2b, annot=True, fmt=\"d\", linewidths=.5, cmap='Reds', ax=axes[2])\n",
        "\n",
        "axes[2].set_title('Confusion Matrix - SMOTE')\n",
        "axes[2].set_xlabel('Prediksi')\n",
        "axes[2].set_ylabel('Aktual')\n",
        "\n",
        "plt.tight_layout()\n",
        "plt.show()\n"
      ]
    },
    {
      "cell_type": "markdown",
      "metadata": {
        "id": "1DMim1FG1JCV"
      },
      "source": [
        "## 9.3 Model Decision Tree Classifier"
      ]
    },
    {
      "cell_type": "code",
      "execution_count": null,
      "metadata": {
        "colab": {
          "base_uri": "https://localhost:8080/"
        },
        "id": "a79yDuED1KIO",
        "outputId": "434ccfa8-8642-4d42-a9b6-c2535a8b9d6a"
      },
      "outputs": [
        {
          "name": "stdout",
          "output_type": "stream",
          "text": [
            "A. DATA ASLI\n",
            "Classification Report:\n",
            "              precision    recall  f1-score   support\n",
            "\n",
            "           0       0.74      0.84      0.79        62\n",
            "           1       0.50      0.36      0.42        28\n",
            "\n",
            "    accuracy                           0.69        90\n",
            "   macro avg       0.62      0.60      0.60        90\n",
            "weighted avg       0.67      0.69      0.67        90\n",
            "\n",
            "Ringkasan\n",
            "Akurasi: 0.6888888888888889\n",
            "Presisi: 0.5\n",
            "Recall: 0.35714285714285715\n",
            "F1 Score: 0.41666666666666663\n",
            "=============================================================\n",
            "B. RANDOM UNDER SAMPLING\n",
            "Classification Report:\n",
            "              precision    recall  f1-score   support\n",
            "\n",
            "           0       0.66      0.70      0.68        30\n",
            "           1       0.65      0.61      0.63        28\n",
            "\n",
            "    accuracy                           0.66        58\n",
            "   macro avg       0.66      0.65      0.65        58\n",
            "weighted avg       0.66      0.66      0.65        58\n",
            "\n",
            "Ringkasan\n",
            "Akurasi: 0.6551724137931034\n",
            "Presisi: 0.6538461538461539\n",
            "Recall: 0.6071428571428571\n",
            "F1 Score: 0.6296296296296297\n",
            "=============================================================\n",
            "C. SMOTE\n",
            "Classification Report:\n",
            "              precision    recall  f1-score   support\n",
            "\n",
            "           0       0.72      0.81      0.76        62\n",
            "           1       0.77      0.68      0.73        60\n",
            "\n",
            "    accuracy                           0.75       122\n",
            "   macro avg       0.75      0.74      0.74       122\n",
            "weighted avg       0.75      0.75      0.74       122\n",
            "\n",
            "Ringkasan\n",
            "Akurasi: 0.7459016393442623\n",
            "Presisi: 0.7735849056603774\n",
            "Recall: 0.6833333333333333\n",
            "F1 Score: 0.7256637168141593\n"
          ]
        }
      ],
      "source": [
        "# DATA ASLI\n",
        "model_3 = DecisionTreeClassifier(random_state=42)\n",
        "model_3.fit(X_train, y_train)\n",
        "y_pred3 = model_3.predict(X_test)\n",
        "accuracy3 = accuracy_score(y_test, y_pred3)\n",
        "\n",
        "print('A. DATA ASLI')\n",
        "print('Classification Report:')\n",
        "print(classification_report(y_test, y_pred3))\n",
        "print('Ringkasan')\n",
        "print('Akurasi:', accuracy3)\n",
        "print('Presisi:', precision_score(y_test, y_pred3))\n",
        "print('Recall:', recall_score(y_test, y_pred3))\n",
        "print('F1 Score:', f1_score(y_test, y_pred3))\n",
        "print('=============================================================')\n",
        "\n",
        "# RANDOM UNDER SAMPLING\n",
        "model_3a = DecisionTreeClassifier(random_state=42)\n",
        "model_3a.fit(X_train1, y_train1)\n",
        "y_pred3a = model_3a.predict(X_test1)\n",
        "accuracy3a = accuracy_score(y_test1, y_pred3a)\n",
        "\n",
        "print('B. RANDOM UNDER SAMPLING')\n",
        "print('Classification Report:')\n",
        "print(classification_report(y_test1, y_pred3a))\n",
        "print('Ringkasan')\n",
        "print('Akurasi:', accuracy3a)\n",
        "print('Presisi:', precision_score(y_test1, y_pred3a))\n",
        "print('Recall:', recall_score(y_test1, y_pred3a))\n",
        "print('F1 Score:', f1_score(y_test1, y_pred3a))\n",
        "print('=============================================================')\n",
        "\n",
        "# SMOTE\n",
        "model_3b = DecisionTreeClassifier(random_state=42)\n",
        "model_3b.fit(X_train2, y_train2)\n",
        "y_pred3b = model_3b.predict(X_test2)\n",
        "accuracy3b = accuracy_score(y_test2, y_pred3b)\n",
        "\n",
        "print('C. SMOTE')\n",
        "print('Classification Report:')\n",
        "print(classification_report(y_test2, y_pred3b))\n",
        "print('Ringkasan')\n",
        "print('Akurasi:', accuracy3b)\n",
        "print('Presisi:', precision_score(y_test2, y_pred3b))\n",
        "print('Recall:', recall_score(y_test2, y_pred3b))\n",
        "print('F1 Score:', f1_score(y_test2, y_pred3b))"
      ]
    },
    {
      "cell_type": "code",
      "execution_count": null,
      "metadata": {
        "colab": {
          "base_uri": "https://localhost:8080/"
        },
        "id": "TBOyQ2Noqabu",
        "outputId": "8531d499-1e2f-45ec-a223-c8da67b8bb49"
      },
      "outputs": [
        {
          "name": "stdout",
          "output_type": "stream",
          "text": [
            "CONFUSION MATRIX DATA ASLI:\n",
            "[[52 10]\n",
            " [18 10]]\n",
            "\n",
            " CONFUSION RANDOM UNDER SAMPLING:\n",
            "[[21  9]\n",
            " [11 17]]\n",
            "\n",
            " CONFUSION MATRIX SMOTE:\n",
            "[[50 12]\n",
            " [19 41]]\n"
          ]
        }
      ],
      "source": [
        "print('CONFUSION MATRIX DATA ASLI:')\n",
        "print(confusion_matrix(y_test, y_pred3))\n",
        "print('\\n CONFUSION RANDOM UNDER SAMPLING:')\n",
        "print(confusion_matrix(y_test1, y_pred3a))\n",
        "print('\\n CONFUSION MATRIX SMOTE:')\n",
        "print(confusion_matrix(y_test2, y_pred3b))"
      ]
    },
    {
      "cell_type": "code",
      "execution_count": null,
      "metadata": {
        "colab": {
          "base_uri": "https://localhost:8080/",
          "height": 413
        },
        "id": "94GbpRIO2fH4",
        "outputId": "725699af-accc-4c27-a7cf-9c63df63644c"
      },
      "outputs": [
        {
          "data": {
            "image/png": "[encoded data removed]",
            "text/plain": [
              "<Figure size 1500x500 with 6 Axes>"
            ]
          },
          "metadata": {},
          "output_type": "display_data"
        }
      ],
      "source": [
        "fig, axes = plt.subplots(1, 3, figsize=(15, 5))\n",
        "\n",
        "# Plot heatmap pertama\n",
        "cm3 = confusion_matrix(y_test, y_pred3)\n",
        "sns.heatmap(cm3, annot=True, fmt=\"d\", linewidths=.5, cmap='Greens', ax=axes[0])\n",
        "\n",
        "axes[0].set_title('Confusion Matrix - Data Asli')\n",
        "axes[0].set_xlabel('Prediksi')\n",
        "axes[0].set_ylabel('Aktual')\n",
        "\n",
        "# Plot heatmap kedua\n",
        "cm3a = confusion_matrix(y_test1, y_pred3a)\n",
        "sns.heatmap(cm3a, annot=True, fmt=\"d\", linewidths=.5, cmap='Greens', ax=axes[1])\n",
        "\n",
        "axes[1].set_title('Confusion Matrix - Random Under Sampling')\n",
        "axes[1].set_xlabel('Prediksi')\n",
        "axes[1].set_ylabel('Aktual')\n",
        "\n",
        "# Plot heatmap ketiga\n",
        "cm3b = confusion_matrix(y_test2, y_pred3b)\n",
        "sns.heatmap(cm3b, annot=True, fmt=\"d\", linewidths=.5, cmap='Greens', ax=axes[2])\n",
        "\n",
        "axes[2].set_title('Confusion Matrix - SMOTE')\n",
        "axes[2].set_xlabel('Prediksi')\n",
        "axes[2].set_ylabel('Aktual')\n",
        "\n",
        "plt.tight_layout()\n",
        "plt.show()\n"
      ]
    },
    {
      "cell_type": "markdown",
      "metadata": {
        "id": "u9vpKo1V3VKV"
      },
      "source": [
        "## 9.4 KNN Classifier"
      ]
    },
    {
      "cell_type": "code",
      "execution_count": null,
      "metadata": {
        "colab": {
          "base_uri": "https://localhost:8080/"
        },
        "id": "i27n1TOp2p4J",
        "outputId": "1103a904-05e9-4158-f30e-344584e1ae40"
      },
      "outputs": [
        {
          "name": "stdout",
          "output_type": "stream",
          "text": [
            "A. DATA ASLI\n",
            "Classification Report:\n",
            "              precision    recall  f1-score   support\n",
            "\n",
            "           0       0.75      0.90      0.82        62\n",
            "           1       0.60      0.32      0.42        28\n",
            "\n",
            "    accuracy                           0.72        90\n",
            "   macro avg       0.67      0.61      0.62        90\n",
            "weighted avg       0.70      0.72      0.69        90\n",
            "\n",
            "Ringkasan\n",
            "Akurasi: 0.7222222222222222\n",
            "Presisi: 0.6\n",
            "Recall: 0.32142857142857145\n",
            "F1 Score: 0.41860465116279066\n",
            "=============================================================\n",
            "B. RANDOM UNDER SAMPLING\n",
            "Classification Report:\n",
            "              precision    recall  f1-score   support\n",
            "\n",
            "           0       0.81      0.73      0.77        30\n",
            "           1       0.74      0.82      0.78        28\n",
            "\n",
            "    accuracy                           0.78        58\n",
            "   macro avg       0.78      0.78      0.78        58\n",
            "weighted avg       0.78      0.78      0.78        58\n",
            "\n",
            "Ringkasan\n",
            "Akurasi: 0.7758620689655172\n",
            "Presisi: 0.7419354838709677\n",
            "Recall: 0.8214285714285714\n",
            "F1 Score: 0.7796610169491526\n",
            "=============================================================\n",
            "C. SMOTE\n",
            "Classification Report:\n",
            "              precision    recall  f1-score   support\n",
            "\n",
            "           0       0.70      0.69      0.70        62\n",
            "           1       0.69      0.70      0.69        60\n",
            "\n",
            "    accuracy                           0.70       122\n",
            "   macro avg       0.70      0.70      0.70       122\n",
            "weighted avg       0.70      0.70      0.70       122\n",
            "\n",
            "Ringkasan\n",
            "Akurasi: 0.6967213114754098\n",
            "Presisi: 0.6885245901639344\n",
            "Recall: 0.7\n",
            "F1 Score: 0.6942148760330578\n"
          ]
        }
      ],
      "source": [
        "# DATA ASLI\n",
        "model_4 = KNeighborsClassifier()\n",
        "model_4.fit(X_train, y_train)\n",
        "y_pred4 = model_4.predict(X_test)\n",
        "accuracy4 = accuracy_score(y_test, y_pred4)\n",
        "\n",
        "print('A. DATA ASLI')\n",
        "print('Classification Report:')\n",
        "print(classification_report(y_test, y_pred4))\n",
        "print('Ringkasan')\n",
        "print('Akurasi:', accuracy4)\n",
        "print('Presisi:', precision_score(y_test, y_pred4))\n",
        "print('Recall:', recall_score(y_test, y_pred4))\n",
        "print('F1 Score:', f1_score(y_test, y_pred4))\n",
        "print('=============================================================')\n",
        "\n",
        "# RANDOM UNDER SAMPLING\n",
        "model_4a = KNeighborsClassifier()\n",
        "model_4a.fit(X_train1, y_train1)\n",
        "y_pred4a = model_4a.predict(X_test1)\n",
        "accuracy4a = accuracy_score(y_test1, y_pred4a)\n",
        "\n",
        "print('B. RANDOM UNDER SAMPLING')\n",
        "print('Classification Report:')\n",
        "print(classification_report(y_test1, y_pred4a))\n",
        "print('Ringkasan')\n",
        "print('Akurasi:', accuracy4a)\n",
        "print('Presisi:', precision_score(y_test1, y_pred4a))\n",
        "print('Recall:', recall_score(y_test1, y_pred4a))\n",
        "print('F1 Score:', f1_score(y_test1, y_pred4a))\n",
        "print('=============================================================')\n",
        "\n",
        "# SMOTE\n",
        "model_4b = KNeighborsClassifier()\n",
        "model_4b.fit(X_train2, y_train2)\n",
        "y_pred4b = model_4b.predict(X_test2)\n",
        "accuracy4b = accuracy_score(y_test2, y_pred4b)\n",
        "\n",
        "print('C. SMOTE')\n",
        "print('Classification Report:')\n",
        "print(classification_report(y_test2, y_pred4b))\n",
        "print('Ringkasan')\n",
        "print('Akurasi:', accuracy4b)\n",
        "print('Presisi:', precision_score(y_test2, y_pred4b))\n",
        "print('Recall:', recall_score(y_test2, y_pred4b))\n",
        "print('F1 Score:', f1_score(y_test2, y_pred4b))"
      ]
    },
    {
      "cell_type": "code",
      "execution_count": null,
      "metadata": {
        "colab": {
          "base_uri": "https://localhost:8080/"
        },
        "id": "Rv7gn76rq9Gy",
        "outputId": "b654f727-3536-4b94-f1e9-d178d53961a1"
      },
      "outputs": [
        {
          "name": "stdout",
          "output_type": "stream",
          "text": [
            "CONFUSION MATRIX DATA ASLI:\n",
            "[[56  6]\n",
            " [19  9]]\n",
            "\n",
            " CONFUSION MATRIX RANDOM UNDER SAMPLING:\n",
            "[[22  8]\n",
            " [ 5 23]]\n",
            "\n",
            " CONFUSION MATRIX SMOTE:\n",
            "[[43 19]\n",
            " [18 42]]\n"
          ]
        }
      ],
      "source": [
        "print('CONFUSION MATRIX DATA ASLI:')\n",
        "print(confusion_matrix(y_test, y_pred4))\n",
        "print('\\n CONFUSION MATRIX RANDOM UNDER SAMPLING:')\n",
        "print(confusion_matrix(y_test1, y_pred4a))\n",
        "print('\\n CONFUSION MATRIX SMOTE:')\n",
        "print(confusion_matrix(y_test2, y_pred4b))"
      ]
    },
    {
      "cell_type": "code",
      "execution_count": null,
      "metadata": {
        "colab": {
          "base_uri": "https://localhost:8080/",
          "height": 413
        },
        "id": "xGIkixb4234E",
        "outputId": "8fe41f3f-efee-4c01-855b-4fd58d392a73"
      },
      "outputs": [
        {
          "data": {
            "image/png": "[encoded data removed]",
            "text/plain": [
              "<Figure size 1500x500 with 6 Axes>"
            ]
          },
          "metadata": {},
          "output_type": "display_data"
        }
      ],
      "source": [
        "fig, axes = plt.subplots(1, 3, figsize=(15, 5))\n",
        "\n",
        "# Plot heatmap pertama\n",
        "cm4 = confusion_matrix(y_test, y_pred4)\n",
        "sns.heatmap(cm4, annot=True, fmt=\"d\", linewidths=.5, cmap='BuPu', ax=axes[0])\n",
        "\n",
        "axes[0].set_title('Confusion Matrix - Data Asli')\n",
        "axes[0].set_xlabel('Prediksi')\n",
        "axes[0].set_ylabel('Aktual')\n",
        "\n",
        "# Plot heatmap kedua\n",
        "cm4a = confusion_matrix(y_test1, y_pred4a)\n",
        "sns.heatmap(cm4a, annot=True, fmt=\"d\", linewidths=.5, cmap='BuPu', ax=axes[1])\n",
        "\n",
        "axes[1].set_title('Confusion Matrix - Random Under Sampling')\n",
        "axes[1].set_xlabel('Prediksi')\n",
        "axes[1].set_ylabel('Aktual')\n",
        "\n",
        "# Plot heatmap ketiga\n",
        "cm4b = confusion_matrix(y_test2, y_pred4b)\n",
        "sns.heatmap(cm4b, annot=True, fmt=\"d\", linewidths=.5, cmap='BuPu', ax=axes[2])\n",
        "\n",
        "axes[2].set_title('Confusion Matrix - SMOTE')\n",
        "axes[2].set_xlabel('Prediksi')\n",
        "axes[2].set_ylabel('Aktual')\n",
        "\n",
        "plt.tight_layout() \n",
        "plt.show()"
      ]
    },
    {
      "cell_type": "markdown",
      "metadata": {
        "id": "_MCwu8bI4zW-"
      },
      "source": [
        "# 10. MODEL INFERENCE"
      ]
    },
    {
      "cell_type": "markdown",
      "metadata": {
        "id": "iC_SXp04vx8r"
      },
      "source": [
        "Ensemble model adalah sebuah pendekatan di dalam machine learning yang menggabungkan beberapa model (biasanya model yang berbeda) untuk meningkatkan performa dan keakuratan prediksi. Ensemble model mencoba menggabungkan prediksi dari beberapa model yang berbeda untuk mendapatkan hasil yang lebih baik daripada menggunakan model tunggal. Kelompok kami menggunakan metode Hard Voting yaitu menggabungkan prediksi dari beberapa model yang berbeda dan memilih hasil berdasarkan mayoritas."
      ]
    },
    {
      "cell_type": "markdown",
      "metadata": {
        "id": "eot35Zo93ceY"
      },
      "source": [
        "## 10.1 Data Asli"
      ]
    },
    {
      "cell_type": "code",
      "execution_count": null,
      "metadata": {
        "colab": {
          "base_uri": "https://localhost:8080/",
          "height": 206
        },
        "id": "9nA-4Uvy42kd",
        "outputId": "0f98ba24-560b-46aa-9a54-d882eda1ed68"
      },
      "outputs": [
        {
          "data": {
            "text/html": [
              "<div>\n",
              "<style scoped>\n",
              "    .dataframe tbody tr th:only-of-type {\n",
              "        vertical-align: middle;\n",
              "    }\n",
              "\n",
              "    .dataframe tbody tr th {\n",
              "        vertical-align: top;\n",
              "    }\n",
              "\n",
              "    .dataframe thead th {\n",
              "        text-align: right;\n",
              "    }\n",
              "</style>\n",
              "<table border=\"1\" class=\"dataframe\">\n",
              "  <thead>\n",
              "    <tr style=\"text-align: right;\">\n",
              "      <th></th>\n",
              "      <th>Usia</th>\n",
              "      <th>Fraksi_ejeksi</th>\n",
              "      <th>Kreatinin_serum</th>\n",
              "      <th>Sodium_serum</th>\n",
              "    </tr>\n",
              "  </thead>\n",
              "  <tbody>\n",
              "    <tr>\n",
              "      <th>0</th>\n",
              "      <td>75.0</td>\n",
              "      <td>20</td>\n",
              "      <td>1.9</td>\n",
              "      <td>130</td>\n",
              "    </tr>\n",
              "    <tr>\n",
              "      <th>1</th>\n",
              "      <td>55.0</td>\n",
              "      <td>38</td>\n",
              "      <td>1.1</td>\n",
              "      <td>136</td>\n",
              "    </tr>\n",
              "    <tr>\n",
              "      <th>2</th>\n",
              "      <td>65.0</td>\n",
              "      <td>20</td>\n",
              "      <td>1.3</td>\n",
              "      <td>129</td>\n",
              "    </tr>\n",
              "    <tr>\n",
              "      <th>3</th>\n",
              "      <td>50.0</td>\n",
              "      <td>20</td>\n",
              "      <td>1.9</td>\n",
              "      <td>137</td>\n",
              "    </tr>\n",
              "    <tr>\n",
              "      <th>4</th>\n",
              "      <td>65.0</td>\n",
              "      <td>20</td>\n",
              "      <td>2.7</td>\n",
              "      <td>116</td>\n",
              "    </tr>\n",
              "  </tbody>\n",
              "</table>\n",
              "</div>"
            ],
            "text/plain": [
              "   Usia  Fraksi_ejeksi  Kreatinin_serum  Sodium_serum\n",
              "0  75.0             20              1.9           130\n",
              "1  55.0             38              1.1           136\n",
              "2  65.0             20              1.3           129\n",
              "3  50.0             20              1.9           137\n",
              "4  65.0             20              2.7           116"
            ]
          },
          "execution_count": 96,
          "metadata": {},
          "output_type": "execute_result"
        }
      ],
      "source": [
        "X_fit.head()"
      ]
    },
    {
      "cell_type": "code",
      "execution_count": null,
      "metadata": {
        "colab": {
          "base_uri": "https://localhost:8080/"
        },
        "id": "SEriewXBkXEI",
        "outputId": "25f281ba-edf9-47ac-dea7-6fe92686bc8b"
      },
      "outputs": [
        {
          "name": "stdin",
          "output_type": "stream",
          "text": [
            "Usia : 70\n",
            "Fraksi Ejeksi : 25\n",
            "Kreatinin Serum : 2\n",
            "Sodium Serum : 110\n"
          ]
        },
        {
          "name": "stdout",
          "output_type": "stream",
          "text": [
            "Berdasarkan prediksi menggunakan Logistic regression, pasien di prediksi tidak selamat\n",
            "Berdasarkan prediksi menggunakan Random Forest, pasien di prediksi tidak selamat\n",
            "Berdasarkan prediksi menggunakan Decision Tree, pasien di prediksi tidak selamat\n",
            "Berdasarkan prediksi menggunakan KNN, pasien di prediksi tidak selamat\n"
          ]
        }
      ],
      "source": [
        "Usia = float(input('Usia :'))\n",
        "Fraksi_ejeksi = float(input('Fraksi Ejeksi :'))\n",
        "Kreatinin_serum = float(input('Kreatinin Serum :'))\n",
        "Sodium_serum = float(input('Sodium Serum :'))\n",
        "\n",
        "X_input = [[Usia, Fraksi_ejeksi, Kreatinin_serum, Sodium_serum] ]\n",
        "\n",
        "y_output1 = model_1.predict(X_input)\n",
        "y_output2 = model_2.predict(X_input)\n",
        "y_output3 = model_3.predict(X_input)\n",
        "y_output4 = model_4.predict(X_input)\n",
        "\n",
        "if y_output1 == 0:\n",
        "    print('Berdasarkan prediksi menggunakan Logistic regression, pasien di prediksi selamat')\n",
        "else:\n",
        "    print('Berdasarkan prediksi menggunakan Logistic regression, pasien di prediksi tidak selamat')\n",
        "\n",
        "if y_output2 == 0:\n",
        "    print('Berdasarkan prediksi menggunakan Random Forest, pasien di prediksi selamat')\n",
        "else:\n",
        "    print('Berdasarkan prediksi menggunakan Random Forest, pasien di prediksi tidak selamat')\n",
        "\n",
        "if y_output3 == 0:\n",
        "    print('Berdasarkan Prediksi menggunakan Decision Tree, pasien di prediksi selamat')\n",
        "else:\n",
        "    print('Berdasarkan prediksi menggunakan Decision Tree, pasien di prediksi tidak selamat')\n",
        "\n",
        "if y_output4 == 0:\n",
        "    print('Berdasarkan prediksi menggunakan KNN, pasien di prediksi selamat')\n",
        "else:\n",
        "    print('Berdasarkan prediksi menggunakan KNN, pasien di prediksi tidak selamat')"
      ]
    },
    {
      "cell_type": "markdown",
      "metadata": {
        "id": "PIFOyRCzhhzM"
      },
      "source": [
        "### 10.1.1 Ensemble Model Data Asli Metode Voting\n",
        "\n",
        "Menggabungkan prediksi dari beberapa model dan memilih prediksi dengan mayoritas suara sebagai hasil akhir."
      ]
    },
    {
      "cell_type": "code",
      "execution_count": null,
      "metadata": {
        "colab": {
          "base_uri": "https://localhost:8080/"
        },
        "id": "ri7x_N3Ekdsm",
        "outputId": "d891bff8-12de-4beb-bde5-d145d8c3efd3"
      },
      "outputs": [
        {
          "name": "stdin",
          "output_type": "stream",
          "text": [
            "Usia : 70\n",
            "Fraksi Ejeksi : 25\n",
            "Kreatinin Serum : 2\n",
            "Sodium Serum : 110\n"
          ]
        },
        {
          "name": "stdout",
          "output_type": "stream",
          "text": [
            "Berdasarkan prediksi menggunakan voting model, pasien diprediksi tidak selamat\n"
          ]
        }
      ],
      "source": [
        "from sklearn.ensemble import VotingClassifier\n",
        "\n",
        "# Membangun ensemble model dengan metode Voting\n",
        "voting = VotingClassifier(estimators=[\n",
        "    ('Logistic Regression', model_1),\n",
        "    ('Random Forest', model_2),\n",
        "    ('SVM', model_3),\n",
        "    ('KNN', model_4)\n",
        "], voting='hard')  # Voting menggunakan mayoritas voting (hard voting)\n",
        "\n",
        "# Melatih model ensemble\n",
        "voting.fit(X_train, y_train)\n",
        "\n",
        "# Inputan data baru\n",
        "Usia = float(input('Usia :'))\n",
        "Fraksi_ejeksi = float(input('Fraksi Ejeksi :'))\n",
        "Kreatinin_serum = float(input('Kreatinin Serum :'))\n",
        "Sodium_serum = float(input('Sodium Serum :'))\n",
        "\n",
        "X_input = [[Usia, Fraksi_ejeksi, Kreatinin_serum, Sodium_serum]]\n",
        "\n",
        "# Melakukan prediksi dengan model ensemble\n",
        "y_voting = voting.predict(X_input)\n",
        "\n",
        "if y_voting == 0:\n",
        "    print('Berdasarkan prediksi menggunakan voting model, pasien diprediksi selamat')\n",
        "else:\n",
        "    print('Berdasarkan prediksi menggunakan voting model, pasien diprediksi tidak selamat')"
      ]
    },
    {
      "cell_type": "code",
      "execution_count": null,
      "metadata": {
        "colab": {
          "base_uri": "https://localhost:8080/"
        },
        "id": "LI4sU7nyoMFG",
        "outputId": "343b7164-6535-41ab-f919-bf31334e7771"
      },
      "outputs": [
        {
          "name": "stdout",
          "output_type": "stream",
          "text": [
            "Akurasi Model Voting: 73.33%\n"
          ]
        }
      ],
      "source": [
        "# Melakukan prediksi dengan model voting pada data uji\n",
        "y_pred_voting = voting.predict(X_test)\n",
        "\n",
        "# Menghitung akurasi model voting\n",
        "accuracyvoting = accuracy_score(y_test, y_pred_voting)\n",
        "\n",
        "print(\"Akurasi Model Voting: {:.2f}%\".format(accuracyvoting * 100))\n"
      ]
    },
    {
      "cell_type": "markdown",
      "metadata": {
        "id": "7raoyfXxiroq"
      },
      "source": [
        "### 10.1.2 Ensamble Model Data Asli Metode Bagging\n",
        "\n",
        "Melakukan pelatihan beberapa model dengan menggunakan subset acak dari data pelatihan."
      ]
    },
    {
      "cell_type": "code",
      "execution_count": null,
      "metadata": {
        "colab": {
          "base_uri": "https://localhost:8080/"
        },
        "id": "UxNRMILWiq3Z",
        "outputId": "be6c2087-da59-42dd-f819-ae6090642d58"
      },
      "outputs": [
        {
          "name": "stdin",
          "output_type": "stream",
          "text": [
            "Usia : 70\n",
            "Fraksi Ejeksi : 25\n",
            "Kreatinin Serum : 2\n",
            "Sodium Serum : 110\n"
          ]
        },
        {
          "name": "stdout",
          "output_type": "stream",
          "text": [
            "Berdasarkan prediksi menggunakan bagging model, pasien diprediksi tidak selamat\n"
          ]
        }
      ],
      "source": [
        "from sklearn.ensemble import BaggingClassifier\n",
        "\n",
        "# Membangun ensemble model dengan metode Bagging\n",
        "\n",
        "bagging = BaggingClassifier(base_estimator=model_1, n_estimators=10, random_state=42)\n",
        "\n",
        "# Melatih model ensemble\n",
        "bagging.fit(X_train, y_train)\n",
        "\n",
        "# Inputan data baru\n",
        "Usia = float(input('Usia :'))\n",
        "Fraksi_ejeksi = float(input('Fraksi Ejeksi :'))\n",
        "Kreatinin_serum = float(input('Kreatinin Serum :'))\n",
        "Sodium_serum = float(input('Sodium Serum :'))\n",
        "\n",
        "X_inputbagging = [[Usia, Fraksi_ejeksi, Kreatinin_serum, Sodium_serum]]\n",
        "\n",
        "# Melakukan prediksi dengan model ensemble\n",
        "y_bagging = bagging.predict(X_inputbagging)\n",
        "\n",
        "if y_bagging == 0:\n",
        "    print('Berdasarkan prediksi menggunakan bagging model, pasien diprediksi selamat')\n",
        "else:\n",
        "    print('Berdasarkan prediksi menggunakan bagging model, pasien diprediksi tidak selamat')\n"
      ]
    },
    {
      "cell_type": "code",
      "execution_count": null,
      "metadata": {
        "colab": {
          "base_uri": "https://localhost:8080/"
        },
        "id": "_zE_ZUgS0tt7",
        "outputId": "a9d4969a-2262-4f1c-f805-e832be9eecee"
      },
      "outputs": [
        {
          "name": "stdout",
          "output_type": "stream",
          "text": [
            "Akurasi Model Voting: 71.11%\n"
          ]
        }
      ],
      "source": [
        "# Melakukan prediksi dengan model bagging pada data uji\n",
        "y_pred_bagging = bagging.predict(X_test)\n",
        "\n",
        "# Menghitung akurasi model voting\n",
        "accuracybagging = accuracy_score(y_test, y_pred_bagging)\n",
        "\n",
        "print(\"Akurasi Model Voting: {:.2f}%\".format(accuracybagging * 100))\n"
      ]
    },
    {
      "cell_type": "markdown",
      "metadata": {
        "id": "uKmM-Tll1Vi7"
      },
      "source": [
        "## 10.2 Random Under Sampling"
      ]
    },
    {
      "cell_type": "code",
      "execution_count": null,
      "metadata": {
        "colab": {
          "base_uri": "https://localhost:8080/",
          "height": 206
        },
        "id": "hruW_gsohrR7",
        "outputId": "f59f815f-49ad-4e10-fdcb-548ff8b7af4d"
      },
      "outputs": [
        {
          "data": {
            "text/html": [
              "<div>\n",
              "<style scoped>\n",
              "    .dataframe tbody tr th:only-of-type {\n",
              "        vertical-align: middle;\n",
              "    }\n",
              "\n",
              "    .dataframe tbody tr th {\n",
              "        vertical-align: top;\n",
              "    }\n",
              "\n",
              "    .dataframe thead th {\n",
              "        text-align: right;\n",
              "    }\n",
              "</style>\n",
              "<table border=\"1\" class=\"dataframe\">\n",
              "  <thead>\n",
              "    <tr style=\"text-align: right;\">\n",
              "      <th></th>\n",
              "      <th>Usia</th>\n",
              "      <th>Fraksi_ejeksi</th>\n",
              "      <th>Kreatinin_serum</th>\n",
              "      <th>Sodium_serum</th>\n",
              "    </tr>\n",
              "  </thead>\n",
              "  <tbody>\n",
              "    <tr>\n",
              "      <th>0</th>\n",
              "      <td>40.0</td>\n",
              "      <td>45</td>\n",
              "      <td>0.90</td>\n",
              "      <td>140</td>\n",
              "    </tr>\n",
              "    <tr>\n",
              "      <th>1</th>\n",
              "      <td>45.0</td>\n",
              "      <td>38</td>\n",
              "      <td>0.80</td>\n",
              "      <td>137</td>\n",
              "    </tr>\n",
              "    <tr>\n",
              "      <th>2</th>\n",
              "      <td>70.0</td>\n",
              "      <td>60</td>\n",
              "      <td>1.10</td>\n",
              "      <td>145</td>\n",
              "    </tr>\n",
              "    <tr>\n",
              "      <th>3</th>\n",
              "      <td>42.0</td>\n",
              "      <td>40</td>\n",
              "      <td>1.20</td>\n",
              "      <td>140</td>\n",
              "    </tr>\n",
              "    <tr>\n",
              "      <th>4</th>\n",
              "      <td>73.0</td>\n",
              "      <td>30</td>\n",
              "      <td>1.18</td>\n",
              "      <td>142</td>\n",
              "    </tr>\n",
              "  </tbody>\n",
              "</table>\n",
              "</div>"
            ],
            "text/plain": [
              "   Usia  Fraksi_ejeksi  Kreatinin_serum  Sodium_serum\n",
              "0  40.0             45             0.90           140\n",
              "1  45.0             38             0.80           137\n",
              "2  70.0             60             1.10           145\n",
              "3  42.0             40             1.20           140\n",
              "4  73.0             30             1.18           142"
            ]
          },
          "execution_count": 102,
          "metadata": {},
          "output_type": "execute_result"
        }
      ],
      "source": [
        "X_fit1.head()"
      ]
    },
    {
      "cell_type": "code",
      "execution_count": null,
      "metadata": {
        "colab": {
          "base_uri": "https://localhost:8080/"
        },
        "id": "PmMBk6zwjc4G",
        "outputId": "2ca36bd2-c38c-48f0-d30e-6c2b8ab592dd"
      },
      "outputs": [
        {
          "name": "stdin",
          "output_type": "stream",
          "text": [
            "Usia : 70\n",
            "Fraksi Ejeksi : 25\n",
            "Kreatinin Serum : 2\n",
            "Sodium Serum : 110\n"
          ]
        },
        {
          "name": "stdout",
          "output_type": "stream",
          "text": [
            "Berdasarkan prediksi menggunakan Logistic regression maka pasien tidak selamat\n",
            "Berdasarkan prediksi menggunakan Random Forest maka pasien tidak selamat\n",
            "Berdasarkan prediksi menggunakan Decision Tree maka pasien tidak selamat\n",
            "Berdasarkan prediksi menggunakan KNN maka pasien tidak selamat\n"
          ]
        }
      ],
      "source": [
        "Usia = float(input('Usia :'))\n",
        "Fraksi_ejeksi = float(input('Fraksi Ejeksi :'))\n",
        "Kreatinin_serum = float(input('Kreatinin Serum :'))\n",
        "Sodium_serum = float(input('Sodium Serum :'))\n",
        "\n",
        "X_inputrus = [[Usia, Fraksi_ejeksi, Kreatinin_serum, Sodium_serum] ]\n",
        "\n",
        "y_output1a = model_1a.predict(X_inputrus)\n",
        "y_output2a = model_2a.predict(X_inputrus)\n",
        "y_output3a = model_3a.predict(X_inputrus)\n",
        "y_output4a = model_4a.predict(X_inputrus)\n",
        "\n",
        "if y_output1a == 0:\n",
        "    print('Berdasarkan prediksi menggunakan Logistic regression maka pasien selamat')\n",
        "else:\n",
        "    print('Berdasarkan prediksi menggunakan Logistic regression maka pasien tidak selamat')\n",
        "\n",
        "if y_output2a == 0:\n",
        "    print('Berdasarkan prediksi menggunakan Random Forest maka pasien selamat')\n",
        "else:\n",
        "    print('Berdasarkan prediksi menggunakan Random Forest maka pasien tidak selamat')\n",
        "\n",
        "if y_output3a == 0:\n",
        "    print('Berdasarkan prediksi menggunakan Decision Tree maka pasien selamat')\n",
        "else:\n",
        "    print('Berdasarkan prediksi menggunakan Decision Tree maka pasien tidak selamat')\n",
        "\n",
        "if y_output4a == 0:\n",
        "    print('Berdasarkan prediksi menggunakan KNN maka pasien selamat')\n",
        "else:\n",
        "    print('Berdasarkan prediksi menggunakan KNN maka pasien tidak selamat')"
      ]
    },
    {
      "cell_type": "markdown",
      "metadata": {
        "id": "Paahx8bP3w1i"
      },
      "source": [
        "### 10.2.1 Ensamble Model Data Random Under Sampling Metode Voting"
      ]
    },
    {
      "cell_type": "code",
      "execution_count": null,
      "metadata": {
        "colab": {
          "base_uri": "https://localhost:8080/"
        },
        "id": "KfRuutov2cjD",
        "outputId": "7d39fd1f-acf5-486a-9241-7de5dcfa19d5"
      },
      "outputs": [
        {
          "name": "stdin",
          "output_type": "stream",
          "text": [
            "Usia : 70\n",
            "Fraksi Ejeksi : 25\n",
            "Kreatinin Serum : 2\n",
            "Sodium Serum : 110\n"
          ]
        },
        {
          "name": "stdout",
          "output_type": "stream",
          "text": [
            "Berdasarkan prediksi menggunakan voting model, pasien diprediksi tidak selamat\n"
          ]
        }
      ],
      "source": [
        "from sklearn.ensemble import VotingClassifier\n",
        "\n",
        "# Membangun ensemble model dengan metode Voting\n",
        "voting_rus = VotingClassifier(estimators=[\n",
        "    ('Logistic Regression', model_1a),\n",
        "    ('Random Forest', model_2a),\n",
        "    ('SVM', model_3a),\n",
        "    ('KNN', model_4a)\n",
        "], voting='hard')  # Voting menggunakan mayoritas voting (hard voting)\n",
        "\n",
        "# Melatih model ensemble\n",
        "voting_rus.fit(X_train1, y_train1)\n",
        "\n",
        "# Inputan data baru\n",
        "Usia = float(input('Usia :'))\n",
        "Fraksi_ejeksi = float(input('Fraksi Ejeksi :'))\n",
        "Kreatinin_serum = float(input('Kreatinin Serum :'))\n",
        "Sodium_serum = float(input('Sodium Serum :'))\n",
        "\n",
        "X_input_rus = [[Usia, Fraksi_ejeksi, Kreatinin_serum, Sodium_serum]]\n",
        "\n",
        "# Melakukan prediksi dengan model ensemble\n",
        "rusvoting = voting_rus.predict(X_input_rus)\n",
        "\n",
        "if rusvoting == 0:\n",
        "    print('Berdasarkan prediksi menggunakan voting model, pasien diprediksi selamat')\n",
        "else:\n",
        "    print('Berdasarkan prediksi menggunakan voting model, pasien diprediksi tidak selamat')"
      ]
    },
    {
      "cell_type": "code",
      "execution_count": null,
      "metadata": {
        "colab": {
          "base_uri": "https://localhost:8080/"
        },
        "id": "M5rTzquT21aZ",
        "outputId": "a6ed1c18-6d33-4422-f8ee-ea4e550a8321"
      },
      "outputs": [
        {
          "name": "stdout",
          "output_type": "stream",
          "text": [
            "Akurasi Model Voting: 82.76%\n"
          ]
        }
      ],
      "source": [
        "# Melakukan prediksi dengan model voting pada data uji\n",
        "y_pred_voting_rus = voting_rus.predict(X_test1)\n",
        "\n",
        "# Menghitung akurasi model voting\n",
        "accuracyvotingus = accuracy_score(y_test1, y_pred_voting_rus)\n",
        "\n",
        "print(\"Akurasi Model Voting: {:.2f}%\".format(accuracyvotingus * 100))\n"
      ]
    },
    {
      "cell_type": "markdown",
      "metadata": {
        "id": "U4jH8hSu4FBH"
      },
      "source": [
        "### 10.2.2 Ensamble Model Data Random Under Sampling Metode Bagging"
      ]
    },
    {
      "cell_type": "code",
      "execution_count": null,
      "metadata": {
        "colab": {
          "base_uri": "https://localhost:8080/"
        },
        "id": "N1dR21m44P14",
        "outputId": "965a5090-9038-4700-e099-99892cf771a4"
      },
      "outputs": [
        {
          "name": "stdin",
          "output_type": "stream",
          "text": [
            "Usia : 70\n",
            "Fraksi Ejeksi : 25\n",
            "Kreatinin Serum : 2\n",
            "Sodium Serum : 110\n"
          ]
        },
        {
          "name": "stdout",
          "output_type": "stream",
          "text": [
            "Berdasarkan prediksi menggunakan bagging model, pasien diprediksi tidak selamat\n"
          ]
        }
      ],
      "source": [
        "from sklearn.ensemble import BaggingClassifier\n",
        "\n",
        "# Membangun ensemble model dengan metode Bagging\n",
        "\n",
        "baggingrus = BaggingClassifier(base_estimator=model_1a, n_estimators=10, random_state=42)\n",
        "\n",
        "# Melatih model ensemble\n",
        "baggingrus.fit(X_train1, y_train1)\n",
        "\n",
        "# Inputan data baru\n",
        "Usia = float(input('Usia :'))\n",
        "Fraksi_ejeksi = float(input('Fraksi Ejeksi :'))\n",
        "Kreatinin_serum = float(input('Kreatinin Serum :'))\n",
        "Sodium_serum = float(input('Sodium Serum :'))\n",
        "\n",
        "Xbagging = [[Usia, Fraksi_ejeksi, Kreatinin_serum, Sodium_serum]]\n",
        "\n",
        "# Melakukan prediksi dengan model ensemble\n",
        "y_bagging = baggingrus.predict(Xbagging)\n",
        "\n",
        "if y_bagging == 0:\n",
        "    print('Berdasarkan prediksi menggunakan bagging model, pasien diprediksi selamat')\n",
        "else:\n",
        "    print('Berdasarkan prediksi menggunakan bagging model, pasien diprediksi tidak selamat')"
      ]
    },
    {
      "cell_type": "code",
      "execution_count": null,
      "metadata": {
        "colab": {
          "base_uri": "https://localhost:8080/"
        },
        "id": "zI265K_c55wB",
        "outputId": "b9ebf929-de33-4ff2-986d-6cf62b257ee6"
      },
      "outputs": [
        {
          "name": "stdout",
          "output_type": "stream",
          "text": [
            "Akurasi Model Bagging: 79.31%\n"
          ]
        }
      ],
      "source": [
        "# Melakukan prediksi dengan model voting pada data uji\n",
        "y_pred_bagging_rus = baggingrus.predict(X_test1)\n",
        "\n",
        "# Menghitung akurasi model voting\n",
        "accuracybaggingrus = accuracy_score(y_test1, y_pred_bagging_rus)\n",
        "\n",
        "print(\"Akurasi Model Bagging: {:.2f}%\".format(accuracybaggingrus * 100))\n"
      ]
    },
    {
      "cell_type": "markdown",
      "metadata": {
        "id": "8naFYSkZ19Lv"
      },
      "source": [
        "## 10.3 SMOTE"
      ]
    },
    {
      "cell_type": "code",
      "execution_count": null,
      "metadata": {
        "colab": {
          "base_uri": "https://localhost:8080/"
        },
        "id": "u_8J9GjP2Ah7",
        "outputId": "32c7e598-19da-4c61-9d7d-0805b2922e8a"
      },
      "outputs": [
        {
          "name": "stdin",
          "output_type": "stream",
          "text": [
            "Usia : 70\n",
            "Fraksi Ejeksi : 25\n",
            "Kreatinin Serum : 2\n",
            "Sodium Serum : 110\n"
          ]
        },
        {
          "name": "stdout",
          "output_type": "stream",
          "text": [
            "Berdasarkan prediksi menggunakan Logistic regression maka pasien tidak selamat\n",
            "Berdasarkan prediksi menggunakan Random Forest maka pasien tidak selamat\n",
            "Berdasarkan prediksi menggunakan Decision Tree maka pasien tidak selamat\n",
            "Berdasarkan prediksi menggunakan KNN maka pasien tidak selamat\n"
          ]
        }
      ],
      "source": [
        "Usia = float(input('Usia :'))\n",
        "Fraksi_ejeksi = float(input('Fraksi Ejeksi :'))\n",
        "Kreatinin_serum = float(input('Kreatinin Serum :'))\n",
        "Sodium_serum = float(input('Sodium Serum :'))\n",
        "\n",
        "X_input1 = [[Usia, Fraksi_ejeksi, Kreatinin_serum, Sodium_serum] ]\n",
        "\n",
        "y_output1b = model_1b.predict(X_input1)\n",
        "y_output2b = model_2b.predict(X_input1)\n",
        "y_output3b = model_3b.predict(X_input1)\n",
        "y_output4b = model_4b.predict(X_input1)\n",
        "\n",
        "if y_output1b == 0:\n",
        "    print('Berdasarkan prediksi menggunakan Logistic regression maka pasien selamat')\n",
        "else:\n",
        "    print('Berdasarkan prediksi menggunakan Logistic regression maka pasien tidak selamat')\n",
        "\n",
        "if y_output2b == 0:\n",
        "    print('Berdasarkan prediksi menggunakan Random Forest maka pasien selamat')\n",
        "else:\n",
        "    print('Berdasarkan prediksi menggunakan Random Forest maka pasien tidak selamat')\n",
        "\n",
        "if y_output3b == 0:\n",
        "    print('Berdasarkan prediksi menggunakan Decision Tree maka pasien selamat')\n",
        "else:\n",
        "    print('Berdasarkan prediksi menggunakan Decision Tree maka pasien tidak selamat')\n",
        "\n",
        "if y_output4b == 0:\n",
        "    print('Berdasarkan prediksi menggunakan KNN maka pasien selamat')\n",
        "else:\n",
        "    print('Berdasarkan prediksi menggunakan KNN maka pasien tidak selamat')"
      ]
    },
    {
      "cell_type": "markdown",
      "metadata": {
        "id": "2wqHEkCy6RN5"
      },
      "source": [
        "### 10.3.1 Ensamble Model Data SMOTE Metode Voting"
      ]
    },
    {
      "cell_type": "code",
      "execution_count": null,
      "metadata": {
        "colab": {
          "base_uri": "https://localhost:8080/"
        },
        "id": "6sYvPgHE6Rjm",
        "outputId": "d21228eb-7385-42a7-e59c-9c8b8b5805ec"
      },
      "outputs": [
        {
          "name": "stdin",
          "output_type": "stream",
          "text": [
            "Usia : 70\n",
            "Fraksi Ejeksi : 25\n",
            "Kreatinin Serum : 2\n",
            "Sodium Serum : 110\n"
          ]
        },
        {
          "name": "stdout",
          "output_type": "stream",
          "text": [
            "Berdasarkan prediksi menggunakan voting model, pasien diprediksi tidak selamat\n"
          ]
        }
      ],
      "source": [
        "from sklearn.ensemble import VotingClassifier\n",
        "\n",
        "# Membangun ensemble model dengan metode Voting\n",
        "voting_smote = VotingClassifier(estimators=[\n",
        "    ('Logistic Regression', model_1b),\n",
        "    ('Random Forest', model_2b),\n",
        "    ('SVM', model_3b),\n",
        "    ('KNN', model_4b)\n",
        "], voting='hard')  # Voting menggunakan mayoritas voting (hard voting)\n",
        "\n",
        "# Melatih model ensemble\n",
        "voting_smote.fit(X_train2, y_train2)\n",
        "\n",
        "# Inputan data baru\n",
        "Usia = float(input('Usia :'))\n",
        "Fraksi_ejeksi = float(input('Fraksi Ejeksi :'))\n",
        "Kreatinin_serum = float(input('Kreatinin Serum :'))\n",
        "Sodium_serum = float(input('Sodium Serum :'))\n",
        "\n",
        "X_input_smote = [[Usia, Fraksi_ejeksi, Kreatinin_serum, Sodium_serum]]\n",
        "\n",
        "# Melakukan prediksi dengan model ensemble\n",
        "smotevoting = voting_smote.predict(X_input_smote)\n",
        "\n",
        "if smotevoting == 0:\n",
        "    print('Berdasarkan prediksi menggunakan voting model, pasien diprediksi selamat')\n",
        "else:\n",
        "    print('Berdasarkan prediksi menggunakan voting model, pasien diprediksi tidak selamat')"
      ]
    },
    {
      "cell_type": "code",
      "execution_count": null,
      "metadata": {
        "colab": {
          "base_uri": "https://localhost:8080/"
        },
        "id": "kWG889SU61G6",
        "outputId": "693958a3-5b4e-4994-eb64-1fd3e333414f"
      },
      "outputs": [
        {
          "name": "stdout",
          "output_type": "stream",
          "text": [
            "Akurasi Model Voting: 75.41%\n"
          ]
        }
      ],
      "source": [
        "# Melakukan prediksi dengan model voting pada data uji\n",
        "ypredvotingsmote = voting_smote.predict(X_test2)\n",
        "\n",
        "# Menghitung akurasi model voting\n",
        "accuracyvotingsmote = accuracy_score(y_test2, ypredvotingsmote)\n",
        "\n",
        "print(\"Akurasi Model Voting: {:.2f}%\".format(accuracyvotingsmote * 100))"
      ]
    },
    {
      "cell_type": "markdown",
      "metadata": {
        "id": "y_6JaOqF8G3C"
      },
      "source": [
        "### 10.3.2 Ensamble Model Data SMOTE Sampling Metode Bagging"
      ]
    },
    {
      "cell_type": "code",
      "execution_count": null,
      "metadata": {
        "colab": {
          "base_uri": "https://localhost:8080/"
        },
        "id": "IvjXNTTa8LvY",
        "outputId": "637638b1-5b49-4173-84ae-06af7a770786"
      },
      "outputs": [
        {
          "name": "stdin",
          "output_type": "stream",
          "text": [
            "Usia : 70\n",
            "Fraksi Ejeksi : 25\n",
            "Kreatinin Serum : 2\n",
            "Sodium Serum : 110\n"
          ]
        },
        {
          "name": "stdout",
          "output_type": "stream",
          "text": [
            "Berdasarkan prediksi menggunakan bagging model, pasien diprediksi tidak selamat\n"
          ]
        }
      ],
      "source": [
        "from sklearn.ensemble import BaggingClassifier\n",
        "\n",
        "# Membangun ensemble model dengan metode Bagging\n",
        "\n",
        "baggingsmote = BaggingClassifier(base_estimator=model_1b, n_estimators=10, random_state=42)\n",
        "\n",
        "# Melatih model ensemble\n",
        "baggingsmote.fit(X_train2, y_train2)\n",
        "\n",
        "# Inputan data baru\n",
        "Usia = float(input('Usia :'))\n",
        "Fraksi_ejeksi = float(input('Fraksi Ejeksi :'))\n",
        "Kreatinin_serum = float(input('Kreatinin Serum :'))\n",
        "Sodium_serum = float(input('Sodium Serum :'))\n",
        "\n",
        "Xbagging2 = [[Usia, Fraksi_ejeksi, Kreatinin_serum, Sodium_serum]]\n",
        "\n",
        "# Melakukan prediksi dengan model ensemble\n",
        "y_bagging2 = baggingsmote.predict(Xbagging)\n",
        "\n",
        "if y_bagging2 == 0:\n",
        "    print('Berdasarkan prediksi menggunakan bagging model, pasien diprediksi selamat')\n",
        "else:\n",
        "    print('Berdasarkan prediksi menggunakan bagging model, pasien diprediksi tidak selamat')"
      ]
    },
    {
      "cell_type": "code",
      "execution_count": null,
      "metadata": {
        "colab": {
          "base_uri": "https://localhost:8080/"
        },
        "id": "5N6ksgnA8asN",
        "outputId": "41dcd78e-975c-4792-8be5-5d6107aac8fa"
      },
      "outputs": [
        {
          "name": "stdout",
          "output_type": "stream",
          "text": [
            "Akurasi Model Voting: 77.87%\n"
          ]
        }
      ],
      "source": [
        "# Melakukan prediksi dengan model voting pada data uji\n",
        "y_pred_bagging_smote = baggingsmote.predict(X_test2)\n",
        "\n",
        "# Menghitung akurasi model voting\n",
        "accuracybaggingsmote = accuracy_score(y_test2, y_pred_bagging_smote)\n",
        "\n",
        "print(\"Akurasi Model Voting: {:.2f}%\".format(accuracybaggingsmote * 100))\n"
      ]
    },
    {
      "cell_type": "markdown",
      "metadata": {
        "id": "yOWkCHA6s98J"
      },
      "source": [
        "# KESIMPULAN"
      ]
    },
    {
      "cell_type": "code",
      "execution_count": null,
      "metadata": {
        "colab": {
          "base_uri": "https://localhost:8080/"
        },
        "id": "rqzKptbttAtf",
        "outputId": "7aad6958-0f8e-471f-bfb0-5177d5230aeb"
      },
      "outputs": [
        {
          "name": "stdout",
          "output_type": "stream",
          "text": [
            "Akurasi Logistic Regression Data Asli: 0.6888888888888889\n",
            "Akurasi Logistic Regression Random Under Sampling: 0.7931034482758621\n",
            "Akurasi Logistic Regression SMOTE: 0.7786885245901639\n",
            "\n",
            "Akurasi Random Forest Classifier Data Asli: 0.6888888888888889\n",
            "Akurasi Random Forest Classifier Random Under Sampling: 0.7931034482758621\n",
            "Akurasi Random Forest Classifier SMOTE: 0.7377049180327869\n",
            "\n",
            "Akurasi Decision Tree Classifier Data Asli: 0.6888888888888889\n",
            "Akurasi Decision Tree Classifier Random Under Sampling: 0.6551724137931034\n",
            "Akurasi Decision Tree Classifier SMOTE: 0.7459016393442623\n",
            "\n",
            "Akurasi KNN Classifier Data Asli: 0.7222222222222222\n",
            "Akurasi KNN Classifier Random Under Sampling: 0.7758620689655172\n",
            "Akurasi KNN Classifier SMOTE: 0.6967213114754098\n",
            "\n",
            "Akurasi Ensemble Model Data Asli Metode Voting: 0.7333333333333333\n",
            "Akurasi Ensemble Model Data Asli Metode Bagging: 0.7111111111111111\n",
            "\n",
            "Akurasi Ensemble Model Data Random Under Sampling Metode Voting: 0.8275862068965517\n",
            "Akurasi Ensemble Model Data Random Under Sampling Metode Bagging: 0.7931034482758621\n",
            "\n",
            "Akurasi Ensemble Model Data SMOTE Metode Voting: 0.7540983606557377\n",
            "Akurasi Ensemble Model Data SMOTE Metode Bagging: 0.7786885245901639\n"
          ]
        }
      ],
      "source": [
        "print('Akurasi Logistic Regression Data Asli:', accuracy1)\n",
        "print('Akurasi Logistic Regression Random Under Sampling:', accuracy1a)\n",
        "print('Akurasi Logistic Regression SMOTE:', accuracy1b)\n",
        "print('\\nAkurasi Random Forest Classifier Data Asli:', accuracy2)\n",
        "print('Akurasi Random Forest Classifier Random Under Sampling:', accuracy2a)\n",
        "print('Akurasi Random Forest Classifier SMOTE:', accuracy2b)\n",
        "print('\\nAkurasi Decision Tree Classifier Data Asli:', accuracy3)\n",
        "print('Akurasi Decision Tree Classifier Random Under Sampling:', accuracy3a)\n",
        "print('Akurasi Decision Tree Classifier SMOTE:', accuracy3b)\n",
        "print('\\nAkurasi KNN Classifier Data Asli:', accuracy4)\n",
        "print('Akurasi KNN Classifier Random Under Sampling:', accuracy4a)\n",
        "print('Akurasi KNN Classifier SMOTE:', accuracy4b)\n",
        "print('\\nAkurasi Ensemble Model Data Asli Metode Voting:', accuracyvoting)\n",
        "print('Akurasi Ensemble Model Data Asli Metode Bagging:', accuracybagging)\n",
        "print('\\nAkurasi Ensemble Model Data Random Under Sampling Metode Voting:', accuracyvotingus)\n",
        "print('Akurasi Ensemble Model Data Random Under Sampling Metode Bagging:', accuracybaggingrus)\n",
        "print('\\nAkurasi Ensemble Model Data SMOTE Metode Voting:', accuracyvotingsmote)\n",
        "print('Akurasi Ensemble Model Data SMOTE Metode Bagging:', accuracybaggingsmote)"
      ]
    },
    {
      "cell_type": "markdown",
      "metadata": {
        "id": "HiKZz9IctQTK"
      },
      "source": [
        "\n",
        "- 4 Faktor tertinggi yang dapat mempengaruhi pasien meninggal yaitu Usia, Fraksi_ejeksi, Kreatinin_serum, Sodium_serum.\n",
        "- Akurasi data asli tertinggi adalah KNN sebesar 72%,  setelah di resampling menggunakan random under sampling akurasi tertingginya Logistic Regression dan Random Forest sebesar 79%. Namun setelah di resampling dengan metode SMOTE akurasi tertingginya yaitu Logistic Regression sebesar 77%.\n",
        "- Nilai recall yang didapatkan dengan data asli relatif kecil, Maka dari itu dilakukan resampling data dengan menggunakan metode Random Under Sampling yang mana menghasilkan nilai recall yang lebih tinggi. Untuk resampling dengan motede SMOTE juga memiliki nilai recall lebih tinggi jika dibandingkan dengan data asli yang tidak dilakukan resampling data.\n",
        "- Perlakukan resampling pada data akan menaikkan nilai recall karena bias terhadap suatu nilai yang ingin diprediksi tidak berkurang.\n",
        "- Nilai Precision yang didapatkan dari model yang menggunakan data yang sudah dilakukan resampling juga relatif lebih tinggi, yang menunjukkan bahwa model memiliki kemampuan yang lebih baik dalam mengklasifikasikan anggota dari kelas minoritas\n",
        "- Setelah dilakukan analisa dari ke 4 model baik sebelum dan setelah resampling data menggunakan random under sampling dan SMOTE, semuanya memiliki hasil prediksi yang sama apabila kita menginputkan data yang sama. \n",
        "- Ensemble model dapat menghasilkan performa yang lebih baik daripada menggunakan model tunggal. Metode yang digunakan yaitu Hard Voting (memilih kelas dengan mayoritas suara) dan Bagging. \n",
        "- Akurasi ensamble model data asli dan model data Random Under Sampling lebih tinggi akurasi metode voting dibanding bagging. Namun ketika ensemble model data SMOTE lebih tinggi akurasi metode Bagging."
      ]
    }
  ],
  "metadata": {
    "colab": {
      "provenance": [],
      "include_colab_link": true
    },
    "kernelspec": {
      "display_name": "Python 3 (ipykernel)",
      "language": "python",
      "name": "python3"
    },
    "language_info": {
      "codemirror_mode": {
        "name": "ipython",
        "version": 3
      },
      "file_extension": ".py",
      "mimetype": "text/x-python",
      "name": "python",
      "nbconvert_exporter": "python",
      "pygments_lexer": "ipython3",
      "version": "3.9.13"
    }
  },
  "nbformat": 4,
  "nbformat_minor": 0
}